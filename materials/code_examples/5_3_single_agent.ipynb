{
 "cells": [
  {
   "cell_type": "markdown",
   "id": "b15d6c75-db6d-45eb-964c-23c6ecdef75d",
   "metadata": {
    "slideshow": {
     "slide_type": "slide"
    },
    "tags": []
   },
   "source": [
    "*AGEC 652 - Spring 2022*\n",
    "# Structural estimation of a single-agent model\n",
    "## Consumption and taxed labor supply"
   ]
  },
  {
   "cell_type": "markdown",
   "id": "4ffec8f9-810f-4d99-af9a-3296cdc05056",
   "metadata": {
    "slideshow": {
     "slide_type": "slide"
    },
    "tags": []
   },
   "source": [
    "## Agenda\n",
    "\n",
    "- You will estimate a model that is analytically simple, but with an econometric challenge that is complex enough to need the **Method of Simulated Moments (MSM)**\n",
    "    - First, you will program the solution for the model for any given value of the parameters (inner loop)\n",
    "    - Then, you will use optimization methods to search for the MSM estimates\n",
    "    - As we will see, MSM is just like Method of Moments, but with numerical integration to calculate the sample moments\n",
    "- The data used in this tutorial is synthetic: I generated it using numerical optimization with parameters that you will estimate"
   ]
  },
  {
   "cell_type": "markdown",
   "id": "9b719e98-2e2c-4d89-a3e9-99d0b4a2cf45",
   "metadata": {
    "slideshow": {
     "slide_type": "slide"
    },
    "tags": []
   },
   "source": [
    "## Research problem\n",
    "\n",
    "Question: **How do changes in income tax affect consumption?**\n",
    "\n",
    "We have data from a random sample of workers in a specific industry. For each individual, we observe:\n",
    "- Consumption level: $c_i$\n",
    "- Number of hours worked: $b_i$\n",
    "- Wage level: $w_i$"
   ]
  },
  {
   "cell_type": "markdown",
   "id": "8bcd91fe-69b6-4575-bad7-92f7b7c14799",
   "metadata": {
    "slideshow": {
     "slide_type": "fragment"
    },
    "tags": []
   },
   "source": [
    "Individuals are subject to a tax level $\\tau$ we do not observe\n",
    "\n",
    "We want to estimate $E\\left[\\frac{\\partial c}{\\partial \\tau}\\right]$"
   ]
  },
  {
   "cell_type": "markdown",
   "id": "f849c604-c430-4204-906f-babef9b088df",
   "metadata": {
    "slideshow": {
     "slide_type": "slide"
    },
    "tags": []
   },
   "source": [
    "## Model: theory\n",
    "\n",
    "Individuals derive utility from consumption $c_i \\ge 0$ and leisure $0 \\le l_i \\le 1$\n",
    "- We calculate $l_i$ using data on hours worked and normalize between 0 (no leisure = maximum hours of work allowed) and 1 (no work)\n",
    "\n",
    "$$U(c_i, l_i) = c_i^\\gamma l_i^{(1-\\gamma)}$$\n",
    "where $0 \\le \\gamma \\le 1$ is the relative preference for consumption over leasure"
   ]
  },
  {
   "cell_type": "markdown",
   "id": "f8917c5d-2845-41ae-972e-248ef8447805",
   "metadata": {
    "slideshow": {
     "slide_type": "fragment"
    },
    "tags": []
   },
   "source": [
    "The budget constraint is\n",
    "$$c_i \\le (1-\\tau)w_i(1-l_i) + \\epsilon_i$$\n",
    "where $\\epsilon_i$ represents other income not observed in the wage data"
   ]
  },
  {
   "cell_type": "markdown",
   "id": "ed37cf1b-ee41-42d7-bb9d-16a702976b51",
   "metadata": {
    "slideshow": {
     "slide_type": "slide"
    },
    "tags": []
   },
   "source": [
    "## Model: theory\n",
    "\n",
    "Given $(w_i, \\epsilon_i, \\gamma, \\tau)$, each agent solves\n",
    "$$\\max_{c_i, l_i} U(c_i, l_i) = c_i^\\gamma l_i^{(1-\\gamma)} \\\\\n",
    "s.t. c_i \\le (1-\\tau)w_i(1-l_i) + \\epsilon_i$$"
   ]
  },
  {
   "cell_type": "markdown",
   "id": "b136f933-fd07-45b3-a3d8-17d7a3d715b3",
   "metadata": {
    "slideshow": {
     "slide_type": "fragment"
    },
    "tags": []
   },
   "source": [
    "**Your turn, part 1**: \n",
    "Program function `solve_c_l(w, e, gamma, tau)` that solves the individual problem given model parameters and returns the solution vector  `[c, l]`\n",
    "\n",
    "Steps:\n",
    "1. Create the model with solver `Ipopt`\n",
    "2. With `@variable`, declare variables `c` and `l` and their limits\n",
    "3. With `@NLobjective`, declare the objective function\n",
    "4. With `@NLconstraint`, declare the budget constraint\n",
    "5. Solve (`optimize!(model)`) and return values of `c` and `l`"
   ]
  },
  {
   "cell_type": "code",
   "execution_count": 1,
   "id": "bd5f542c-b06c-4f71-9f37-06677ffa72b1",
   "metadata": {
    "slideshow": {
     "slide_type": "slide"
    },
    "tags": []
   },
   "outputs": [
    {
     "data": {
      "text/plain": [
       "solve_c_l (generic function with 1 method)"
      ]
     },
     "execution_count": 1,
     "metadata": {},
     "output_type": "execute_result"
    }
   ],
   "source": [
    "using JuMP, Ipopt\n",
    "function solve_c_l(w, e, gamma, tau)\n",
    "    model = Model(Ipopt.Optimizer)\n",
    "    # Declare variables\n",
    "    @variable(model, c >= 0)\n",
    "    @variable(model, 0 <= l <= 1)\n",
    "    # Declare objective\n",
    "    @NLobjective(model, Max, c^gamma * l^(1-gamma))\n",
    "    # Declare budget constraint\n",
    "    @NLconstraint(model, c <= (1-tau)*w*(1-l) + e)\n",
    "    set_silent(model) # Mute output\n",
    "    optimize!(model)\n",
    "    # Warn if error\n",
    "    if (termination_status(model) != LOCALLY_SOLVED)\n",
    "        println(\"Error: row $i, draw $j $(termination_status(model))\")\n",
    "    end\n",
    "    c = value(c)\n",
    "    l = value(l)\n",
    "    return (c, l)\n",
    "end"
   ]
  },
  {
   "cell_type": "markdown",
   "id": "51e8f181-697e-4406-8e96-eb002244fe2d",
   "metadata": {
    "slideshow": {
     "slide_type": "slide"
    },
    "tags": []
   },
   "source": [
    "Testing this function"
   ]
  },
  {
   "cell_type": "code",
   "execution_count": 2,
   "id": "b3fc5657-0e47-4972-8d47-87189d1b811a",
   "metadata": {},
   "outputs": [
    {
     "name": "stdout",
     "output_type": "stream",
     "text": [
      "\n",
      "******************************************************************************\n",
      "This program contains Ipopt, a library for large-scale nonlinear optimization.\n",
      " Ipopt is released as open source code under the Eclipse Public License (EPL).\n",
      "         For more information visit https://github.com/coin-or/Ipopt\n",
      "******************************************************************************\n",
      "\n"
     ]
    },
    {
     "data": {
      "text/plain": [
       "(37.00000000623763, 0.513888888350326)"
      ]
     },
     "execution_count": 2,
     "metadata": {},
     "output_type": "execute_result"
    }
   ],
   "source": [
    "solve_c_l(80.0, 2.0, 0.5, 0.1)"
   ]
  },
  {
   "cell_type": "markdown",
   "id": "76607539-2a28-41d6-9b4b-f22c2b4cb6c1",
   "metadata": {
    "slideshow": {
     "slide_type": "slide"
    },
    "tags": []
   },
   "source": [
    "## Model: statistical assumptions\n",
    "\n",
    "We assume that the unobserved portion of the income $\\epsilon_i$ is uncorrelated with wage rate $w_i$: $E[\\epsilon_i | w_i] = 0$\n",
    "- This assumption is generally unrealistic. In practice, we'd expect some correlation here because high-wage agents usually have higher non-labor income. But let's keep it simple for the sake of the exercise\n",
    "\n",
    "We will also assume that $\\epsilon_i \\sim \\mathcal{N}(0, \\sigma^2)$\n",
    "- To make estimation simpler, assume that we know that $\\sigma^2 = 1$"
   ]
  },
  {
   "cell_type": "markdown",
   "id": "732be82e-c018-4d9c-b5be-d3deb0699732",
   "metadata": {
    "slideshow": {
     "slide_type": "slide"
    },
    "tags": []
   },
   "source": [
    "## Estimation problem\n",
    "\n",
    "We want to\n",
    "1. Calculate parameters $\\gamma$, $\\tau$, and $\\sigma^2$ from data $(c_i, l_i, w_i)_{i=1}^N$\n",
    "2. Use those parameters to calculate policy-relevant parameter $\\bar{\\psi} \\equiv \\frac{1}{N} \\sum_{i=1}^{N} \\psi (w_i)$ where\n",
    "\n",
    "$$\\psi(w_i) \\equiv E_\\epsilon\\left[\\frac{\\partial}{\\partial \\tau}C(w_i, \\epsilon; \\gamma, \\tau)\\right]$$"
   ]
  },
  {
   "cell_type": "markdown",
   "id": "64ae4c44-85f0-413e-a34a-810a00c00329",
   "metadata": {
    "slideshow": {
     "slide_type": "slide"
    },
    "tags": []
   },
   "source": [
    "## Moment conditions\n",
    "\n",
    "\n",
    "We have two parameters to estimate, so we need at least two moment conditions. What could those be?"
   ]
  },
  {
   "cell_type": "markdown",
   "id": "88d6610c-3b28-45ea-ba6b-36c4875cb76a",
   "metadata": {
    "slideshow": {
     "slide_type": "fragment"
    },
    "tags": []
   },
   "source": [
    "- Model predictions match observations on average"
   ]
  },
  {
   "cell_type": "markdown",
   "id": "8bd061e5-0c86-468b-a703-817e67079fa5",
   "metadata": {},
   "source": [
    "\\begin{equation}\n",
    "m(\\gamma, \\tau) =\n",
    "    \\begin{bmatrix}\n",
    "        \\frac{1}{N}\\sum_{i=1}^N \\left(\\hat{C}(w_i, e_i, \\gamma, \\tau) - c_i\\right) \\\\\n",
    "        \\frac{1}{N}\\sum_{i=1}^N \\left(\\hat{L}(w_i, e_i, \\gamma, \\tau) - l_i\\right)\n",
    "    \\end{bmatrix} = 0\n",
    "\\end{equation}"
   ]
  },
  {
   "cell_type": "markdown",
   "id": "9fdbfe80-7b9d-462c-afdf-471a5a6601fe",
   "metadata": {
    "slideshow": {
     "slide_type": "fragment"
    },
    "tags": []
   },
   "source": [
    "- Technically, we are interacting residuals with a vector of ones. Since we assumed $w_i$ is exogenous, we could also form 2 other moment conditions: $\\frac{1}{N}\\sum_{i=1}^N w_i\\left(\\hat{C}_i - c_i\\right)$ and $\\frac{1}{N}\\sum_{i=1}^N w_i\\left(\\hat{L}_i - l_i\\right)$"
   ]
  },
  {
   "cell_type": "markdown",
   "id": "50cad124-0a45-4f3a-b175-a573a6262859",
   "metadata": {
    "slideshow": {
     "slide_type": "fragment"
    },
    "tags": []
   },
   "source": [
    "But there's a problem: we don't observe $\\epsilon_i$!"
   ]
  },
  {
   "cell_type": "markdown",
   "id": "45d8eec9-4784-4ee6-97e8-5b2b8b84ffbf",
   "metadata": {
    "slideshow": {
     "slide_type": "fragment"
    },
    "tags": []
   },
   "source": [
    "- We can use $\\epsilon$'s distribution to calculate expected values $\\Rightarrow$ simulated moments"
   ]
  },
  {
   "cell_type": "markdown",
   "id": "ece6bf0d-edc3-46b6-9c89-345153c0536d",
   "metadata": {
    "slideshow": {
     "slide_type": "slide"
    },
    "tags": []
   },
   "source": [
    "## Simulated moment conditions\n",
    "\n",
    "Instead, we use simulated moment conditions:\n",
    "\\begin{equation}\n",
    "\\hat{m}(\\gamma, \\tau) = E_\\epsilon\n",
    "    \\begin{bmatrix}\n",
    "        \\frac{1}{N}\\sum_{i=1}^N \\left(\\hat{C}(w_i, e_i, \\gamma, \\tau) - c_i\\right) \\\\\n",
    "        \\frac{1}{N}\\sum_{i=1}^N \\left(\\hat{L}(w_i, e_i, \\gamma, \\tau) - l_i\\right)\n",
    "    \\end{bmatrix} = 0\n",
    "\\end{equation} \n",
    "\n",
    "The \"simulated\" part comes from drawing many values from the distribution of $\\epsilon_i$ and taking the mean: it's just Monte Carlo integration\n",
    "- Turns out this numerical integration method has well-defined asymptotics"
   ]
  },
  {
   "cell_type": "markdown",
   "id": "3463d297-93c9-416d-b0e0-c2b1b29b6a68",
   "metadata": {
    "slideshow": {
     "slide_type": "slide"
    },
    "tags": []
   },
   "source": [
    "**Your turn, part 2**: \n",
    "Program function `solve_Ec_El(w, gamma, tau, R)` that draws `R` values from the distribution of $\\epsilon$, calculates `c` and `l` for each draw, then returns the average value of `c`s and `l`s\n",
    "\n",
    "You can do that by modifying the code for `solve_c_l`\n",
    "1. Declare the model as before, but now declare `e` as a model parameter with `@NLparameter` before you set the objective function\n",
    "2. Draw R observations from N(0.0, 1.0) and store in `es`\n",
    "3. Create a `for` loop over R observations\n",
    "    - Set $\\epsilon$: `set_value(e, es[i])`\n",
    "    - Solve the model and store solutions in vectors `cs` and `ls`\n",
    "4. Return means of `cs` and `ls`"
   ]
  },
  {
   "cell_type": "code",
   "execution_count": 3,
   "id": "348828d8-eeb5-4fdc-a1c8-c32994f90f79",
   "metadata": {
    "slideshow": {
     "slide_type": "slide"
    },
    "tags": []
   },
   "outputs": [
    {
     "data": {
      "text/plain": [
       "solve_Ec_El (generic function with 1 method)"
      ]
     },
     "execution_count": 3,
     "metadata": {},
     "output_type": "execute_result"
    }
   ],
   "source": [
    "using Random, Distributions\n",
    "function solve_Ec_El(w, gamma, tau, R)\n",
    "    model = Model(Ipopt.Optimizer)\n",
    "    # Declare variables\n",
    "    @variable(model, c >= 0)\n",
    "    @variable(model, 0 <= l <= 1)\n",
    "    # Declare objective\n",
    "    @NLobjective(model, Max, c^gamma * l^(1-gamma))\n",
    "    # Declare epsilon as model parameters\n",
    "    @NLparameter(model, e == 0.0)\n",
    "    # Declare budget constraint\n",
    "    @NLconstraint(model, c <= (1-tau)*w*(1-l) + e)\n",
    "    set_silent(model) # Mute output\n",
    "    # Draw R epsilons\n",
    "    es = rand(Normal(0.0, 1.0), R)\n",
    "    # Vectors to store for individual i\n",
    "    cs_i = zeros(R); ls_i = zeros(R)\n",
    "    # Loop to simulate\n",
    "    for i in 1:R\n",
    "        set_value(e, es[i]) # Set a drawn value for epsilon\n",
    "        optimize!(model)\n",
    "        # Warn if error\n",
    "        if (termination_status(model) != LOCALLY_SOLVED)\n",
    "            println(\"Error in draw $i: $(termination_status(model))\")\n",
    "        end\n",
    "        cs_i[i] = value(c)\n",
    "        ls_i[i] = value(l)\n",
    "    end\n",
    "    # Take average of simulated values\n",
    "    Ec = mean(cs_i); El = mean(ls_i)\n",
    "    return (Ec, El)\n",
    "end"
   ]
  },
  {
   "cell_type": "code",
   "execution_count": 6,
   "id": "a1ae0e90-1764-4a67-9ced-5722b8230b1e",
   "metadata": {
    "slideshow": {
     "slide_type": "slide"
    },
    "tags": []
   },
   "outputs": [
    {
     "data": {
      "text/plain": [
       "(35.88891400857791, 0.498457138419941)"
      ]
     },
     "execution_count": 6,
     "metadata": {},
     "output_type": "execute_result"
    }
   ],
   "source": [
    "solve_Ec_El(80.0, 0.5, 0.1, 10)"
   ]
  },
  {
   "cell_type": "code",
   "execution_count": 5,
   "id": "96e2c8b9-d20d-47ec-9ecb-208e81533e68",
   "metadata": {},
   "outputs": [
    {
     "data": {
      "text/plain": [
       "(36.115477712468525, 0.501603856522182)"
      ]
     },
     "execution_count": 5,
     "metadata": {},
     "output_type": "execute_result"
    }
   ],
   "source": [
    "solve_Ec_El(80.0, 0.5, 0.1, 10)"
   ]
  },
  {
   "cell_type": "markdown",
   "id": "f46bb2e5-a88e-4964-b1b4-58b7c510f50e",
   "metadata": {
    "slideshow": {
     "slide_type": "slide"
    },
    "tags": []
   },
   "source": [
    "## Data\n",
    "Let's now take a look at our data set"
   ]
  },
  {
   "cell_type": "code",
   "execution_count": 7,
   "id": "60657fc6-c28f-4737-80ce-dc229651f73a",
   "metadata": {},
   "outputs": [
    {
     "data": {
      "text/html": [
       "<div class=\"data-frame\"><p>100 rows × 4 columns</p><table class=\"data-frame\"><thead><tr><th></th><th>ID</th><th>wage_rate</th><th>consump</th><th>labor_hours</th></tr><tr><th></th><th title=\"Int64\">Int64</th><th title=\"Float64\">Float64</th><th title=\"Float64\">Float64</th><th title=\"Int64\">Int64</th></tr></thead><tbody><tr><th>1</th><td>1</td><td>17.56</td><td>27927.5</td><td>1792</td></tr><tr><th>2</th><td>2</td><td>17.64</td><td>27664.9</td><td>1818</td></tr><tr><th>3</th><td>3</td><td>15.42</td><td>24129.7</td><td>1822</td></tr><tr><th>4</th><td>4</td><td>23.45</td><td>36110.5</td><td>1850</td></tr><tr><th>5</th><td>5</td><td>22.08</td><td>34183.1</td><td>1841</td></tr><tr><th>6</th><td>6</td><td>24.55</td><td>38780.5</td><td>1805</td></tr><tr><th>7</th><td>7</td><td>18.03</td><td>28605.0</td><td>1797</td></tr><tr><th>8</th><td>8</td><td>20.98</td><td>33028.6</td><td>1811</td></tr><tr><th>9</th><td>9</td><td>25.07</td><td>39672.7</td><td>1802</td></tr><tr><th>10</th><td>10</td><td>16.44</td><td>25684.5</td><td>1825</td></tr><tr><th>11</th><td>11</td><td>31.32</td><td>49565.9</td><td>1801</td></tr><tr><th>12</th><td>12</td><td>19.11</td><td>29846.7</td><td>1825</td></tr><tr><th>13</th><td>13</td><td>32.49</td><td>51571.2</td><td>1796</td></tr><tr><th>14</th><td>14</td><td>16.46</td><td>25687.5</td><td>1826</td></tr><tr><th>15</th><td>15</td><td>15.82</td><td>24693.4</td><td>1826</td></tr><tr><th>16</th><td>16</td><td>29.18</td><td>46824.7</td><td>1777</td></tr><tr><th>17</th><td>17</td><td>18.68</td><td>29138.5</td><td>1828</td></tr><tr><th>18</th><td>18</td><td>24.26</td><td>38297.6</td><td>1806</td></tr><tr><th>19</th><td>19</td><td>23.02</td><td>36356.7</td><td>1805</td></tr><tr><th>20</th><td>20</td><td>15.04</td><td>24097.0</td><td>1779</td></tr><tr><th>21</th><td>21</td><td>19.4</td><td>30452.5</td><td>1816</td></tr><tr><th>22</th><td>22</td><td>14.16</td><td>23267.5</td><td>1733</td></tr><tr><th>23</th><td>23</td><td>17.68</td><td>27696.8</td><td>1820</td></tr><tr><th>24</th><td>24</td><td>21.03</td><td>33892.1</td><td>1768</td></tr><tr><th>25</th><td>25</td><td>29.72</td><td>47305.8</td><td>1791</td></tr><tr><th>26</th><td>26</td><td>23.27</td><td>36782.1</td><td>1803</td></tr><tr><th>27</th><td>27</td><td>20.68</td><td>33076.0</td><td>1782</td></tr><tr><th>28</th><td>28</td><td>22.67</td><td>35857.0</td><td>1803</td></tr><tr><th>29</th><td>29</td><td>17.33</td><td>27502.4</td><td>1797</td></tr><tr><th>30</th><td>30</td><td>19.67</td><td>31538.2</td><td>1778</td></tr><tr><th>&vellip;</th><td>&vellip;</td><td>&vellip;</td><td>&vellip;</td><td>&vellip;</td></tr></tbody></table></div>"
      ],
      "text/latex": [
       "\\begin{tabular}{r|cccc}\n",
       "\t& ID & wage\\_rate & consump & labor\\_hours\\\\\n",
       "\t\\hline\n",
       "\t& Int64 & Float64 & Float64 & Int64\\\\\n",
       "\t\\hline\n",
       "\t1 & 1 & 17.56 & 27927.5 & 1792 \\\\\n",
       "\t2 & 2 & 17.64 & 27664.9 & 1818 \\\\\n",
       "\t3 & 3 & 15.42 & 24129.7 & 1822 \\\\\n",
       "\t4 & 4 & 23.45 & 36110.5 & 1850 \\\\\n",
       "\t5 & 5 & 22.08 & 34183.1 & 1841 \\\\\n",
       "\t6 & 6 & 24.55 & 38780.5 & 1805 \\\\\n",
       "\t7 & 7 & 18.03 & 28605.0 & 1797 \\\\\n",
       "\t8 & 8 & 20.98 & 33028.6 & 1811 \\\\\n",
       "\t9 & 9 & 25.07 & 39672.7 & 1802 \\\\\n",
       "\t10 & 10 & 16.44 & 25684.5 & 1825 \\\\\n",
       "\t11 & 11 & 31.32 & 49565.9 & 1801 \\\\\n",
       "\t12 & 12 & 19.11 & 29846.7 & 1825 \\\\\n",
       "\t13 & 13 & 32.49 & 51571.2 & 1796 \\\\\n",
       "\t14 & 14 & 16.46 & 25687.5 & 1826 \\\\\n",
       "\t15 & 15 & 15.82 & 24693.4 & 1826 \\\\\n",
       "\t16 & 16 & 29.18 & 46824.7 & 1777 \\\\\n",
       "\t17 & 17 & 18.68 & 29138.5 & 1828 \\\\\n",
       "\t18 & 18 & 24.26 & 38297.6 & 1806 \\\\\n",
       "\t19 & 19 & 23.02 & 36356.7 & 1805 \\\\\n",
       "\t20 & 20 & 15.04 & 24097.0 & 1779 \\\\\n",
       "\t21 & 21 & 19.4 & 30452.5 & 1816 \\\\\n",
       "\t22 & 22 & 14.16 & 23267.5 & 1733 \\\\\n",
       "\t23 & 23 & 17.68 & 27696.8 & 1820 \\\\\n",
       "\t24 & 24 & 21.03 & 33892.1 & 1768 \\\\\n",
       "\t25 & 25 & 29.72 & 47305.8 & 1791 \\\\\n",
       "\t26 & 26 & 23.27 & 36782.1 & 1803 \\\\\n",
       "\t27 & 27 & 20.68 & 33076.0 & 1782 \\\\\n",
       "\t28 & 28 & 22.67 & 35857.0 & 1803 \\\\\n",
       "\t29 & 29 & 17.33 & 27502.4 & 1797 \\\\\n",
       "\t30 & 30 & 19.67 & 31538.2 & 1778 \\\\\n",
       "\t$\\dots$ & $\\dots$ & $\\dots$ & $\\dots$ & $\\dots$ \\\\\n",
       "\\end{tabular}\n"
      ],
      "text/plain": [
       "\u001b[1m100×4 DataFrame\u001b[0m\n",
       "\u001b[1m Row \u001b[0m│\u001b[1m ID    \u001b[0m\u001b[1m wage_rate \u001b[0m\u001b[1m consump \u001b[0m\u001b[1m labor_hours \u001b[0m\n",
       "\u001b[1m     \u001b[0m│\u001b[90m Int64 \u001b[0m\u001b[90m Float64   \u001b[0m\u001b[90m Float64 \u001b[0m\u001b[90m Int64       \u001b[0m\n",
       "─────┼────────────────────────────────────────\n",
       "   1 │     1      17.56  27927.5         1792\n",
       "   2 │     2      17.64  27664.9         1818\n",
       "   3 │     3      15.42  24129.7         1822\n",
       "   4 │     4      23.45  36110.5         1850\n",
       "   5 │     5      22.08  34183.1         1841\n",
       "   6 │     6      24.55  38780.5         1805\n",
       "   7 │     7      18.03  28605.0         1797\n",
       "   8 │     8      20.98  33028.6         1811\n",
       "   9 │     9      25.07  39672.7         1802\n",
       "  10 │    10      16.44  25684.5         1825\n",
       "  11 │    11      31.32  49565.9         1801\n",
       "  ⋮  │   ⋮        ⋮         ⋮          ⋮\n",
       "  91 │    91      20.94  33947.0         1758\n",
       "  92 │    92      19.4   30556.4         1810\n",
       "  93 │    93      14.88  22973.5         1846\n",
       "  94 │    94      22.12  35319.4         1786\n",
       "  95 │    95      32.58  51597.9         1800\n",
       "  96 │    96      28.89  45942.5         1793\n",
       "  97 │    97      28.01  45496.9         1754\n",
       "  98 │    98      18.47  28982.0         1817\n",
       "  99 │    99      18.17  29142.3         1778\n",
       " 100 │   100      23.64  37751.0         1785\n",
       "\u001b[36m                               79 rows omitted\u001b[0m"
      ]
     },
     "execution_count": 7,
     "metadata": {},
     "output_type": "execute_result"
    }
   ],
   "source": [
    "using DataFrames, CSV\n",
    "df = CSV.read(\"labor_supply.csv\", DataFrame)"
   ]
  },
  {
   "cell_type": "markdown",
   "id": "dd6b7625-46ac-4d5c-93cc-4abb27243f44",
   "metadata": {
    "slideshow": {
     "slide_type": "slide"
    },
    "tags": []
   },
   "source": [
    "## Data\n",
    "\n",
    "We need to make a few adjustments with the data so that we can use it in the model. First, we want to calculate leisure as a variable between 0 and 1. To do that, we consider that the maximum labor hours per year is 3,600 (twice the US average)"
   ]
  },
  {
   "cell_type": "code",
   "execution_count": 9,
   "id": "69ca5d7c-3a26-47cd-b7dc-bf40e8e9e0b4",
   "metadata": {},
   "outputs": [
    {
     "data": {
      "image/svg+xml": [
       "<?xml version=\"1.0\" encoding=\"utf-8\"?>\n",
       "<svg xmlns=\"http://www.w3.org/2000/svg\" xmlns:xlink=\"http://www.w3.org/1999/xlink\" width=\"600\" height=\"400\" viewBox=\"0 0 2400 1600\">\n",
       "<defs>\n",
       "  <clipPath id=\"clip070\">\n",
       "    <rect x=\"0\" y=\"0\" width=\"2400\" height=\"1600\"/>\n",
       "  </clipPath>\n",
       "</defs>\n",
       "<path clip-path=\"url(#clip070)\" d=\"\n",
       "M0 1600 L2400 1600 L2400 0 L0 0  Z\n",
       "  \" fill=\"#ffffff\" fill-rule=\"evenodd\" fill-opacity=\"1\"/>\n",
       "<defs>\n",
       "  <clipPath id=\"clip071\">\n",
       "    <rect x=\"480\" y=\"0\" width=\"1681\" height=\"1600\"/>\n",
       "  </clipPath>\n",
       "</defs>\n",
       "<path clip-path=\"url(#clip070)\" d=\"\n",
       "M140.696 1486.45 L1152.76 1486.45 L1152.76 47.2441 L140.696 47.2441  Z\n",
       "  \" fill=\"#ffffff\" fill-rule=\"evenodd\" fill-opacity=\"1\"/>\n",
       "<defs>\n",
       "  <clipPath id=\"clip072\">\n",
       "    <rect x=\"140\" y=\"47\" width=\"1013\" height=\"1440\"/>\n",
       "  </clipPath>\n",
       "</defs>\n",
       "<polyline clip-path=\"url(#clip072)\" style=\"stroke:#000000; stroke-linecap:butt; stroke-linejoin:round; stroke-width:2; stroke-opacity:0.1; fill:none\" points=\"\n",
       "  196.361,1486.45 196.361,47.2441 \n",
       "  \"/>\n",
       "<polyline clip-path=\"url(#clip072)\" style=\"stroke:#000000; stroke-linecap:butt; stroke-linejoin:round; stroke-width:2; stroke-opacity:0.1; fill:none\" points=\"\n",
       "  477.839,1486.45 477.839,47.2441 \n",
       "  \"/>\n",
       "<polyline clip-path=\"url(#clip072)\" style=\"stroke:#000000; stroke-linecap:butt; stroke-linejoin:round; stroke-width:2; stroke-opacity:0.1; fill:none\" points=\"\n",
       "  759.317,1486.45 759.317,47.2441 \n",
       "  \"/>\n",
       "<polyline clip-path=\"url(#clip072)\" style=\"stroke:#000000; stroke-linecap:butt; stroke-linejoin:round; stroke-width:2; stroke-opacity:0.1; fill:none\" points=\"\n",
       "  1040.8,1486.45 1040.8,47.2441 \n",
       "  \"/>\n",
       "<polyline clip-path=\"url(#clip070)\" style=\"stroke:#000000; stroke-linecap:butt; stroke-linejoin:round; stroke-width:4; stroke-opacity:1; fill:none\" points=\"\n",
       "  140.696,1486.45 1152.76,1486.45 \n",
       "  \"/>\n",
       "<polyline clip-path=\"url(#clip070)\" style=\"stroke:#000000; stroke-linecap:butt; stroke-linejoin:round; stroke-width:4; stroke-opacity:1; fill:none\" points=\"\n",
       "  196.361,1486.45 196.361,1467.55 \n",
       "  \"/>\n",
       "<polyline clip-path=\"url(#clip070)\" style=\"stroke:#000000; stroke-linecap:butt; stroke-linejoin:round; stroke-width:4; stroke-opacity:1; fill:none\" points=\"\n",
       "  477.839,1486.45 477.839,1467.55 \n",
       "  \"/>\n",
       "<polyline clip-path=\"url(#clip070)\" style=\"stroke:#000000; stroke-linecap:butt; stroke-linejoin:round; stroke-width:4; stroke-opacity:1; fill:none\" points=\"\n",
       "  759.317,1486.45 759.317,1467.55 \n",
       "  \"/>\n",
       "<polyline clip-path=\"url(#clip070)\" style=\"stroke:#000000; stroke-linecap:butt; stroke-linejoin:round; stroke-width:4; stroke-opacity:1; fill:none\" points=\"\n",
       "  1040.8,1486.45 1040.8,1467.55 \n",
       "  \"/>\n",
       "<path clip-path=\"url(#clip070)\" d=\"M140.886 1544.91 L148.525 1544.91 L148.525 1518.55 L140.215 1520.21 L140.215 1515.95 L148.479 1514.29 L153.155 1514.29 L153.155 1544.91 L160.794 1544.91 L160.794 1548.85 L140.886 1548.85 L140.886 1544.91 Z\" fill=\"#000000\" fill-rule=\"evenodd\" fill-opacity=\"1\" /><path clip-path=\"url(#clip070)\" d=\"M169.058 1514.29 L191.28 1514.29 L191.28 1516.28 L178.733 1548.85 L173.849 1548.85 L185.655 1518.22 L169.058 1518.22 L169.058 1514.29 Z\" fill=\"#000000\" fill-rule=\"evenodd\" fill-opacity=\"1\" /><path clip-path=\"url(#clip070)\" d=\"M210.4 1517.37 Q206.789 1517.37 204.96 1520.93 Q203.155 1524.47 203.155 1531.6 Q203.155 1538.71 204.96 1542.27 Q206.789 1545.82 210.4 1545.82 Q214.034 1545.82 215.84 1542.27 Q217.668 1538.71 217.668 1531.6 Q217.668 1524.47 215.84 1520.93 Q214.034 1517.37 210.4 1517.37 M210.4 1513.66 Q216.21 1513.66 219.266 1518.27 Q222.344 1522.85 222.344 1531.6 Q222.344 1540.33 219.266 1544.94 Q216.21 1549.52 210.4 1549.52 Q204.59 1549.52 201.511 1544.94 Q198.456 1540.33 198.456 1531.6 Q198.456 1522.85 201.511 1518.27 Q204.59 1513.66 210.4 1513.66 Z\" fill=\"#000000\" fill-rule=\"evenodd\" fill-opacity=\"1\" /><path clip-path=\"url(#clip070)\" d=\"M240.562 1517.37 Q236.951 1517.37 235.122 1520.93 Q233.316 1524.47 233.316 1531.6 Q233.316 1538.71 235.122 1542.27 Q236.951 1545.82 240.562 1545.82 Q244.196 1545.82 246.002 1542.27 Q247.83 1538.71 247.83 1531.6 Q247.83 1524.47 246.002 1520.93 Q244.196 1517.37 240.562 1517.37 M240.562 1513.66 Q246.372 1513.66 249.428 1518.27 Q252.506 1522.85 252.506 1531.6 Q252.506 1540.33 249.428 1544.94 Q246.372 1549.52 240.562 1549.52 Q234.752 1549.52 231.673 1544.94 Q228.617 1540.33 228.617 1531.6 Q228.617 1522.85 231.673 1518.27 Q234.752 1513.66 240.562 1513.66 Z\" fill=\"#000000\" fill-rule=\"evenodd\" fill-opacity=\"1\" /><path clip-path=\"url(#clip070)\" d=\"M422.365 1544.91 L430.003 1544.91 L430.003 1518.55 L421.693 1520.21 L421.693 1515.95 L429.957 1514.29 L434.633 1514.29 L434.633 1544.91 L442.272 1544.91 L442.272 1548.85 L422.365 1548.85 L422.365 1544.91 Z\" fill=\"#000000\" fill-rule=\"evenodd\" fill-opacity=\"1\" /><path clip-path=\"url(#clip070)\" d=\"M450.536 1514.29 L472.758 1514.29 L472.758 1516.28 L460.212 1548.85 L455.327 1548.85 L467.133 1518.22 L450.536 1518.22 L450.536 1514.29 Z\" fill=\"#000000\" fill-rule=\"evenodd\" fill-opacity=\"1\" /><path clip-path=\"url(#clip070)\" d=\"M481.924 1514.29 L500.281 1514.29 L500.281 1518.22 L486.207 1518.22 L486.207 1526.7 Q487.225 1526.35 488.244 1526.19 Q489.262 1526 490.281 1526 Q496.068 1526 499.448 1529.17 Q502.827 1532.34 502.827 1537.76 Q502.827 1543.34 499.355 1546.44 Q495.883 1549.52 489.563 1549.52 Q487.387 1549.52 485.119 1549.15 Q482.874 1548.78 480.466 1548.04 L480.466 1543.34 Q482.549 1544.47 484.772 1545.03 Q486.994 1545.58 489.471 1545.58 Q493.475 1545.58 495.813 1543.48 Q498.151 1541.37 498.151 1537.76 Q498.151 1534.15 495.813 1532.04 Q493.475 1529.94 489.471 1529.94 Q487.596 1529.94 485.721 1530.35 Q483.869 1530.77 481.924 1531.65 L481.924 1514.29 Z\" fill=\"#000000\" fill-rule=\"evenodd\" fill-opacity=\"1\" /><path clip-path=\"url(#clip070)\" d=\"M522.04 1517.37 Q518.429 1517.37 516.6 1520.93 Q514.795 1524.47 514.795 1531.6 Q514.795 1538.71 516.6 1542.27 Q518.429 1545.82 522.04 1545.82 Q525.674 1545.82 527.48 1542.27 Q529.308 1538.71 529.308 1531.6 Q529.308 1524.47 527.48 1520.93 Q525.674 1517.37 522.04 1517.37 M522.04 1513.66 Q527.85 1513.66 530.906 1518.27 Q533.984 1522.85 533.984 1531.6 Q533.984 1540.33 530.906 1544.94 Q527.85 1549.52 522.04 1549.52 Q516.23 1549.52 513.151 1544.94 Q510.096 1540.33 510.096 1531.6 Q510.096 1522.85 513.151 1518.27 Q516.23 1513.66 522.04 1513.66 Z\" fill=\"#000000\" fill-rule=\"evenodd\" fill-opacity=\"1\" /><path clip-path=\"url(#clip070)\" d=\"M703.843 1544.91 L711.482 1544.91 L711.482 1518.55 L703.171 1520.21 L703.171 1515.95 L711.435 1514.29 L716.111 1514.29 L716.111 1544.91 L723.75 1544.91 L723.75 1548.85 L703.843 1548.85 L703.843 1544.91 Z\" fill=\"#000000\" fill-rule=\"evenodd\" fill-opacity=\"1\" /><path clip-path=\"url(#clip070)\" d=\"M743.194 1532.44 Q739.861 1532.44 737.94 1534.22 Q736.042 1536 736.042 1539.13 Q736.042 1542.25 737.94 1544.03 Q739.861 1545.82 743.194 1545.82 Q746.528 1545.82 748.449 1544.03 Q750.37 1542.23 750.37 1539.13 Q750.37 1536 748.449 1534.22 Q746.551 1532.44 743.194 1532.44 M738.518 1530.45 Q735.509 1529.7 733.819 1527.64 Q732.153 1525.58 732.153 1522.62 Q732.153 1518.48 735.093 1516.07 Q738.056 1513.66 743.194 1513.66 Q748.356 1513.66 751.296 1516.07 Q754.236 1518.48 754.236 1522.62 Q754.236 1525.58 752.546 1527.64 Q750.88 1529.7 747.893 1530.45 Q751.273 1531.23 753.148 1533.52 Q755.046 1535.82 755.046 1539.13 Q755.046 1544.15 751.967 1546.83 Q748.912 1549.52 743.194 1549.52 Q737.477 1549.52 734.398 1546.83 Q731.343 1544.15 731.343 1539.13 Q731.343 1535.82 733.241 1533.52 Q735.139 1531.23 738.518 1530.45 M736.806 1523.06 Q736.806 1525.75 738.472 1527.25 Q740.162 1528.76 743.194 1528.76 Q746.204 1528.76 747.893 1527.25 Q749.606 1525.75 749.606 1523.06 Q749.606 1520.38 747.893 1518.87 Q746.204 1517.37 743.194 1517.37 Q740.162 1517.37 738.472 1518.87 Q736.806 1520.38 736.806 1523.06 Z\" fill=\"#000000\" fill-rule=\"evenodd\" fill-opacity=\"1\" /><path clip-path=\"url(#clip070)\" d=\"M773.356 1517.37 Q769.745 1517.37 767.916 1520.93 Q766.111 1524.47 766.111 1531.6 Q766.111 1538.71 767.916 1542.27 Q769.745 1545.82 773.356 1545.82 Q776.991 1545.82 778.796 1542.27 Q780.625 1538.71 780.625 1531.6 Q780.625 1524.47 778.796 1520.93 Q776.991 1517.37 773.356 1517.37 M773.356 1513.66 Q779.166 1513.66 782.222 1518.27 Q785.301 1522.85 785.301 1531.6 Q785.301 1540.33 782.222 1544.94 Q779.166 1549.52 773.356 1549.52 Q767.546 1549.52 764.467 1544.94 Q761.412 1540.33 761.412 1531.6 Q761.412 1522.85 764.467 1518.27 Q767.546 1513.66 773.356 1513.66 Z\" fill=\"#000000\" fill-rule=\"evenodd\" fill-opacity=\"1\" /><path clip-path=\"url(#clip070)\" d=\"M803.518 1517.37 Q799.907 1517.37 798.078 1520.93 Q796.273 1524.47 796.273 1531.6 Q796.273 1538.71 798.078 1542.27 Q799.907 1545.82 803.518 1545.82 Q807.152 1545.82 808.958 1542.27 Q810.787 1538.71 810.787 1531.6 Q810.787 1524.47 808.958 1520.93 Q807.152 1517.37 803.518 1517.37 M803.518 1513.66 Q809.328 1513.66 812.384 1518.27 Q815.463 1522.85 815.463 1531.6 Q815.463 1540.33 812.384 1544.94 Q809.328 1549.52 803.518 1549.52 Q797.708 1549.52 794.629 1544.94 Q791.574 1540.33 791.574 1531.6 Q791.574 1522.85 794.629 1518.27 Q797.708 1513.66 803.518 1513.66 Z\" fill=\"#000000\" fill-rule=\"evenodd\" fill-opacity=\"1\" /><path clip-path=\"url(#clip070)\" d=\"M985.321 1544.91 L992.96 1544.91 L992.96 1518.55 L984.65 1520.21 L984.65 1515.95 L992.913 1514.29 L997.589 1514.29 L997.589 1544.91 L1005.23 1544.91 L1005.23 1548.85 L985.321 1548.85 L985.321 1544.91 Z\" fill=\"#000000\" fill-rule=\"evenodd\" fill-opacity=\"1\" /><path clip-path=\"url(#clip070)\" d=\"M1024.67 1532.44 Q1021.34 1532.44 1019.42 1534.22 Q1017.52 1536 1017.52 1539.13 Q1017.52 1542.25 1019.42 1544.03 Q1021.34 1545.82 1024.67 1545.82 Q1028.01 1545.82 1029.93 1544.03 Q1031.85 1542.23 1031.85 1539.13 Q1031.85 1536 1029.93 1534.22 Q1028.03 1532.44 1024.67 1532.44 M1020 1530.45 Q1016.99 1529.7 1015.3 1527.64 Q1013.63 1525.58 1013.63 1522.62 Q1013.63 1518.48 1016.57 1516.07 Q1019.53 1513.66 1024.67 1513.66 Q1029.83 1513.66 1032.77 1516.07 Q1035.71 1518.48 1035.71 1522.62 Q1035.71 1525.58 1034.02 1527.64 Q1032.36 1529.7 1029.37 1530.45 Q1032.75 1531.23 1034.63 1533.52 Q1036.52 1535.82 1036.52 1539.13 Q1036.52 1544.15 1033.45 1546.83 Q1030.39 1549.52 1024.67 1549.52 Q1018.95 1549.52 1015.88 1546.83 Q1012.82 1544.15 1012.82 1539.13 Q1012.82 1535.82 1014.72 1533.52 Q1016.62 1531.23 1020 1530.45 M1018.28 1523.06 Q1018.28 1525.75 1019.95 1527.25 Q1021.64 1528.76 1024.67 1528.76 Q1027.68 1528.76 1029.37 1527.25 Q1031.08 1525.75 1031.08 1523.06 Q1031.08 1520.38 1029.37 1518.87 Q1027.68 1517.37 1024.67 1517.37 Q1021.64 1517.37 1019.95 1518.87 Q1018.28 1520.38 1018.28 1523.06 Z\" fill=\"#000000\" fill-rule=\"evenodd\" fill-opacity=\"1\" /><path clip-path=\"url(#clip070)\" d=\"M1044.88 1514.29 L1063.24 1514.29 L1063.24 1518.22 L1049.16 1518.22 L1049.16 1526.7 Q1050.18 1526.35 1051.2 1526.19 Q1052.22 1526 1053.24 1526 Q1059.02 1526 1062.4 1529.17 Q1065.78 1532.34 1065.78 1537.76 Q1065.78 1543.34 1062.31 1546.44 Q1058.84 1549.52 1052.52 1549.52 Q1050.34 1549.52 1048.08 1549.15 Q1045.83 1548.78 1043.42 1548.04 L1043.42 1543.34 Q1045.51 1544.47 1047.73 1545.03 Q1049.95 1545.58 1052.43 1545.58 Q1056.43 1545.58 1058.77 1543.48 Q1061.11 1541.37 1061.11 1537.76 Q1061.11 1534.15 1058.77 1532.04 Q1056.43 1529.94 1052.43 1529.94 Q1050.55 1529.94 1048.68 1530.35 Q1046.83 1530.77 1044.88 1531.65 L1044.88 1514.29 Z\" fill=\"#000000\" fill-rule=\"evenodd\" fill-opacity=\"1\" /><path clip-path=\"url(#clip070)\" d=\"M1085 1517.37 Q1081.39 1517.37 1079.56 1520.93 Q1077.75 1524.47 1077.75 1531.6 Q1077.75 1538.71 1079.56 1542.27 Q1081.39 1545.82 1085 1545.82 Q1088.63 1545.82 1090.44 1542.27 Q1092.26 1538.71 1092.26 1531.6 Q1092.26 1524.47 1090.44 1520.93 Q1088.63 1517.37 1085 1517.37 M1085 1513.66 Q1090.81 1513.66 1093.86 1518.27 Q1096.94 1522.85 1096.94 1531.6 Q1096.94 1540.33 1093.86 1544.94 Q1090.81 1549.52 1085 1549.52 Q1079.19 1549.52 1076.11 1544.94 Q1073.05 1540.33 1073.05 1531.6 Q1073.05 1522.85 1076.11 1518.27 Q1079.19 1513.66 1085 1513.66 Z\" fill=\"#000000\" fill-rule=\"evenodd\" fill-opacity=\"1\" /><polyline clip-path=\"url(#clip072)\" style=\"stroke:#000000; stroke-linecap:butt; stroke-linejoin:round; stroke-width:2; stroke-opacity:0.1; fill:none\" points=\"\n",
       "  140.696,1445.72 1152.76,1445.72 \n",
       "  \"/>\n",
       "<polyline clip-path=\"url(#clip072)\" style=\"stroke:#000000; stroke-linecap:butt; stroke-linejoin:round; stroke-width:2; stroke-opacity:0.1; fill:none\" points=\"\n",
       "  140.696,1194.28 1152.76,1194.28 \n",
       "  \"/>\n",
       "<polyline clip-path=\"url(#clip072)\" style=\"stroke:#000000; stroke-linecap:butt; stroke-linejoin:round; stroke-width:2; stroke-opacity:0.1; fill:none\" points=\"\n",
       "  140.696,942.849 1152.76,942.849 \n",
       "  \"/>\n",
       "<polyline clip-path=\"url(#clip072)\" style=\"stroke:#000000; stroke-linecap:butt; stroke-linejoin:round; stroke-width:2; stroke-opacity:0.1; fill:none\" points=\"\n",
       "  140.696,691.416 1152.76,691.416 \n",
       "  \"/>\n",
       "<polyline clip-path=\"url(#clip072)\" style=\"stroke:#000000; stroke-linecap:butt; stroke-linejoin:round; stroke-width:2; stroke-opacity:0.1; fill:none\" points=\"\n",
       "  140.696,439.983 1152.76,439.983 \n",
       "  \"/>\n",
       "<polyline clip-path=\"url(#clip072)\" style=\"stroke:#000000; stroke-linecap:butt; stroke-linejoin:round; stroke-width:2; stroke-opacity:0.1; fill:none\" points=\"\n",
       "  140.696,188.55 1152.76,188.55 \n",
       "  \"/>\n",
       "<polyline clip-path=\"url(#clip070)\" style=\"stroke:#000000; stroke-linecap:butt; stroke-linejoin:round; stroke-width:4; stroke-opacity:1; fill:none\" points=\"\n",
       "  140.696,1486.45 140.696,47.2441 \n",
       "  \"/>\n",
       "<polyline clip-path=\"url(#clip070)\" style=\"stroke:#000000; stroke-linecap:butt; stroke-linejoin:round; stroke-width:4; stroke-opacity:1; fill:none\" points=\"\n",
       "  140.696,1445.72 159.593,1445.72 \n",
       "  \"/>\n",
       "<polyline clip-path=\"url(#clip070)\" style=\"stroke:#000000; stroke-linecap:butt; stroke-linejoin:round; stroke-width:4; stroke-opacity:1; fill:none\" points=\"\n",
       "  140.696,1194.28 159.593,1194.28 \n",
       "  \"/>\n",
       "<polyline clip-path=\"url(#clip070)\" style=\"stroke:#000000; stroke-linecap:butt; stroke-linejoin:round; stroke-width:4; stroke-opacity:1; fill:none\" points=\"\n",
       "  140.696,942.849 159.593,942.849 \n",
       "  \"/>\n",
       "<polyline clip-path=\"url(#clip070)\" style=\"stroke:#000000; stroke-linecap:butt; stroke-linejoin:round; stroke-width:4; stroke-opacity:1; fill:none\" points=\"\n",
       "  140.696,691.416 159.593,691.416 \n",
       "  \"/>\n",
       "<polyline clip-path=\"url(#clip070)\" style=\"stroke:#000000; stroke-linecap:butt; stroke-linejoin:round; stroke-width:4; stroke-opacity:1; fill:none\" points=\"\n",
       "  140.696,439.983 159.593,439.983 \n",
       "  \"/>\n",
       "<polyline clip-path=\"url(#clip070)\" style=\"stroke:#000000; stroke-linecap:butt; stroke-linejoin:round; stroke-width:4; stroke-opacity:1; fill:none\" points=\"\n",
       "  140.696,188.55 159.593,188.55 \n",
       "  \"/>\n",
       "<path clip-path=\"url(#clip070)\" d=\"M92.7512 1431.51 Q89.1401 1431.51 87.3114 1435.08 Q85.5058 1438.62 85.5058 1445.75 Q85.5058 1452.86 87.3114 1456.42 Q89.1401 1459.96 92.7512 1459.96 Q96.3854 1459.96 98.1909 1456.42 Q100.02 1452.86 100.02 1445.75 Q100.02 1438.62 98.1909 1435.08 Q96.3854 1431.51 92.7512 1431.51 M92.7512 1427.81 Q98.5613 1427.81 101.617 1432.42 Q104.696 1437 104.696 1445.75 Q104.696 1454.48 101.617 1459.08 Q98.5613 1463.67 92.7512 1463.67 Q86.941 1463.67 83.8623 1459.08 Q80.8068 1454.48 80.8068 1445.75 Q80.8068 1437 83.8623 1432.42 Q86.941 1427.81 92.7512 1427.81 Z\" fill=\"#000000\" fill-rule=\"evenodd\" fill-opacity=\"1\" /><path clip-path=\"url(#clip070)\" d=\"M83.7929 1177 L102.149 1177 L102.149 1180.94 L88.0753 1180.94 L88.0753 1189.41 Q89.0938 1189.06 90.1123 1188.9 Q91.1308 1188.72 92.1493 1188.72 Q97.9363 1188.72 101.316 1191.89 Q104.696 1195.06 104.696 1200.47 Q104.696 1206.05 101.223 1209.16 Q97.7511 1212.23 91.4317 1212.23 Q89.2558 1212.23 86.9873 1211.86 Q84.7419 1211.49 82.3346 1210.75 L82.3346 1206.05 Q84.4179 1207.19 86.6401 1207.74 Q88.8623 1208.3 91.3391 1208.3 Q95.3437 1208.3 97.6817 1206.19 Q100.02 1204.09 100.02 1200.47 Q100.02 1196.86 97.6817 1194.76 Q95.3437 1192.65 91.3391 1192.65 Q89.4641 1192.65 87.5892 1193.07 Q85.7373 1193.48 83.7929 1194.36 L83.7929 1177 Z\" fill=\"#000000\" fill-rule=\"evenodd\" fill-opacity=\"1\" /><path clip-path=\"url(#clip070)\" d=\"M53.3995 956.194 L61.0384 956.194 L61.0384 929.828 L52.7282 931.495 L52.7282 927.236 L60.9921 925.569 L65.668 925.569 L65.668 956.194 L73.3068 956.194 L73.3068 960.129 L53.3995 960.129 L53.3995 956.194 Z\" fill=\"#000000\" fill-rule=\"evenodd\" fill-opacity=\"1\" /><path clip-path=\"url(#clip070)\" d=\"M92.7512 928.648 Q89.1401 928.648 87.3114 932.213 Q85.5058 935.754 85.5058 942.884 Q85.5058 949.99 87.3114 953.555 Q89.1401 957.097 92.7512 957.097 Q96.3854 957.097 98.1909 953.555 Q100.02 949.99 100.02 942.884 Q100.02 935.754 98.1909 932.213 Q96.3854 928.648 92.7512 928.648 M92.7512 924.944 Q98.5613 924.944 101.617 929.551 Q104.696 934.134 104.696 942.884 Q104.696 951.611 101.617 956.217 Q98.5613 960.801 92.7512 960.801 Q86.941 960.801 83.8623 956.217 Q80.8068 951.611 80.8068 942.884 Q80.8068 934.134 83.8623 929.551 Q86.941 924.944 92.7512 924.944 Z\" fill=\"#000000\" fill-rule=\"evenodd\" fill-opacity=\"1\" /><path clip-path=\"url(#clip070)\" d=\"M54.3949 704.761 L62.0337 704.761 L62.0337 678.395 L53.7236 680.062 L53.7236 675.803 L61.9874 674.136 L66.6633 674.136 L66.6633 704.761 L74.3022 704.761 L74.3022 708.696 L54.3949 708.696 L54.3949 704.761 Z\" fill=\"#000000\" fill-rule=\"evenodd\" fill-opacity=\"1\" /><path clip-path=\"url(#clip070)\" d=\"M83.7929 674.136 L102.149 674.136 L102.149 678.071 L88.0753 678.071 L88.0753 686.543 Q89.0938 686.196 90.1123 686.034 Q91.1308 685.849 92.1493 685.849 Q97.9363 685.849 101.316 689.02 Q104.696 692.191 104.696 697.608 Q104.696 703.187 101.223 706.289 Q97.7511 709.367 91.4317 709.367 Q89.2558 709.367 86.9873 708.997 Q84.7419 708.627 82.3346 707.886 L82.3346 703.187 Q84.4179 704.321 86.6401 704.877 Q88.8623 705.432 91.3391 705.432 Q95.3437 705.432 97.6817 703.326 Q100.02 701.219 100.02 697.608 Q100.02 693.997 97.6817 691.891 Q95.3437 689.784 91.3391 689.784 Q89.4641 689.784 87.5892 690.201 Q85.7373 690.617 83.7929 691.497 L83.7929 674.136 Z\" fill=\"#000000\" fill-rule=\"evenodd\" fill-opacity=\"1\" /><path clip-path=\"url(#clip070)\" d=\"M56.6171 453.328 L72.9365 453.328 L72.9365 457.263 L50.9921 457.263 L50.9921 453.328 Q53.6541 450.573 58.2375 445.943 Q62.8439 441.291 64.0245 439.948 Q66.2698 437.425 67.1494 435.689 Q68.0522 433.93 68.0522 432.24 Q68.0522 429.485 66.1078 427.749 Q64.1865 426.013 61.0847 426.013 Q58.8856 426.013 56.4319 426.777 Q54.0014 427.541 51.2236 429.092 L51.2236 424.369 Q54.0477 423.235 56.5014 422.656 Q58.955 422.078 60.9921 422.078 Q66.3624 422.078 69.5568 424.763 Q72.7513 427.448 72.7513 431.939 Q72.7513 434.068 71.9411 435.99 Q71.1541 437.888 69.0476 440.48 Q68.4689 441.152 65.367 444.369 Q62.2652 447.564 56.6171 453.328 Z\" fill=\"#000000\" fill-rule=\"evenodd\" fill-opacity=\"1\" /><path clip-path=\"url(#clip070)\" d=\"M92.7512 425.781 Q89.1401 425.781 87.3114 429.346 Q85.5058 432.888 85.5058 440.018 Q85.5058 447.124 87.3114 450.689 Q89.1401 454.23 92.7512 454.23 Q96.3854 454.23 98.1909 450.689 Q100.02 447.124 100.02 440.018 Q100.02 432.888 98.1909 429.346 Q96.3854 425.781 92.7512 425.781 M92.7512 422.078 Q98.5613 422.078 101.617 426.684 Q104.696 431.268 104.696 440.018 Q104.696 448.744 101.617 453.351 Q98.5613 457.934 92.7512 457.934 Q86.941 457.934 83.8623 453.351 Q80.8068 448.744 80.8068 440.018 Q80.8068 431.268 83.8623 426.684 Q86.941 422.078 92.7512 422.078 Z\" fill=\"#000000\" fill-rule=\"evenodd\" fill-opacity=\"1\" /><path clip-path=\"url(#clip070)\" d=\"M57.6125 201.894 L73.9318 201.894 L73.9318 205.83 L51.9875 205.83 L51.9875 201.894 Q54.6495 199.14 59.2328 194.51 Q63.8393 189.857 65.0198 188.515 Q67.2652 185.992 68.1448 184.256 Q69.0476 182.496 69.0476 180.807 Q69.0476 178.052 67.1032 176.316 Q65.1819 174.58 62.08 174.58 Q59.881 174.58 57.4273 175.344 Q54.9967 176.108 52.219 177.658 L52.219 172.936 Q55.043 171.802 57.4967 171.223 Q59.9504 170.645 61.9874 170.645 Q67.3578 170.645 70.5522 173.33 Q73.7466 176.015 73.7466 180.506 Q73.7466 182.635 72.9365 184.557 Q72.1494 186.455 70.0429 189.047 Q69.4642 189.719 66.3624 192.936 Q63.2606 196.131 57.6125 201.894 Z\" fill=\"#000000\" fill-rule=\"evenodd\" fill-opacity=\"1\" /><path clip-path=\"url(#clip070)\" d=\"M83.7929 171.27 L102.149 171.27 L102.149 175.205 L88.0753 175.205 L88.0753 183.677 Q89.0938 183.33 90.1123 183.168 Q91.1308 182.982 92.1493 182.982 Q97.9363 182.982 101.316 186.154 Q104.696 189.325 104.696 194.742 Q104.696 200.32 101.223 203.422 Q97.7511 206.501 91.4317 206.501 Q89.2558 206.501 86.9873 206.13 Q84.7419 205.76 82.3346 205.019 L82.3346 200.32 Q84.4179 201.455 86.6401 202.01 Q88.8623 202.566 91.3391 202.566 Q95.3437 202.566 97.6817 200.459 Q100.02 198.353 100.02 194.742 Q100.02 191.131 97.6817 189.024 Q95.3437 186.918 91.3391 186.918 Q89.4641 186.918 87.5892 187.334 Q85.7373 187.751 83.7929 188.631 L83.7929 171.27 Z\" fill=\"#000000\" fill-rule=\"evenodd\" fill-opacity=\"1\" /><path clip-path=\"url(#clip072)\" d=\"\n",
       "M196.361 1395.43 L196.361 1445.72 L308.952 1445.72 L308.952 1395.43 L196.361 1395.43 L196.361 1395.43  Z\n",
       "  \" fill=\"#009af9\" fill-rule=\"evenodd\" fill-opacity=\"1\"/>\n",
       "<polyline clip-path=\"url(#clip072)\" style=\"stroke:#000000; stroke-linecap:butt; stroke-linejoin:round; stroke-width:4; stroke-opacity:1; fill:none\" points=\"\n",
       "  196.361,1395.43 196.361,1445.72 308.952,1445.72 308.952,1395.43 196.361,1395.43 \n",
       "  \"/>\n",
       "<path clip-path=\"url(#clip072)\" d=\"\n",
       "M308.952 1395.43 L308.952 1445.72 L421.543 1445.72 L421.543 1395.43 L308.952 1395.43 L308.952 1395.43  Z\n",
       "  \" fill=\"#009af9\" fill-rule=\"evenodd\" fill-opacity=\"1\"/>\n",
       "<polyline clip-path=\"url(#clip072)\" style=\"stroke:#000000; stroke-linecap:butt; stroke-linejoin:round; stroke-width:4; stroke-opacity:1; fill:none\" points=\"\n",
       "  308.952,1395.43 308.952,1445.72 421.543,1445.72 421.543,1395.43 308.952,1395.43 \n",
       "  \"/>\n",
       "<path clip-path=\"url(#clip072)\" d=\"\n",
       "M421.543 1144 L421.543 1445.72 L534.134 1445.72 L534.134 1144 L421.543 1144 L421.543 1144  Z\n",
       "  \" fill=\"#009af9\" fill-rule=\"evenodd\" fill-opacity=\"1\"/>\n",
       "<polyline clip-path=\"url(#clip072)\" style=\"stroke:#000000; stroke-linecap:butt; stroke-linejoin:round; stroke-width:4; stroke-opacity:1; fill:none\" points=\"\n",
       "  421.543,1144 421.543,1445.72 534.134,1445.72 534.134,1144 421.543,1144 \n",
       "  \"/>\n",
       "<path clip-path=\"url(#clip072)\" d=\"\n",
       "M534.134 641.129 L534.134 1445.72 L646.726 1445.72 L646.726 641.129 L534.134 641.129 L534.134 641.129  Z\n",
       "  \" fill=\"#009af9\" fill-rule=\"evenodd\" fill-opacity=\"1\"/>\n",
       "<polyline clip-path=\"url(#clip072)\" style=\"stroke:#000000; stroke-linecap:butt; stroke-linejoin:round; stroke-width:4; stroke-opacity:1; fill:none\" points=\"\n",
       "  534.134,641.129 534.134,1445.72 646.726,1445.72 646.726,641.129 534.134,641.129 \n",
       "  \"/>\n",
       "<path clip-path=\"url(#clip072)\" d=\"\n",
       "M646.726 138.263 L646.726 1445.72 L759.317 1445.72 L759.317 138.263 L646.726 138.263 L646.726 138.263  Z\n",
       "  \" fill=\"#009af9\" fill-rule=\"evenodd\" fill-opacity=\"1\"/>\n",
       "<polyline clip-path=\"url(#clip072)\" style=\"stroke:#000000; stroke-linecap:butt; stroke-linejoin:round; stroke-width:4; stroke-opacity:1; fill:none\" points=\"\n",
       "  646.726,138.263 646.726,1445.72 759.317,1445.72 759.317,138.263 646.726,138.263 \n",
       "  \"/>\n",
       "<path clip-path=\"url(#clip072)\" d=\"\n",
       "M759.317 87.9763 L759.317 1445.72 L871.908 1445.72 L871.908 87.9763 L759.317 87.9763 L759.317 87.9763  Z\n",
       "  \" fill=\"#009af9\" fill-rule=\"evenodd\" fill-opacity=\"1\"/>\n",
       "<polyline clip-path=\"url(#clip072)\" style=\"stroke:#000000; stroke-linecap:butt; stroke-linejoin:round; stroke-width:4; stroke-opacity:1; fill:none\" points=\"\n",
       "  759.317,87.9763 759.317,1445.72 871.908,1445.72 871.908,87.9763 759.317,87.9763 \n",
       "  \"/>\n",
       "<path clip-path=\"url(#clip072)\" d=\"\n",
       "M871.908 691.416 L871.908 1445.72 L984.5 1445.72 L984.5 691.416 L871.908 691.416 L871.908 691.416  Z\n",
       "  \" fill=\"#009af9\" fill-rule=\"evenodd\" fill-opacity=\"1\"/>\n",
       "<polyline clip-path=\"url(#clip072)\" style=\"stroke:#000000; stroke-linecap:butt; stroke-linejoin:round; stroke-width:4; stroke-opacity:1; fill:none\" points=\"\n",
       "  871.908,691.416 871.908,1445.72 984.5,1445.72 984.5,691.416 871.908,691.416 \n",
       "  \"/>\n",
       "<path clip-path=\"url(#clip072)\" d=\"\n",
       "M984.5 1043.42 L984.5 1445.72 L1097.09 1445.72 L1097.09 1043.42 L984.5 1043.42 L984.5 1043.42  Z\n",
       "  \" fill=\"#009af9\" fill-rule=\"evenodd\" fill-opacity=\"1\"/>\n",
       "<polyline clip-path=\"url(#clip072)\" style=\"stroke:#000000; stroke-linecap:butt; stroke-linejoin:round; stroke-width:4; stroke-opacity:1; fill:none\" points=\"\n",
       "  984.5,1043.42 984.5,1445.72 1097.09,1445.72 1097.09,1043.42 984.5,1043.42 \n",
       "  \"/>\n",
       "<circle clip-path=\"url(#clip072)\" style=\"fill:#009af9; stroke:none; fill-opacity:0\" cx=\"252.656\" cy=\"1395.43\" r=\"2\"/>\n",
       "<circle clip-path=\"url(#clip072)\" style=\"fill:#009af9; stroke:none; fill-opacity:0\" cx=\"365.248\" cy=\"1395.43\" r=\"2\"/>\n",
       "<circle clip-path=\"url(#clip072)\" style=\"fill:#009af9; stroke:none; fill-opacity:0\" cx=\"477.839\" cy=\"1144\" r=\"2\"/>\n",
       "<circle clip-path=\"url(#clip072)\" style=\"fill:#009af9; stroke:none; fill-opacity:0\" cx=\"590.43\" cy=\"641.129\" r=\"2\"/>\n",
       "<circle clip-path=\"url(#clip072)\" style=\"fill:#009af9; stroke:none; fill-opacity:0\" cx=\"703.021\" cy=\"138.263\" r=\"2\"/>\n",
       "<circle clip-path=\"url(#clip072)\" style=\"fill:#009af9; stroke:none; fill-opacity:0\" cx=\"815.613\" cy=\"87.9763\" r=\"2\"/>\n",
       "<circle clip-path=\"url(#clip072)\" style=\"fill:#009af9; stroke:none; fill-opacity:0\" cx=\"928.204\" cy=\"691.416\" r=\"2\"/>\n",
       "<circle clip-path=\"url(#clip072)\" style=\"fill:#009af9; stroke:none; fill-opacity:0\" cx=\"1040.8\" cy=\"1043.42\" r=\"2\"/>\n",
       "<path clip-path=\"url(#clip070)\" d=\"\n",
       "M731.131 198.898 L1119.02 198.898 L1119.02 95.2176 L731.131 95.2176  Z\n",
       "  \" fill=\"#ffffff\" fill-rule=\"evenodd\" fill-opacity=\"1\"/>\n",
       "<polyline clip-path=\"url(#clip070)\" style=\"stroke:#000000; stroke-linecap:butt; stroke-linejoin:round; stroke-width:4; stroke-opacity:1; fill:none\" points=\"\n",
       "  731.131,198.898 1119.02,198.898 1119.02,95.2176 731.131,95.2176 731.131,198.898 \n",
       "  \"/>\n",
       "<path clip-path=\"url(#clip070)\" d=\"\n",
       "M742.376 167.794 L809.847 167.794 L809.847 126.322 L742.376 126.322 L742.376 167.794  Z\n",
       "  \" fill=\"#009af9\" fill-rule=\"evenodd\" fill-opacity=\"1\"/>\n",
       "<polyline clip-path=\"url(#clip070)\" style=\"stroke:#000000; stroke-linecap:butt; stroke-linejoin:round; stroke-width:4; stroke-opacity:1; fill:none\" points=\"\n",
       "  742.376,167.794 809.847,167.794 809.847,126.322 742.376,126.322 742.376,167.794 \n",
       "  \"/>\n",
       "<path clip-path=\"url(#clip070)\" d=\"M821.092 129.778 L825.768 129.778 L825.768 160.402 L842.597 160.402 L842.597 164.338 L821.092 164.338 L821.092 129.778 Z\" fill=\"#000000\" fill-rule=\"evenodd\" fill-opacity=\"1\" /><path clip-path=\"url(#clip070)\" d=\"M859.101 151.305 Q853.939 151.305 851.948 152.486 Q849.958 153.666 849.958 156.514 Q849.958 158.782 851.439 160.125 Q852.944 161.444 855.513 161.444 Q859.055 161.444 861.184 158.944 Q863.337 156.421 863.337 152.254 L863.337 151.305 L859.101 151.305 M867.596 149.546 L867.596 164.338 L863.337 164.338 L863.337 160.402 Q861.879 162.763 859.703 163.898 Q857.527 165.009 854.379 165.009 Q850.397 165.009 848.036 162.787 Q845.698 160.541 845.698 156.791 Q845.698 152.416 848.615 150.194 Q851.555 147.972 857.365 147.972 L863.337 147.972 L863.337 147.555 Q863.337 144.615 861.393 143.018 Q859.471 141.398 855.976 141.398 Q853.754 141.398 851.647 141.93 Q849.541 142.463 847.596 143.527 L847.596 139.592 Q849.934 138.69 852.133 138.25 Q854.333 137.787 856.416 137.787 Q862.041 137.787 864.819 140.703 Q867.596 143.62 867.596 149.546 Z\" fill=\"#000000\" fill-rule=\"evenodd\" fill-opacity=\"1\" /><path clip-path=\"url(#clip070)\" d=\"M894.98 151.398 Q894.98 146.699 893.036 144.037 Q891.115 141.352 887.735 141.352 Q884.356 141.352 882.411 144.037 Q880.49 146.699 880.49 151.398 Q880.49 156.097 882.411 158.782 Q884.356 161.444 887.735 161.444 Q891.115 161.444 893.036 158.782 Q894.98 156.097 894.98 151.398 M880.49 142.347 Q881.832 140.032 883.869 138.921 Q885.93 137.787 888.777 137.787 Q893.499 137.787 896.439 141.537 Q899.402 145.287 899.402 151.398 Q899.402 157.509 896.439 161.259 Q893.499 165.009 888.777 165.009 Q885.93 165.009 883.869 163.898 Q881.832 162.763 880.49 160.449 L880.49 164.338 L876.207 164.338 L876.207 128.319 L880.49 128.319 L880.49 142.347 Z\" fill=\"#000000\" fill-rule=\"evenodd\" fill-opacity=\"1\" /><path clip-path=\"url(#clip070)\" d=\"M916.508 141.398 Q913.082 141.398 911.092 144.083 Q909.101 146.745 909.101 151.398 Q909.101 156.051 911.068 158.736 Q913.059 161.398 916.508 161.398 Q919.911 161.398 921.902 158.713 Q923.892 156.027 923.892 151.398 Q923.892 146.791 921.902 144.106 Q919.911 141.398 916.508 141.398 M916.508 137.787 Q922.064 137.787 925.235 141.398 Q928.406 145.009 928.406 151.398 Q928.406 157.764 925.235 161.398 Q922.064 165.009 916.508 165.009 Q910.929 165.009 907.758 161.398 Q904.61 157.764 904.61 151.398 Q904.61 145.009 907.758 141.398 Q910.929 137.787 916.508 137.787 Z\" fill=\"#000000\" fill-rule=\"evenodd\" fill-opacity=\"1\" /><path clip-path=\"url(#clip070)\" d=\"M950.489 142.393 Q949.772 141.977 948.915 141.791 Q948.082 141.583 947.064 141.583 Q943.452 141.583 941.508 143.944 Q939.587 146.282 939.587 150.68 L939.587 164.338 L935.304 164.338 L935.304 138.412 L939.587 138.412 L939.587 142.44 Q940.929 140.078 943.082 138.944 Q945.235 137.787 948.314 137.787 Q948.753 137.787 949.286 137.856 Q949.818 137.903 950.466 138.018 L950.489 142.393 Z\" fill=\"#000000\" fill-rule=\"evenodd\" fill-opacity=\"1\" /><path clip-path=\"url(#clip070)\" d=\"M991.577 148.689 L991.577 164.338 L987.318 164.338 L987.318 148.828 Q987.318 145.148 985.883 143.319 Q984.448 141.49 981.577 141.49 Q978.128 141.49 976.137 143.69 Q974.147 145.889 974.147 149.685 L974.147 164.338 L969.864 164.338 L969.864 128.319 L974.147 128.319 L974.147 142.44 Q975.674 140.102 977.735 138.944 Q979.818 137.787 982.526 137.787 Q986.994 137.787 989.286 140.565 Q991.577 143.319 991.577 148.689 Z\" fill=\"#000000\" fill-rule=\"evenodd\" fill-opacity=\"1\" /><path clip-path=\"url(#clip070)\" d=\"M1010.12 141.398 Q1006.69 141.398 1004.7 144.083 Q1002.71 146.745 1002.71 151.398 Q1002.71 156.051 1004.68 158.736 Q1006.67 161.398 1010.12 161.398 Q1013.52 161.398 1015.51 158.713 Q1017.5 156.027 1017.5 151.398 Q1017.5 146.791 1015.51 144.106 Q1013.52 141.398 1010.12 141.398 M1010.12 137.787 Q1015.67 137.787 1018.85 141.398 Q1022.02 145.009 1022.02 151.398 Q1022.02 157.764 1018.85 161.398 Q1015.67 165.009 1010.12 165.009 Q1004.54 165.009 1001.37 161.398 Q998.221 157.764 998.221 151.398 Q998.221 145.009 1001.37 141.398 Q1004.54 137.787 1010.12 137.787 Z\" fill=\"#000000\" fill-rule=\"evenodd\" fill-opacity=\"1\" /><path clip-path=\"url(#clip070)\" d=\"M1028.64 154.106 L1028.64 138.412 L1032.9 138.412 L1032.9 153.944 Q1032.9 157.625 1034.33 159.476 Q1035.77 161.305 1038.64 161.305 Q1042.09 161.305 1044.08 159.106 Q1046.09 156.907 1046.09 153.111 L1046.09 138.412 L1050.35 138.412 L1050.35 164.338 L1046.09 164.338 L1046.09 160.356 Q1044.54 162.717 1042.48 163.875 Q1040.44 165.009 1037.73 165.009 Q1033.27 165.009 1030.95 162.231 Q1028.64 159.453 1028.64 154.106 M1039.35 137.787 L1039.35 137.787 Z\" fill=\"#000000\" fill-rule=\"evenodd\" fill-opacity=\"1\" /><path clip-path=\"url(#clip070)\" d=\"M1074.15 142.393 Q1073.43 141.977 1072.57 141.791 Q1071.74 141.583 1070.72 141.583 Q1067.11 141.583 1065.16 143.944 Q1063.24 146.282 1063.24 150.68 L1063.24 164.338 L1058.96 164.338 L1058.96 138.412 L1063.24 138.412 L1063.24 142.44 Q1064.59 140.078 1066.74 138.944 Q1068.89 137.787 1071.97 137.787 Q1072.41 137.787 1072.94 137.856 Q1073.47 137.903 1074.12 138.018 L1074.15 142.393 Z\" fill=\"#000000\" fill-rule=\"evenodd\" fill-opacity=\"1\" /><path clip-path=\"url(#clip070)\" d=\"M1095.14 139.176 L1095.14 143.203 Q1093.34 142.277 1091.39 141.815 Q1089.45 141.352 1087.36 141.352 Q1084.19 141.352 1082.6 142.324 Q1081.02 143.296 1081.02 145.24 Q1081.02 146.722 1082.16 147.578 Q1083.29 148.412 1086.72 149.176 L1088.17 149.5 Q1092.71 150.472 1094.61 152.254 Q1096.53 154.014 1096.53 157.185 Q1096.53 160.796 1093.66 162.902 Q1090.81 165.009 1085.81 165.009 Q1083.73 165.009 1081.46 164.592 Q1079.22 164.199 1076.72 163.388 L1076.72 158.99 Q1079.08 160.217 1081.37 160.842 Q1083.66 161.444 1085.91 161.444 Q1088.91 161.444 1090.53 160.426 Q1092.16 159.384 1092.16 157.509 Q1092.16 155.773 1090.97 154.847 Q1089.82 153.921 1085.86 153.064 L1084.38 152.717 Q1080.42 151.884 1078.66 150.171 Q1076.9 148.435 1076.9 145.426 Q1076.9 141.768 1079.49 139.778 Q1082.09 137.787 1086.85 137.787 Q1089.22 137.787 1091.3 138.134 Q1093.38 138.481 1095.14 139.176 Z\" fill=\"#000000\" fill-rule=\"evenodd\" fill-opacity=\"1\" /><path clip-path=\"url(#clip070)\" d=\"\n",
       "M1340.7 1486.45 L2352.76 1486.45 L2352.76 47.2441 L1340.7 47.2441  Z\n",
       "  \" fill=\"#ffffff\" fill-rule=\"evenodd\" fill-opacity=\"1\"/>\n",
       "<defs>\n",
       "  <clipPath id=\"clip073\">\n",
       "    <rect x=\"1340\" y=\"47\" width=\"1013\" height=\"1440\"/>\n",
       "  </clipPath>\n",
       "</defs>\n",
       "<polyline clip-path=\"url(#clip073)\" style=\"stroke:#000000; stroke-linecap:butt; stroke-linejoin:round; stroke-width:2; stroke-opacity:0.1; fill:none\" points=\"\n",
       "  1396.36,1486.45 1396.36,47.2441 \n",
       "  \"/>\n",
       "<polyline clip-path=\"url(#clip073)\" style=\"stroke:#000000; stroke-linecap:butt; stroke-linejoin:round; stroke-width:2; stroke-opacity:0.1; fill:none\" points=\"\n",
       "  1576.51,1486.45 1576.51,47.2441 \n",
       "  \"/>\n",
       "<polyline clip-path=\"url(#clip073)\" style=\"stroke:#000000; stroke-linecap:butt; stroke-linejoin:round; stroke-width:2; stroke-opacity:0.1; fill:none\" points=\"\n",
       "  1756.65,1486.45 1756.65,47.2441 \n",
       "  \"/>\n",
       "<polyline clip-path=\"url(#clip073)\" style=\"stroke:#000000; stroke-linecap:butt; stroke-linejoin:round; stroke-width:2; stroke-opacity:0.1; fill:none\" points=\"\n",
       "  1936.8,1486.45 1936.8,47.2441 \n",
       "  \"/>\n",
       "<polyline clip-path=\"url(#clip073)\" style=\"stroke:#000000; stroke-linecap:butt; stroke-linejoin:round; stroke-width:2; stroke-opacity:0.1; fill:none\" points=\"\n",
       "  2116.94,1486.45 2116.94,47.2441 \n",
       "  \"/>\n",
       "<polyline clip-path=\"url(#clip073)\" style=\"stroke:#000000; stroke-linecap:butt; stroke-linejoin:round; stroke-width:2; stroke-opacity:0.1; fill:none\" points=\"\n",
       "  2297.09,1486.45 2297.09,47.2441 \n",
       "  \"/>\n",
       "<polyline clip-path=\"url(#clip070)\" style=\"stroke:#000000; stroke-linecap:butt; stroke-linejoin:round; stroke-width:4; stroke-opacity:1; fill:none\" points=\"\n",
       "  1340.7,1486.45 2352.76,1486.45 \n",
       "  \"/>\n",
       "<polyline clip-path=\"url(#clip070)\" style=\"stroke:#000000; stroke-linecap:butt; stroke-linejoin:round; stroke-width:4; stroke-opacity:1; fill:none\" points=\"\n",
       "  1396.36,1486.45 1396.36,1467.55 \n",
       "  \"/>\n",
       "<polyline clip-path=\"url(#clip070)\" style=\"stroke:#000000; stroke-linecap:butt; stroke-linejoin:round; stroke-width:4; stroke-opacity:1; fill:none\" points=\"\n",
       "  1576.51,1486.45 1576.51,1467.55 \n",
       "  \"/>\n",
       "<polyline clip-path=\"url(#clip070)\" style=\"stroke:#000000; stroke-linecap:butt; stroke-linejoin:round; stroke-width:4; stroke-opacity:1; fill:none\" points=\"\n",
       "  1756.65,1486.45 1756.65,1467.55 \n",
       "  \"/>\n",
       "<polyline clip-path=\"url(#clip070)\" style=\"stroke:#000000; stroke-linecap:butt; stroke-linejoin:round; stroke-width:4; stroke-opacity:1; fill:none\" points=\"\n",
       "  1936.8,1486.45 1936.8,1467.55 \n",
       "  \"/>\n",
       "<polyline clip-path=\"url(#clip070)\" style=\"stroke:#000000; stroke-linecap:butt; stroke-linejoin:round; stroke-width:4; stroke-opacity:1; fill:none\" points=\"\n",
       "  2116.94,1486.45 2116.94,1467.55 \n",
       "  \"/>\n",
       "<polyline clip-path=\"url(#clip070)\" style=\"stroke:#000000; stroke-linecap:butt; stroke-linejoin:round; stroke-width:4; stroke-opacity:1; fill:none\" points=\"\n",
       "  2297.09,1486.45 2297.09,1467.55 \n",
       "  \"/>\n",
       "<path clip-path=\"url(#clip070)\" d=\"M1358.71 1517.37 Q1355.1 1517.37 1353.27 1520.93 Q1351.47 1524.47 1351.47 1531.6 Q1351.47 1538.71 1353.27 1542.27 Q1355.1 1545.82 1358.71 1545.82 Q1362.34 1545.82 1364.15 1542.27 Q1365.98 1538.71 1365.98 1531.6 Q1365.98 1524.47 1364.15 1520.93 Q1362.34 1517.37 1358.71 1517.37 M1358.71 1513.66 Q1364.52 1513.66 1367.58 1518.27 Q1370.65 1522.85 1370.65 1531.6 Q1370.65 1540.33 1367.58 1544.94 Q1364.52 1549.52 1358.71 1549.52 Q1352.9 1549.52 1349.82 1544.94 Q1346.77 1540.33 1346.77 1531.6 Q1346.77 1522.85 1349.82 1518.27 Q1352.9 1513.66 1358.71 1513.66 Z\" fill=\"#000000\" fill-rule=\"evenodd\" fill-opacity=\"1\" /><path clip-path=\"url(#clip070)\" d=\"M1378.87 1542.97 L1383.76 1542.97 L1383.76 1548.85 L1378.87 1548.85 L1378.87 1542.97 Z\" fill=\"#000000\" fill-rule=\"evenodd\" fill-opacity=\"1\" /><path clip-path=\"url(#clip070)\" d=\"M1406.79 1518.36 L1394.98 1536.81 L1406.79 1536.81 L1406.79 1518.36 M1405.56 1514.29 L1411.44 1514.29 L1411.44 1536.81 L1416.37 1536.81 L1416.37 1540.7 L1411.44 1540.7 L1411.44 1548.85 L1406.79 1548.85 L1406.79 1540.7 L1391.19 1540.7 L1391.19 1536.19 L1405.56 1514.29 Z\" fill=\"#000000\" fill-rule=\"evenodd\" fill-opacity=\"1\" /><path clip-path=\"url(#clip070)\" d=\"M1434.1 1532.44 Q1430.77 1532.44 1428.85 1534.22 Q1426.95 1536 1426.95 1539.13 Q1426.95 1542.25 1428.85 1544.03 Q1430.77 1545.82 1434.1 1545.82 Q1437.44 1545.82 1439.36 1544.03 Q1441.28 1542.23 1441.28 1539.13 Q1441.28 1536 1439.36 1534.22 Q1437.46 1532.44 1434.1 1532.44 M1429.43 1530.45 Q1426.42 1529.7 1424.73 1527.64 Q1423.06 1525.58 1423.06 1522.62 Q1423.06 1518.48 1426 1516.07 Q1428.96 1513.66 1434.1 1513.66 Q1439.27 1513.66 1442.21 1516.07 Q1445.15 1518.48 1445.15 1522.62 Q1445.15 1525.58 1443.46 1527.64 Q1441.79 1529.7 1438.8 1530.45 Q1442.18 1531.23 1444.06 1533.52 Q1445.96 1535.82 1445.96 1539.13 Q1445.96 1544.15 1442.88 1546.83 Q1439.82 1549.52 1434.1 1549.52 Q1428.39 1549.52 1425.31 1546.83 Q1422.25 1544.15 1422.25 1539.13 Q1422.25 1535.82 1424.15 1533.52 Q1426.05 1531.23 1429.43 1530.45 M1427.71 1523.06 Q1427.71 1525.75 1429.38 1527.25 Q1431.07 1528.76 1434.1 1528.76 Q1437.11 1528.76 1438.8 1527.25 Q1440.52 1525.75 1440.52 1523.06 Q1440.52 1520.38 1438.8 1518.87 Q1437.11 1517.37 1434.1 1517.37 Q1431.07 1517.37 1429.38 1518.87 Q1427.71 1520.38 1427.71 1523.06 Z\" fill=\"#000000\" fill-rule=\"evenodd\" fill-opacity=\"1\" /><path clip-path=\"url(#clip070)\" d=\"M1538.9 1517.37 Q1535.29 1517.37 1533.46 1520.93 Q1531.66 1524.47 1531.66 1531.6 Q1531.66 1538.71 1533.46 1542.27 Q1535.29 1545.82 1538.9 1545.82 Q1542.54 1545.82 1544.34 1542.27 Q1546.17 1538.71 1546.17 1531.6 Q1546.17 1524.47 1544.34 1520.93 Q1542.54 1517.37 1538.9 1517.37 M1538.9 1513.66 Q1544.71 1513.66 1547.77 1518.27 Q1550.85 1522.85 1550.85 1531.6 Q1550.85 1540.33 1547.77 1544.94 Q1544.71 1549.52 1538.9 1549.52 Q1533.09 1549.52 1530.01 1544.94 Q1526.96 1540.33 1526.96 1531.6 Q1526.96 1522.85 1530.01 1518.27 Q1533.09 1513.66 1538.9 1513.66 Z\" fill=\"#000000\" fill-rule=\"evenodd\" fill-opacity=\"1\" /><path clip-path=\"url(#clip070)\" d=\"M1559.06 1542.97 L1563.95 1542.97 L1563.95 1548.85 L1559.06 1548.85 L1559.06 1542.97 Z\" fill=\"#000000\" fill-rule=\"evenodd\" fill-opacity=\"1\" /><path clip-path=\"url(#clip070)\" d=\"M1586.98 1518.36 L1575.18 1536.81 L1586.98 1536.81 L1586.98 1518.36 M1585.75 1514.29 L1591.63 1514.29 L1591.63 1536.81 L1596.56 1536.81 L1596.56 1540.7 L1591.63 1540.7 L1591.63 1548.85 L1586.98 1548.85 L1586.98 1540.7 L1571.38 1540.7 L1571.38 1536.19 L1585.75 1514.29 Z\" fill=\"#000000\" fill-rule=\"evenodd\" fill-opacity=\"1\" /><path clip-path=\"url(#clip070)\" d=\"M1604.43 1548.13 L1604.43 1543.87 Q1606.19 1544.7 1608 1545.14 Q1609.81 1545.58 1611.54 1545.58 Q1616.17 1545.58 1618.6 1542.48 Q1621.06 1539.36 1621.4 1533.01 Q1620.06 1535.01 1618 1536.07 Q1615.94 1537.13 1613.44 1537.13 Q1608.25 1537.13 1605.22 1534.01 Q1602.21 1530.86 1602.21 1525.42 Q1602.21 1520.1 1605.36 1516.88 Q1608.51 1513.66 1613.74 1513.66 Q1619.74 1513.66 1622.88 1518.27 Q1626.06 1522.85 1626.06 1531.6 Q1626.06 1539.77 1622.17 1544.66 Q1618.3 1549.52 1611.75 1549.52 Q1609.99 1549.52 1608.18 1549.17 Q1606.38 1548.82 1604.43 1548.13 M1613.74 1533.48 Q1616.89 1533.48 1618.72 1531.32 Q1620.57 1529.17 1620.57 1525.42 Q1620.57 1521.7 1618.72 1519.54 Q1616.89 1517.37 1613.74 1517.37 Q1610.59 1517.37 1608.74 1519.54 Q1606.91 1521.7 1606.91 1525.42 Q1606.91 1529.17 1608.74 1531.32 Q1610.59 1533.48 1613.74 1533.48 Z\" fill=\"#000000\" fill-rule=\"evenodd\" fill-opacity=\"1\" /><path clip-path=\"url(#clip070)\" d=\"M1718.96 1517.37 Q1715.35 1517.37 1713.52 1520.93 Q1711.71 1524.47 1711.71 1531.6 Q1711.71 1538.71 1713.52 1542.27 Q1715.35 1545.82 1718.96 1545.82 Q1722.59 1545.82 1724.4 1542.27 Q1726.22 1538.71 1726.22 1531.6 Q1726.22 1524.47 1724.4 1520.93 Q1722.59 1517.37 1718.96 1517.37 M1718.96 1513.66 Q1724.77 1513.66 1727.82 1518.27 Q1730.9 1522.85 1730.9 1531.6 Q1730.9 1540.33 1727.82 1544.94 Q1724.77 1549.52 1718.96 1549.52 Q1713.15 1549.52 1710.07 1544.94 Q1707.01 1540.33 1707.01 1531.6 Q1707.01 1522.85 1710.07 1518.27 Q1713.15 1513.66 1718.96 1513.66 Z\" fill=\"#000000\" fill-rule=\"evenodd\" fill-opacity=\"1\" /><path clip-path=\"url(#clip070)\" d=\"M1739.12 1542.97 L1744 1542.97 L1744 1548.85 L1739.12 1548.85 L1739.12 1542.97 Z\" fill=\"#000000\" fill-rule=\"evenodd\" fill-opacity=\"1\" /><path clip-path=\"url(#clip070)\" d=\"M1754.23 1514.29 L1772.59 1514.29 L1772.59 1518.22 L1758.52 1518.22 L1758.52 1526.7 Q1759.53 1526.35 1760.55 1526.19 Q1761.57 1526 1762.59 1526 Q1768.38 1526 1771.76 1529.17 Q1775.14 1532.34 1775.14 1537.76 Q1775.14 1543.34 1771.66 1546.44 Q1768.19 1549.52 1761.87 1549.52 Q1759.7 1549.52 1757.43 1549.15 Q1755.18 1548.78 1752.78 1548.04 L1752.78 1543.34 Q1754.86 1544.47 1757.08 1545.03 Q1759.3 1545.58 1761.78 1545.58 Q1765.78 1545.58 1768.12 1543.48 Q1770.46 1541.37 1770.46 1537.76 Q1770.46 1534.15 1768.12 1532.04 Q1765.78 1529.94 1761.78 1529.94 Q1759.91 1529.94 1758.03 1530.35 Q1756.18 1530.77 1754.23 1531.65 L1754.23 1514.29 Z\" fill=\"#000000\" fill-rule=\"evenodd\" fill-opacity=\"1\" /><path clip-path=\"url(#clip070)\" d=\"M1794.35 1517.37 Q1790.74 1517.37 1788.91 1520.93 Q1787.1 1524.47 1787.1 1531.6 Q1787.1 1538.71 1788.91 1542.27 Q1790.74 1545.82 1794.35 1545.82 Q1797.98 1545.82 1799.79 1542.27 Q1801.62 1538.71 1801.62 1531.6 Q1801.62 1524.47 1799.79 1520.93 Q1797.98 1517.37 1794.35 1517.37 M1794.35 1513.66 Q1800.16 1513.66 1803.21 1518.27 Q1806.29 1522.85 1806.29 1531.6 Q1806.29 1540.33 1803.21 1544.94 Q1800.16 1549.52 1794.35 1549.52 Q1788.54 1549.52 1785.46 1544.94 Q1782.4 1540.33 1782.4 1531.6 Q1782.4 1522.85 1785.46 1518.27 Q1788.54 1513.66 1794.35 1513.66 Z\" fill=\"#000000\" fill-rule=\"evenodd\" fill-opacity=\"1\" /><path clip-path=\"url(#clip070)\" d=\"M1899.72 1517.37 Q1896.1 1517.37 1894.28 1520.93 Q1892.47 1524.47 1892.47 1531.6 Q1892.47 1538.71 1894.28 1542.27 Q1896.1 1545.82 1899.72 1545.82 Q1903.35 1545.82 1905.16 1542.27 Q1906.98 1538.71 1906.98 1531.6 Q1906.98 1524.47 1905.16 1520.93 Q1903.35 1517.37 1899.72 1517.37 M1899.72 1513.66 Q1905.53 1513.66 1908.58 1518.27 Q1911.66 1522.85 1911.66 1531.6 Q1911.66 1540.33 1908.58 1544.94 Q1905.53 1549.52 1899.72 1549.52 Q1893.91 1549.52 1890.83 1544.94 Q1887.77 1540.33 1887.77 1531.6 Q1887.77 1522.85 1890.83 1518.27 Q1893.91 1513.66 1899.72 1513.66 Z\" fill=\"#000000\" fill-rule=\"evenodd\" fill-opacity=\"1\" /><path clip-path=\"url(#clip070)\" d=\"M1919.88 1542.97 L1924.76 1542.97 L1924.76 1548.85 L1919.88 1548.85 L1919.88 1542.97 Z\" fill=\"#000000\" fill-rule=\"evenodd\" fill-opacity=\"1\" /><path clip-path=\"url(#clip070)\" d=\"M1934.99 1514.29 L1953.35 1514.29 L1953.35 1518.22 L1939.28 1518.22 L1939.28 1526.7 Q1940.29 1526.35 1941.31 1526.19 Q1942.33 1526 1943.35 1526 Q1949.14 1526 1952.52 1529.17 Q1955.9 1532.34 1955.9 1537.76 Q1955.9 1543.34 1952.42 1546.44 Q1948.95 1549.52 1942.63 1549.52 Q1940.46 1549.52 1938.19 1549.15 Q1935.94 1548.78 1933.53 1548.04 L1933.53 1543.34 Q1935.62 1544.47 1937.84 1545.03 Q1940.06 1545.58 1942.54 1545.58 Q1946.54 1545.58 1948.88 1543.48 Q1951.22 1541.37 1951.22 1537.76 Q1951.22 1534.15 1948.88 1532.04 Q1946.54 1529.94 1942.54 1529.94 Q1940.66 1529.94 1938.79 1530.35 Q1936.94 1530.77 1934.99 1531.65 L1934.99 1514.29 Z\" fill=\"#000000\" fill-rule=\"evenodd\" fill-opacity=\"1\" /><path clip-path=\"url(#clip070)\" d=\"M1965.92 1544.91 L1973.56 1544.91 L1973.56 1518.55 L1965.25 1520.21 L1965.25 1515.95 L1973.51 1514.29 L1978.19 1514.29 L1978.19 1544.91 L1985.83 1544.91 L1985.83 1548.85 L1965.92 1548.85 L1965.92 1544.91 Z\" fill=\"#000000\" fill-rule=\"evenodd\" fill-opacity=\"1\" /><path clip-path=\"url(#clip070)\" d=\"M2080.05 1517.37 Q2076.44 1517.37 2074.61 1520.93 Q2072.8 1524.47 2072.8 1531.6 Q2072.8 1538.71 2074.61 1542.27 Q2076.44 1545.82 2080.05 1545.82 Q2083.68 1545.82 2085.49 1542.27 Q2087.32 1538.71 2087.32 1531.6 Q2087.32 1524.47 2085.49 1520.93 Q2083.68 1517.37 2080.05 1517.37 M2080.05 1513.66 Q2085.86 1513.66 2088.91 1518.27 Q2091.99 1522.85 2091.99 1531.6 Q2091.99 1540.33 2088.91 1544.94 Q2085.86 1549.52 2080.05 1549.52 Q2074.24 1549.52 2071.16 1544.94 Q2068.1 1540.33 2068.1 1531.6 Q2068.1 1522.85 2071.16 1518.27 Q2074.24 1513.66 2080.05 1513.66 Z\" fill=\"#000000\" fill-rule=\"evenodd\" fill-opacity=\"1\" /><path clip-path=\"url(#clip070)\" d=\"M2100.21 1542.97 L2105.09 1542.97 L2105.09 1548.85 L2100.21 1548.85 L2100.21 1542.97 Z\" fill=\"#000000\" fill-rule=\"evenodd\" fill-opacity=\"1\" /><path clip-path=\"url(#clip070)\" d=\"M2115.32 1514.29 L2133.68 1514.29 L2133.68 1518.22 L2119.61 1518.22 L2119.61 1526.7 Q2120.63 1526.35 2121.64 1526.19 Q2122.66 1526 2123.68 1526 Q2129.47 1526 2132.85 1529.17 Q2136.23 1532.34 2136.23 1537.76 Q2136.23 1543.34 2132.75 1546.44 Q2129.28 1549.52 2122.96 1549.52 Q2120.79 1549.52 2118.52 1549.15 Q2116.27 1548.78 2113.87 1548.04 L2113.87 1543.34 Q2115.95 1544.47 2118.17 1545.03 Q2120.39 1545.58 2122.87 1545.58 Q2126.88 1545.58 2129.21 1543.48 Q2131.55 1541.37 2131.55 1537.76 Q2131.55 1534.15 2129.21 1532.04 Q2126.88 1529.94 2122.87 1529.94 Q2121 1529.94 2119.12 1530.35 Q2117.27 1530.77 2115.32 1531.65 L2115.32 1514.29 Z\" fill=\"#000000\" fill-rule=\"evenodd\" fill-opacity=\"1\" /><path clip-path=\"url(#clip070)\" d=\"M2149.47 1544.91 L2165.79 1544.91 L2165.79 1548.85 L2143.84 1548.85 L2143.84 1544.91 Q2146.5 1542.16 2151.09 1537.53 Q2155.69 1532.88 2156.88 1531.53 Q2159.12 1529.01 2160 1527.27 Q2160.9 1525.51 2160.9 1523.82 Q2160.9 1521.07 2158.96 1519.33 Q2157.04 1517.6 2153.94 1517.6 Q2151.74 1517.6 2149.28 1518.36 Q2146.85 1519.13 2144.07 1520.68 L2144.07 1515.95 Q2146.9 1514.82 2149.35 1514.24 Q2151.81 1513.66 2153.84 1513.66 Q2159.21 1513.66 2162.41 1516.35 Q2165.6 1519.03 2165.6 1523.52 Q2165.6 1525.65 2164.79 1527.57 Q2164 1529.47 2161.9 1532.07 Q2161.32 1532.74 2158.22 1535.95 Q2155.12 1539.15 2149.47 1544.91 Z\" fill=\"#000000\" fill-rule=\"evenodd\" fill-opacity=\"1\" /><path clip-path=\"url(#clip070)\" d=\"M2259.72 1517.37 Q2256.11 1517.37 2254.28 1520.93 Q2252.47 1524.47 2252.47 1531.6 Q2252.47 1538.71 2254.28 1542.27 Q2256.11 1545.82 2259.72 1545.82 Q2263.35 1545.82 2265.16 1542.27 Q2266.99 1538.71 2266.99 1531.6 Q2266.99 1524.47 2265.16 1520.93 Q2263.35 1517.37 2259.72 1517.37 M2259.72 1513.66 Q2265.53 1513.66 2268.58 1518.27 Q2271.66 1522.85 2271.66 1531.6 Q2271.66 1540.33 2268.58 1544.94 Q2265.53 1549.52 2259.72 1549.52 Q2253.91 1549.52 2250.83 1544.94 Q2247.77 1540.33 2247.77 1531.6 Q2247.77 1522.85 2250.83 1518.27 Q2253.91 1513.66 2259.72 1513.66 Z\" fill=\"#000000\" fill-rule=\"evenodd\" fill-opacity=\"1\" /><path clip-path=\"url(#clip070)\" d=\"M2279.88 1542.97 L2284.76 1542.97 L2284.76 1548.85 L2279.88 1548.85 L2279.88 1542.97 Z\" fill=\"#000000\" fill-rule=\"evenodd\" fill-opacity=\"1\" /><path clip-path=\"url(#clip070)\" d=\"M2295 1514.29 L2313.35 1514.29 L2313.35 1518.22 L2299.28 1518.22 L2299.28 1526.7 Q2300.3 1526.35 2301.32 1526.19 Q2302.33 1526 2303.35 1526 Q2309.14 1526 2312.52 1529.17 Q2315.9 1532.34 2315.9 1537.76 Q2315.9 1543.34 2312.43 1546.44 Q2308.95 1549.52 2302.63 1549.52 Q2300.46 1549.52 2298.19 1549.15 Q2295.94 1548.78 2293.54 1548.04 L2293.54 1543.34 Q2295.62 1544.47 2297.84 1545.03 Q2300.07 1545.58 2302.54 1545.58 Q2306.55 1545.58 2308.88 1543.48 Q2311.22 1541.37 2311.22 1537.76 Q2311.22 1534.15 2308.88 1532.04 Q2306.55 1529.94 2302.54 1529.94 Q2300.67 1529.94 2298.79 1530.35 Q2296.94 1530.77 2295 1531.65 L2295 1514.29 Z\" fill=\"#000000\" fill-rule=\"evenodd\" fill-opacity=\"1\" /><path clip-path=\"url(#clip070)\" d=\"M2339.28 1530.21 Q2342.63 1530.93 2344.51 1533.2 Q2346.41 1535.47 2346.41 1538.8 Q2346.41 1543.92 2342.89 1546.72 Q2339.37 1549.52 2332.89 1549.52 Q2330.71 1549.52 2328.4 1549.08 Q2326.11 1548.66 2323.65 1547.81 L2323.65 1543.29 Q2325.6 1544.43 2327.91 1545.01 Q2330.23 1545.58 2332.75 1545.58 Q2337.15 1545.58 2339.44 1543.85 Q2341.75 1542.11 2341.75 1538.8 Q2341.75 1535.75 2339.6 1534.03 Q2337.47 1532.3 2333.65 1532.3 L2329.63 1532.3 L2329.63 1528.45 L2333.84 1528.45 Q2337.29 1528.45 2339.12 1527.09 Q2340.94 1525.7 2340.94 1523.11 Q2340.94 1520.45 2339.05 1519.03 Q2337.17 1517.6 2333.65 1517.6 Q2331.73 1517.6 2329.53 1518.01 Q2327.33 1518.43 2324.69 1519.31 L2324.69 1515.14 Q2327.36 1514.4 2329.67 1514.03 Q2332.01 1513.66 2334.07 1513.66 Q2339.39 1513.66 2342.5 1516.09 Q2345.6 1518.5 2345.6 1522.62 Q2345.6 1525.49 2343.95 1527.48 Q2342.31 1529.45 2339.28 1530.21 Z\" fill=\"#000000\" fill-rule=\"evenodd\" fill-opacity=\"1\" /><polyline clip-path=\"url(#clip073)\" style=\"stroke:#000000; stroke-linecap:butt; stroke-linejoin:round; stroke-width:2; stroke-opacity:0.1; fill:none\" points=\"\n",
       "  1340.7,1445.72 2352.76,1445.72 \n",
       "  \"/>\n",
       "<polyline clip-path=\"url(#clip073)\" style=\"stroke:#000000; stroke-linecap:butt; stroke-linejoin:round; stroke-width:2; stroke-opacity:0.1; fill:none\" points=\"\n",
       "  1340.7,1174.17 2352.76,1174.17 \n",
       "  \"/>\n",
       "<polyline clip-path=\"url(#clip073)\" style=\"stroke:#000000; stroke-linecap:butt; stroke-linejoin:round; stroke-width:2; stroke-opacity:0.1; fill:none\" points=\"\n",
       "  1340.7,902.62 2352.76,902.62 \n",
       "  \"/>\n",
       "<polyline clip-path=\"url(#clip073)\" style=\"stroke:#000000; stroke-linecap:butt; stroke-linejoin:round; stroke-width:2; stroke-opacity:0.1; fill:none\" points=\"\n",
       "  1340.7,631.072 2352.76,631.072 \n",
       "  \"/>\n",
       "<polyline clip-path=\"url(#clip073)\" style=\"stroke:#000000; stroke-linecap:butt; stroke-linejoin:round; stroke-width:2; stroke-opacity:0.1; fill:none\" points=\"\n",
       "  1340.7,359.524 2352.76,359.524 \n",
       "  \"/>\n",
       "<polyline clip-path=\"url(#clip073)\" style=\"stroke:#000000; stroke-linecap:butt; stroke-linejoin:round; stroke-width:2; stroke-opacity:0.1; fill:none\" points=\"\n",
       "  1340.7,87.9763 2352.76,87.9763 \n",
       "  \"/>\n",
       "<polyline clip-path=\"url(#clip070)\" style=\"stroke:#000000; stroke-linecap:butt; stroke-linejoin:round; stroke-width:4; stroke-opacity:1; fill:none\" points=\"\n",
       "  1340.7,1486.45 1340.7,47.2441 \n",
       "  \"/>\n",
       "<polyline clip-path=\"url(#clip070)\" style=\"stroke:#000000; stroke-linecap:butt; stroke-linejoin:round; stroke-width:4; stroke-opacity:1; fill:none\" points=\"\n",
       "  1340.7,1445.72 1359.59,1445.72 \n",
       "  \"/>\n",
       "<polyline clip-path=\"url(#clip070)\" style=\"stroke:#000000; stroke-linecap:butt; stroke-linejoin:round; stroke-width:4; stroke-opacity:1; fill:none\" points=\"\n",
       "  1340.7,1174.17 1359.59,1174.17 \n",
       "  \"/>\n",
       "<polyline clip-path=\"url(#clip070)\" style=\"stroke:#000000; stroke-linecap:butt; stroke-linejoin:round; stroke-width:4; stroke-opacity:1; fill:none\" points=\"\n",
       "  1340.7,902.62 1359.59,902.62 \n",
       "  \"/>\n",
       "<polyline clip-path=\"url(#clip070)\" style=\"stroke:#000000; stroke-linecap:butt; stroke-linejoin:round; stroke-width:4; stroke-opacity:1; fill:none\" points=\"\n",
       "  1340.7,631.072 1359.59,631.072 \n",
       "  \"/>\n",
       "<polyline clip-path=\"url(#clip070)\" style=\"stroke:#000000; stroke-linecap:butt; stroke-linejoin:round; stroke-width:4; stroke-opacity:1; fill:none\" points=\"\n",
       "  1340.7,359.524 1359.59,359.524 \n",
       "  \"/>\n",
       "<polyline clip-path=\"url(#clip070)\" style=\"stroke:#000000; stroke-linecap:butt; stroke-linejoin:round; stroke-width:4; stroke-opacity:1; fill:none\" points=\"\n",
       "  1340.7,87.9763 1359.59,87.9763 \n",
       "  \"/>\n",
       "<path clip-path=\"url(#clip070)\" d=\"M1292.75 1431.51 Q1289.14 1431.51 1287.31 1435.08 Q1285.51 1438.62 1285.51 1445.75 Q1285.51 1452.86 1287.31 1456.42 Q1289.14 1459.96 1292.75 1459.96 Q1296.39 1459.96 1298.19 1456.42 Q1300.02 1452.86 1300.02 1445.75 Q1300.02 1438.62 1298.19 1435.08 Q1296.39 1431.51 1292.75 1431.51 M1292.75 1427.81 Q1298.56 1427.81 1301.62 1432.42 Q1304.7 1437 1304.7 1445.75 Q1304.7 1454.48 1301.62 1459.08 Q1298.56 1463.67 1292.75 1463.67 Q1286.94 1463.67 1283.86 1459.08 Q1280.81 1454.48 1280.81 1445.75 Q1280.81 1437 1283.86 1432.42 Q1286.94 1427.81 1292.75 1427.81 Z\" fill=\"#000000\" fill-rule=\"evenodd\" fill-opacity=\"1\" /><path clip-path=\"url(#clip070)\" d=\"M1283.79 1156.89 L1302.15 1156.89 L1302.15 1160.82 L1288.08 1160.82 L1288.08 1169.3 Q1289.09 1168.95 1290.11 1168.79 Q1291.13 1168.6 1292.15 1168.6 Q1297.94 1168.6 1301.32 1171.77 Q1304.7 1174.94 1304.7 1180.36 Q1304.7 1185.94 1301.22 1189.04 Q1297.75 1192.12 1291.43 1192.12 Q1289.26 1192.12 1286.99 1191.75 Q1284.74 1191.38 1282.33 1190.64 L1282.33 1185.94 Q1284.42 1187.07 1286.64 1187.63 Q1288.86 1188.18 1291.34 1188.18 Q1295.34 1188.18 1297.68 1186.08 Q1300.02 1183.97 1300.02 1180.36 Q1300.02 1176.75 1297.68 1174.64 Q1295.34 1172.54 1291.34 1172.54 Q1289.46 1172.54 1287.59 1172.95 Q1285.74 1173.37 1283.79 1174.25 L1283.79 1156.89 Z\" fill=\"#000000\" fill-rule=\"evenodd\" fill-opacity=\"1\" /><path clip-path=\"url(#clip070)\" d=\"M1253.4 915.965 L1261.04 915.965 L1261.04 889.599 L1252.73 891.266 L1252.73 887.007 L1260.99 885.34 L1265.67 885.34 L1265.67 915.965 L1273.31 915.965 L1273.31 919.9 L1253.4 919.9 L1253.4 915.965 Z\" fill=\"#000000\" fill-rule=\"evenodd\" fill-opacity=\"1\" /><path clip-path=\"url(#clip070)\" d=\"M1292.75 888.419 Q1289.14 888.419 1287.31 891.983 Q1285.51 895.525 1285.51 902.655 Q1285.51 909.761 1287.31 913.326 Q1289.14 916.868 1292.75 916.868 Q1296.39 916.868 1298.19 913.326 Q1300.02 909.761 1300.02 902.655 Q1300.02 895.525 1298.19 891.983 Q1296.39 888.419 1292.75 888.419 M1292.75 884.715 Q1298.56 884.715 1301.62 889.321 Q1304.7 893.905 1304.7 902.655 Q1304.7 911.381 1301.62 915.988 Q1298.56 920.571 1292.75 920.571 Q1286.94 920.571 1283.86 915.988 Q1280.81 911.381 1280.81 902.655 Q1280.81 893.905 1283.86 889.321 Q1286.94 884.715 1292.75 884.715 Z\" fill=\"#000000\" fill-rule=\"evenodd\" fill-opacity=\"1\" /><path clip-path=\"url(#clip070)\" d=\"M1254.39 644.417 L1262.03 644.417 L1262.03 618.051 L1253.72 619.718 L1253.72 615.459 L1261.99 613.792 L1266.66 613.792 L1266.66 644.417 L1274.3 644.417 L1274.3 648.352 L1254.39 648.352 L1254.39 644.417 Z\" fill=\"#000000\" fill-rule=\"evenodd\" fill-opacity=\"1\" /><path clip-path=\"url(#clip070)\" d=\"M1283.79 613.792 L1302.15 613.792 L1302.15 617.727 L1288.08 617.727 L1288.08 626.199 Q1289.09 625.852 1290.11 625.69 Q1291.13 625.505 1292.15 625.505 Q1297.94 625.505 1301.32 628.676 Q1304.7 631.848 1304.7 637.264 Q1304.7 642.843 1301.22 645.945 Q1297.75 649.023 1291.43 649.023 Q1289.26 649.023 1286.99 648.653 Q1284.74 648.283 1282.33 647.542 L1282.33 642.843 Q1284.42 643.977 1286.64 644.533 Q1288.86 645.088 1291.34 645.088 Q1295.34 645.088 1297.68 642.982 Q1300.02 640.875 1300.02 637.264 Q1300.02 633.653 1297.68 631.547 Q1295.34 629.44 1291.34 629.44 Q1289.46 629.44 1287.59 629.857 Q1285.74 630.273 1283.79 631.153 L1283.79 613.792 Z\" fill=\"#000000\" fill-rule=\"evenodd\" fill-opacity=\"1\" /><path clip-path=\"url(#clip070)\" d=\"M1256.62 372.869 L1272.94 372.869 L1272.94 376.804 L1250.99 376.804 L1250.99 372.869 Q1253.65 370.114 1258.24 365.485 Q1262.84 360.832 1264.02 359.489 Q1266.27 356.966 1267.15 355.23 Q1268.05 353.471 1268.05 351.781 Q1268.05 349.027 1266.11 347.29 Q1264.19 345.554 1261.08 345.554 Q1258.89 345.554 1256.43 346.318 Q1254 347.082 1251.22 348.633 L1251.22 343.911 Q1254.05 342.777 1256.5 342.198 Q1258.96 341.619 1260.99 341.619 Q1266.36 341.619 1269.56 344.304 Q1272.75 346.99 1272.75 351.48 Q1272.75 353.61 1271.94 355.531 Q1271.15 357.429 1269.05 360.022 Q1268.47 360.693 1265.37 363.911 Q1262.27 367.105 1256.62 372.869 Z\" fill=\"#000000\" fill-rule=\"evenodd\" fill-opacity=\"1\" /><path clip-path=\"url(#clip070)\" d=\"M1292.75 345.323 Q1289.14 345.323 1287.31 348.888 Q1285.51 352.429 1285.51 359.559 Q1285.51 366.665 1287.31 370.23 Q1289.14 373.772 1292.75 373.772 Q1296.39 373.772 1298.19 370.23 Q1300.02 366.665 1300.02 359.559 Q1300.02 352.429 1298.19 348.888 Q1296.39 345.323 1292.75 345.323 M1292.75 341.619 Q1298.56 341.619 1301.62 346.226 Q1304.7 350.809 1304.7 359.559 Q1304.7 368.286 1301.62 372.892 Q1298.56 377.475 1292.75 377.475 Q1286.94 377.475 1283.86 372.892 Q1280.81 368.286 1280.81 359.559 Q1280.81 350.809 1283.86 346.226 Q1286.94 341.619 1292.75 341.619 Z\" fill=\"#000000\" fill-rule=\"evenodd\" fill-opacity=\"1\" /><path clip-path=\"url(#clip070)\" d=\"M1257.61 101.321 L1273.93 101.321 L1273.93 105.256 L1251.99 105.256 L1251.99 101.321 Q1254.65 98.5665 1259.23 93.9369 Q1263.84 89.2841 1265.02 87.9416 Q1267.27 85.4184 1268.14 83.6823 Q1269.05 81.9231 1269.05 80.2333 Q1269.05 77.4786 1267.1 75.7425 Q1265.18 74.0064 1262.08 74.0064 Q1259.88 74.0064 1257.43 74.7703 Q1255 75.5342 1252.22 77.0851 L1252.22 72.3629 Q1255.04 71.2287 1257.5 70.65 Q1259.95 70.0713 1261.99 70.0713 Q1267.36 70.0713 1270.55 72.7565 Q1273.75 75.4416 1273.75 79.9323 Q1273.75 82.062 1272.94 83.9832 Q1272.15 85.8814 1270.04 88.474 Q1269.46 89.1453 1266.36 92.3628 Q1263.26 95.5573 1257.61 101.321 Z\" fill=\"#000000\" fill-rule=\"evenodd\" fill-opacity=\"1\" /><path clip-path=\"url(#clip070)\" d=\"M1283.79 70.6963 L1302.15 70.6963 L1302.15 74.6314 L1288.08 74.6314 L1288.08 83.1036 Q1289.09 82.7564 1290.11 82.5944 Q1291.13 82.4092 1292.15 82.4092 Q1297.94 82.4092 1301.32 85.5805 Q1304.7 88.7517 1304.7 94.1684 Q1304.7 99.747 1301.22 102.849 Q1297.75 105.928 1291.43 105.928 Q1289.26 105.928 1286.99 105.557 Q1284.74 105.187 1282.33 104.446 L1282.33 99.747 Q1284.42 100.881 1286.64 101.437 Q1288.86 101.992 1291.34 101.992 Q1295.34 101.992 1297.68 99.8859 Q1300.02 97.7795 1300.02 94.1684 Q1300.02 90.5573 1297.68 88.4508 Q1295.34 86.3443 1291.34 86.3443 Q1289.46 86.3443 1287.59 86.761 Q1285.74 87.1777 1283.79 88.0573 L1283.79 70.6963 Z\" fill=\"#000000\" fill-rule=\"evenodd\" fill-opacity=\"1\" /><path clip-path=\"url(#clip073)\" d=\"\n",
       "M1396.36 1391.41 L1396.36 1445.72 L1486.43 1445.72 L1486.43 1391.41 L1396.36 1391.41 L1396.36 1391.41  Z\n",
       "  \" fill=\"#009af9\" fill-rule=\"evenodd\" fill-opacity=\"1\"/>\n",
       "<polyline clip-path=\"url(#clip073)\" style=\"stroke:#000000; stroke-linecap:butt; stroke-linejoin:round; stroke-width:4; stroke-opacity:1; fill:none\" points=\"\n",
       "  1396.36,1391.41 1396.36,1445.72 1486.43,1445.72 1486.43,1391.41 1396.36,1391.41 \n",
       "  \"/>\n",
       "<path clip-path=\"url(#clip073)\" d=\"\n",
       "M1486.43 1065.55 L1486.43 1445.72 L1576.51 1445.72 L1576.51 1065.55 L1486.43 1065.55 L1486.43 1065.55  Z\n",
       "  \" fill=\"#009af9\" fill-rule=\"evenodd\" fill-opacity=\"1\"/>\n",
       "<polyline clip-path=\"url(#clip073)\" style=\"stroke:#000000; stroke-linecap:butt; stroke-linejoin:round; stroke-width:4; stroke-opacity:1; fill:none\" points=\"\n",
       "  1486.43,1065.55 1486.43,1445.72 1576.51,1445.72 1576.51,1065.55 1486.43,1065.55 \n",
       "  \"/>\n",
       "<path clip-path=\"url(#clip073)\" d=\"\n",
       "M1576.51 576.762 L1576.51 1445.72 L1666.58 1445.72 L1666.58 576.762 L1576.51 576.762 L1576.51 576.762  Z\n",
       "  \" fill=\"#009af9\" fill-rule=\"evenodd\" fill-opacity=\"1\"/>\n",
       "<polyline clip-path=\"url(#clip073)\" style=\"stroke:#000000; stroke-linecap:butt; stroke-linejoin:round; stroke-width:4; stroke-opacity:1; fill:none\" points=\"\n",
       "  1576.51,576.762 1576.51,1445.72 1666.58,1445.72 1666.58,576.762 1576.51,576.762 \n",
       "  \"/>\n",
       "<path clip-path=\"url(#clip073)\" d=\"\n",
       "M1666.58 142.286 L1666.58 1445.72 L1756.65 1445.72 L1756.65 142.286 L1666.58 142.286 L1666.58 142.286  Z\n",
       "  \" fill=\"#009af9\" fill-rule=\"evenodd\" fill-opacity=\"1\"/>\n",
       "<polyline clip-path=\"url(#clip073)\" style=\"stroke:#000000; stroke-linecap:butt; stroke-linejoin:round; stroke-width:4; stroke-opacity:1; fill:none\" points=\"\n",
       "  1666.58,142.286 1666.58,1445.72 1756.65,1445.72 1756.65,142.286 1666.58,142.286 \n",
       "  \"/>\n",
       "<path clip-path=\"url(#clip073)\" d=\"\n",
       "M1756.65 87.9763 L1756.65 1445.72 L1846.73 1445.72 L1846.73 87.9763 L1756.65 87.9763 L1756.65 87.9763  Z\n",
       "  \" fill=\"#009af9\" fill-rule=\"evenodd\" fill-opacity=\"1\"/>\n",
       "<polyline clip-path=\"url(#clip073)\" style=\"stroke:#000000; stroke-linecap:butt; stroke-linejoin:round; stroke-width:4; stroke-opacity:1; fill:none\" points=\"\n",
       "  1756.65,87.9763 1756.65,1445.72 1846.73,1445.72 1846.73,87.9763 1756.65,87.9763 \n",
       "  \"/>\n",
       "<path clip-path=\"url(#clip073)\" d=\"\n",
       "M1846.73 576.762 L1846.73 1445.72 L1936.8 1445.72 L1936.8 576.762 L1846.73 576.762 L1846.73 576.762  Z\n",
       "  \" fill=\"#009af9\" fill-rule=\"evenodd\" fill-opacity=\"1\"/>\n",
       "<polyline clip-path=\"url(#clip073)\" style=\"stroke:#000000; stroke-linecap:butt; stroke-linejoin:round; stroke-width:4; stroke-opacity:1; fill:none\" points=\"\n",
       "  1846.73,576.762 1846.73,1445.72 1936.8,1445.72 1936.8,576.762 1846.73,576.762 \n",
       "  \"/>\n",
       "<path clip-path=\"url(#clip073)\" d=\"\n",
       "M1936.8 1065.55 L1936.8 1445.72 L2026.87 1445.72 L2026.87 1065.55 L1936.8 1065.55 L1936.8 1065.55  Z\n",
       "  \" fill=\"#009af9\" fill-rule=\"evenodd\" fill-opacity=\"1\"/>\n",
       "<polyline clip-path=\"url(#clip073)\" style=\"stroke:#000000; stroke-linecap:butt; stroke-linejoin:round; stroke-width:4; stroke-opacity:1; fill:none\" points=\"\n",
       "  1936.8,1065.55 1936.8,1445.72 2026.87,1445.72 2026.87,1065.55 1936.8,1065.55 \n",
       "  \"/>\n",
       "<path clip-path=\"url(#clip073)\" d=\"\n",
       "M2026.87 1282.79 L2026.87 1445.72 L2116.94 1445.72 L2116.94 1282.79 L2026.87 1282.79 L2026.87 1282.79  Z\n",
       "  \" fill=\"#009af9\" fill-rule=\"evenodd\" fill-opacity=\"1\"/>\n",
       "<polyline clip-path=\"url(#clip073)\" style=\"stroke:#000000; stroke-linecap:butt; stroke-linejoin:round; stroke-width:4; stroke-opacity:1; fill:none\" points=\"\n",
       "  2026.87,1282.79 2026.87,1445.72 2116.94,1445.72 2116.94,1282.79 2026.87,1282.79 \n",
       "  \"/>\n",
       "<path clip-path=\"url(#clip073)\" d=\"\n",
       "M2116.94 1445.72 L2116.94 1445.72 L2207.02 1445.72 L2207.02 1445.72 L2116.94 1445.72 L2116.94 1445.72  Z\n",
       "  \" fill=\"#009af9\" fill-rule=\"evenodd\" fill-opacity=\"1\"/>\n",
       "<polyline clip-path=\"url(#clip073)\" style=\"stroke:#000000; stroke-linecap:butt; stroke-linejoin:round; stroke-width:4; stroke-opacity:1; fill:none\" points=\"\n",
       "  2116.94,1445.72 2116.94,1445.72 2207.02,1445.72 2116.94,1445.72 \n",
       "  \"/>\n",
       "<path clip-path=\"url(#clip073)\" d=\"\n",
       "M2207.02 1391.41 L2207.02 1445.72 L2297.09 1445.72 L2297.09 1391.41 L2207.02 1391.41 L2207.02 1391.41  Z\n",
       "  \" fill=\"#009af9\" fill-rule=\"evenodd\" fill-opacity=\"1\"/>\n",
       "<polyline clip-path=\"url(#clip073)\" style=\"stroke:#000000; stroke-linecap:butt; stroke-linejoin:round; stroke-width:4; stroke-opacity:1; fill:none\" points=\"\n",
       "  2207.02,1391.41 2207.02,1445.72 2297.09,1445.72 2297.09,1391.41 2207.02,1391.41 \n",
       "  \"/>\n",
       "<circle clip-path=\"url(#clip073)\" style=\"fill:#009af9; stroke:none; fill-opacity:0\" cx=\"1441.4\" cy=\"1391.41\" r=\"2\"/>\n",
       "<circle clip-path=\"url(#clip073)\" style=\"fill:#009af9; stroke:none; fill-opacity:0\" cx=\"1531.47\" cy=\"1065.55\" r=\"2\"/>\n",
       "<circle clip-path=\"url(#clip073)\" style=\"fill:#009af9; stroke:none; fill-opacity:0\" cx=\"1621.54\" cy=\"576.762\" r=\"2\"/>\n",
       "<circle clip-path=\"url(#clip073)\" style=\"fill:#009af9; stroke:none; fill-opacity:0\" cx=\"1711.62\" cy=\"142.286\" r=\"2\"/>\n",
       "<circle clip-path=\"url(#clip073)\" style=\"fill:#009af9; stroke:none; fill-opacity:0\" cx=\"1801.69\" cy=\"87.9763\" r=\"2\"/>\n",
       "<circle clip-path=\"url(#clip073)\" style=\"fill:#009af9; stroke:none; fill-opacity:0\" cx=\"1891.76\" cy=\"576.762\" r=\"2\"/>\n",
       "<circle clip-path=\"url(#clip073)\" style=\"fill:#009af9; stroke:none; fill-opacity:0\" cx=\"1981.84\" cy=\"1065.55\" r=\"2\"/>\n",
       "<circle clip-path=\"url(#clip073)\" style=\"fill:#009af9; stroke:none; fill-opacity:0\" cx=\"2071.91\" cy=\"1282.79\" r=\"2\"/>\n",
       "<circle clip-path=\"url(#clip073)\" style=\"fill:#009af9; stroke:none; fill-opacity:0\" cx=\"2161.98\" cy=\"1445.72\" r=\"2\"/>\n",
       "<circle clip-path=\"url(#clip073)\" style=\"fill:#009af9; stroke:none; fill-opacity:0\" cx=\"2252.05\" cy=\"1391.41\" r=\"2\"/>\n",
       "<path clip-path=\"url(#clip070)\" d=\"\n",
       "M1835.02 198.898 L2319.02 198.898 L2319.02 95.2176 L1835.02 95.2176  Z\n",
       "  \" fill=\"#ffffff\" fill-rule=\"evenodd\" fill-opacity=\"1\"/>\n",
       "<polyline clip-path=\"url(#clip070)\" style=\"stroke:#000000; stroke-linecap:butt; stroke-linejoin:round; stroke-width:4; stroke-opacity:1; fill:none\" points=\"\n",
       "  1835.02,198.898 2319.02,198.898 2319.02,95.2176 1835.02,95.2176 1835.02,198.898 \n",
       "  \"/>\n",
       "<path clip-path=\"url(#clip070)\" d=\"\n",
       "M1846.27 167.794 L1913.74 167.794 L1913.74 126.322 L1846.27 126.322 L1846.27 167.794  Z\n",
       "  \" fill=\"#009af9\" fill-rule=\"evenodd\" fill-opacity=\"1\"/>\n",
       "<polyline clip-path=\"url(#clip070)\" style=\"stroke:#000000; stroke-linecap:butt; stroke-linejoin:round; stroke-width:4; stroke-opacity:1; fill:none\" points=\"\n",
       "  1846.27,167.794 1913.74,167.794 1913.74,126.322 1846.27,126.322 1846.27,167.794 \n",
       "  \"/>\n",
       "<path clip-path=\"url(#clip070)\" d=\"M1924.98 129.778 L1929.66 129.778 L1929.66 160.402 L1946.49 160.402 L1946.49 164.338 L1924.98 164.338 L1924.98 129.778 Z\" fill=\"#000000\" fill-rule=\"evenodd\" fill-opacity=\"1\" /><path clip-path=\"url(#clip070)\" d=\"M1972.55 150.31 L1972.55 152.393 L1952.97 152.393 Q1953.25 156.791 1955.61 159.106 Q1957.99 161.398 1962.23 161.398 Q1964.68 161.398 1966.97 160.796 Q1969.29 160.194 1971.56 158.99 L1971.56 163.018 Q1969.26 163.99 1966.86 164.5 Q1964.45 165.009 1961.97 165.009 Q1955.77 165.009 1952.13 161.398 Q1948.52 157.787 1948.52 151.629 Q1948.52 145.264 1951.95 141.537 Q1955.4 137.787 1961.23 137.787 Q1966.46 137.787 1969.5 141.166 Q1972.55 144.523 1972.55 150.31 M1968.29 149.06 Q1968.25 145.565 1966.32 143.481 Q1964.43 141.398 1961.28 141.398 Q1957.71 141.398 1955.56 143.412 Q1953.43 145.426 1953.11 149.083 L1968.29 149.06 Z\" fill=\"#000000\" fill-rule=\"evenodd\" fill-opacity=\"1\" /><path clip-path=\"url(#clip070)\" d=\"M1979.54 138.412 L1983.8 138.412 L1983.8 164.338 L1979.54 164.338 L1979.54 138.412 M1979.54 128.319 L1983.8 128.319 L1983.8 133.713 L1979.54 133.713 L1979.54 128.319 Z\" fill=\"#000000\" fill-rule=\"evenodd\" fill-opacity=\"1\" /><path clip-path=\"url(#clip070)\" d=\"M2009.24 139.176 L2009.24 143.203 Q2007.43 142.277 2005.49 141.815 Q2003.55 141.352 2001.46 141.352 Q1998.29 141.352 1996.69 142.324 Q1995.12 143.296 1995.12 145.24 Q1995.12 146.722 1996.25 147.578 Q1997.39 148.412 2000.81 149.176 L2002.27 149.5 Q2006.81 150.472 2008.71 152.254 Q2010.63 154.014 2010.63 157.185 Q2010.63 160.796 2007.76 162.902 Q2004.91 165.009 1999.91 165.009 Q1997.83 165.009 1995.56 164.592 Q1993.31 164.199 1990.81 163.388 L1990.81 158.99 Q1993.18 160.217 1995.47 160.842 Q1997.76 161.444 2000 161.444 Q2003.01 161.444 2004.63 160.426 Q2006.25 159.384 2006.25 157.509 Q2006.25 155.773 2005.07 154.847 Q2003.92 153.921 1999.96 153.064 L1998.48 152.717 Q1994.52 151.884 1992.76 150.171 Q1991 148.435 1991 145.426 Q1991 141.768 1993.59 139.778 Q1996.18 137.787 2000.95 137.787 Q2003.31 137.787 2005.4 138.134 Q2007.48 138.481 2009.24 139.176 Z\" fill=\"#000000\" fill-rule=\"evenodd\" fill-opacity=\"1\" /><path clip-path=\"url(#clip070)\" d=\"M2016.97 154.106 L2016.97 138.412 L2021.23 138.412 L2021.23 153.944 Q2021.23 157.625 2022.67 159.476 Q2024.1 161.305 2026.97 161.305 Q2030.42 161.305 2032.41 159.106 Q2034.43 156.907 2034.43 153.111 L2034.43 138.412 L2038.68 138.412 L2038.68 164.338 L2034.43 164.338 L2034.43 160.356 Q2032.87 162.717 2030.81 163.875 Q2028.78 165.009 2026.07 165.009 Q2021.6 165.009 2019.29 162.231 Q2016.97 159.453 2016.97 154.106 M2027.69 137.787 L2027.69 137.787 Z\" fill=\"#000000\" fill-rule=\"evenodd\" fill-opacity=\"1\" /><path clip-path=\"url(#clip070)\" d=\"M2062.48 142.393 Q2061.76 141.977 2060.91 141.791 Q2060.07 141.583 2059.05 141.583 Q2055.44 141.583 2053.5 143.944 Q2051.58 146.282 2051.58 150.68 L2051.58 164.338 L2047.3 164.338 L2047.3 138.412 L2051.58 138.412 L2051.58 142.44 Q2052.92 140.078 2055.07 138.944 Q2057.23 137.787 2060.3 137.787 Q2060.74 137.787 2061.28 137.856 Q2061.81 137.903 2062.46 138.018 L2062.48 142.393 Z\" fill=\"#000000\" fill-rule=\"evenodd\" fill-opacity=\"1\" /><path clip-path=\"url(#clip070)\" d=\"M2088.08 150.31 L2088.08 152.393 L2068.5 152.393 Q2068.78 156.791 2071.14 159.106 Q2073.52 161.398 2077.76 161.398 Q2080.21 161.398 2082.5 160.796 Q2084.82 160.194 2087.09 158.99 L2087.09 163.018 Q2084.8 163.99 2082.39 164.5 Q2079.98 165.009 2077.5 165.009 Q2071.3 165.009 2067.67 161.398 Q2064.05 157.787 2064.05 151.629 Q2064.05 145.264 2067.48 141.537 Q2070.93 137.787 2076.76 137.787 Q2081.99 137.787 2085.03 141.166 Q2088.08 144.523 2088.08 150.31 M2083.82 149.06 Q2083.78 145.565 2081.86 143.481 Q2079.96 141.398 2076.81 141.398 Q2073.24 141.398 2071.09 143.412 Q2068.96 145.426 2068.64 149.083 L2083.82 149.06 Z\" fill=\"#000000\" fill-rule=\"evenodd\" fill-opacity=\"1\" /><path clip-path=\"url(#clip070)\" d=\"M2110.14 138.412 L2114.4 138.412 L2114.4 164.338 L2110.14 164.338 L2110.14 138.412 M2110.14 128.319 L2114.4 128.319 L2114.4 133.713 L2110.14 133.713 L2110.14 128.319 Z\" fill=\"#000000\" fill-rule=\"evenodd\" fill-opacity=\"1\" /><path clip-path=\"url(#clip070)\" d=\"M2144.86 148.689 L2144.86 164.338 L2140.61 164.338 L2140.61 148.828 Q2140.61 145.148 2139.17 143.319 Q2137.73 141.49 2134.86 141.49 Q2131.42 141.49 2129.42 143.69 Q2127.43 145.889 2127.43 149.685 L2127.43 164.338 L2123.15 164.338 L2123.15 138.412 L2127.43 138.412 L2127.43 142.44 Q2128.96 140.102 2131.02 138.944 Q2133.11 137.787 2135.81 137.787 Q2140.28 137.787 2142.57 140.565 Q2144.86 143.319 2144.86 148.689 Z\" fill=\"#000000\" fill-rule=\"evenodd\" fill-opacity=\"1\" /><path clip-path=\"url(#clip070)\" d=\"M2170.42 142.347 L2170.42 128.319 L2174.68 128.319 L2174.68 164.338 L2170.42 164.338 L2170.42 160.449 Q2169.08 162.763 2167.02 163.898 Q2164.98 165.009 2162.11 165.009 Q2157.41 165.009 2154.45 161.259 Q2151.51 157.509 2151.51 151.398 Q2151.51 145.287 2154.45 141.537 Q2157.41 137.787 2162.11 137.787 Q2164.98 137.787 2167.02 138.921 Q2169.08 140.032 2170.42 142.347 M2155.91 151.398 Q2155.91 156.097 2157.83 158.782 Q2159.77 161.444 2163.15 161.444 Q2166.53 161.444 2168.48 158.782 Q2170.42 156.097 2170.42 151.398 Q2170.42 146.699 2168.48 144.037 Q2166.53 141.352 2163.15 141.352 Q2159.77 141.352 2157.83 144.037 Q2155.91 146.699 2155.91 151.398 Z\" fill=\"#000000\" fill-rule=\"evenodd\" fill-opacity=\"1\" /><path clip-path=\"url(#clip070)\" d=\"M2205.63 150.31 L2205.63 152.393 L2186.04 152.393 Q2186.32 156.791 2188.68 159.106 Q2191.07 161.398 2195.3 161.398 Q2197.76 161.398 2200.05 160.796 Q2202.36 160.194 2204.63 158.99 L2204.63 163.018 Q2202.34 163.99 2199.93 164.5 Q2197.53 165.009 2195.05 165.009 Q2188.85 165.009 2185.21 161.398 Q2181.6 157.787 2181.6 151.629 Q2181.6 145.264 2185.03 141.537 Q2188.48 137.787 2194.31 137.787 Q2199.54 137.787 2202.57 141.166 Q2205.63 144.523 2205.63 150.31 M2201.37 149.06 Q2201.32 145.565 2199.4 143.481 Q2197.5 141.398 2194.35 141.398 Q2190.79 141.398 2188.64 143.412 Q2186.51 145.426 2186.18 149.083 L2201.37 149.06 Z\" fill=\"#000000\" fill-rule=\"evenodd\" fill-opacity=\"1\" /><path clip-path=\"url(#clip070)\" d=\"M2233.34 138.412 L2223.96 151.027 L2233.82 164.338 L2228.8 164.338 L2221.25 154.152 L2213.71 164.338 L2208.68 164.338 L2218.75 150.773 L2209.54 138.412 L2214.56 138.412 L2221.44 147.648 L2228.31 138.412 L2233.34 138.412 Z\" fill=\"#000000\" fill-rule=\"evenodd\" fill-opacity=\"1\" /><path clip-path=\"url(#clip070)\" d=\"M2265.14 128.366 Q2262.04 133.69 2260.54 138.898 Q2259.03 144.106 2259.03 149.453 Q2259.03 154.801 2260.54 160.055 Q2262.06 165.287 2265.14 170.588 L2261.44 170.588 Q2257.97 165.148 2256.23 159.893 Q2254.52 154.639 2254.52 149.453 Q2254.52 144.291 2256.23 139.06 Q2257.94 133.828 2261.44 128.366 L2265.14 128.366 Z\" fill=\"#000000\" fill-rule=\"evenodd\" fill-opacity=\"1\" /><path clip-path=\"url(#clip070)\" d=\"M2273.41 128.319 L2277.66 128.319 L2277.66 164.338 L2273.41 164.338 L2273.41 128.319 Z\" fill=\"#000000\" fill-rule=\"evenodd\" fill-opacity=\"1\" /><path clip-path=\"url(#clip070)\" d=\"M2285.91 128.366 L2289.61 128.366 Q2293.08 133.828 2294.79 139.06 Q2296.53 144.291 2296.53 149.453 Q2296.53 154.639 2294.79 159.893 Q2293.08 165.148 2289.61 170.588 L2285.91 170.588 Q2288.98 165.287 2290.49 160.055 Q2292.02 154.801 2292.02 149.453 Q2292.02 144.106 2290.49 138.898 Q2288.98 133.69 2285.91 128.366 Z\" fill=\"#000000\" fill-rule=\"evenodd\" fill-opacity=\"1\" /></svg>\n"
      ]
     },
     "execution_count": 9,
     "metadata": {},
     "output_type": "execute_result"
    }
   ],
   "source": [
    "using Plots\n",
    "df.l = 1 .- (df.labor_hours ./ 3600)\n",
    "plot(histogram(df.labor_hours, label=\"Labor hours\"),  histogram(df.l, label=\"Leisure index (l)\"))"
   ]
  },
  {
   "cell_type": "markdown",
   "id": "a2acb999-ad07-4836-9bde-6cd262f370cc",
   "metadata": {
    "slideshow": {
     "slide_type": "slide"
    },
    "tags": []
   },
   "source": [
    "## Data\n",
    "\n",
    "Next, we need to convert hourly wage rates to annual wage rates (when $l=0$). So we multiply the wage rate by 3600 hours. But to keep things scaled, we represent that in thousands of dollars"
   ]
  },
  {
   "cell_type": "code",
   "execution_count": 10,
   "id": "9bcf24e4-84cd-4dd9-bdac-24228369a6e3",
   "metadata": {},
   "outputs": [
    {
     "data": {
      "image/svg+xml": [
       "<?xml version=\"1.0\" encoding=\"utf-8\"?>\n",
       "<svg xmlns=\"http://www.w3.org/2000/svg\" xmlns:xlink=\"http://www.w3.org/1999/xlink\" width=\"600\" height=\"400\" viewBox=\"0 0 2400 1600\">\n",
       "<defs>\n",
       "  <clipPath id=\"clip110\">\n",
       "    <rect x=\"0\" y=\"0\" width=\"2400\" height=\"1600\"/>\n",
       "  </clipPath>\n",
       "</defs>\n",
       "<path clip-path=\"url(#clip110)\" d=\"\n",
       "M0 1600 L2400 1600 L2400 0 L0 0  Z\n",
       "  \" fill=\"#ffffff\" fill-rule=\"evenodd\" fill-opacity=\"1\"/>\n",
       "<defs>\n",
       "  <clipPath id=\"clip111\">\n",
       "    <rect x=\"480\" y=\"0\" width=\"1681\" height=\"1600\"/>\n",
       "  </clipPath>\n",
       "</defs>\n",
       "<path clip-path=\"url(#clip110)\" d=\"\n",
       "M140.696 1486.45 L1152.76 1486.45 L1152.76 47.2441 L140.696 47.2441  Z\n",
       "  \" fill=\"#ffffff\" fill-rule=\"evenodd\" fill-opacity=\"1\"/>\n",
       "<defs>\n",
       "  <clipPath id=\"clip112\">\n",
       "    <rect x=\"140\" y=\"47\" width=\"1013\" height=\"1440\"/>\n",
       "  </clipPath>\n",
       "</defs>\n",
       "<polyline clip-path=\"url(#clip112)\" style=\"stroke:#000000; stroke-linecap:butt; stroke-linejoin:round; stroke-width:2; stroke-opacity:0.1; fill:none\" points=\"\n",
       "  196.361,1486.45 196.361,47.2441 \n",
       "  \"/>\n",
       "<polyline clip-path=\"url(#clip112)\" style=\"stroke:#000000; stroke-linecap:butt; stroke-linejoin:round; stroke-width:2; stroke-opacity:0.1; fill:none\" points=\"\n",
       "  496.604,1486.45 496.604,47.2441 \n",
       "  \"/>\n",
       "<polyline clip-path=\"url(#clip112)\" style=\"stroke:#000000; stroke-linecap:butt; stroke-linejoin:round; stroke-width:2; stroke-opacity:0.1; fill:none\" points=\"\n",
       "  796.847,1486.45 796.847,47.2441 \n",
       "  \"/>\n",
       "<polyline clip-path=\"url(#clip112)\" style=\"stroke:#000000; stroke-linecap:butt; stroke-linejoin:round; stroke-width:2; stroke-opacity:0.1; fill:none\" points=\"\n",
       "  1097.09,1486.45 1097.09,47.2441 \n",
       "  \"/>\n",
       "<polyline clip-path=\"url(#clip110)\" style=\"stroke:#000000; stroke-linecap:butt; stroke-linejoin:round; stroke-width:4; stroke-opacity:1; fill:none\" points=\"\n",
       "  140.696,1486.45 1152.76,1486.45 \n",
       "  \"/>\n",
       "<polyline clip-path=\"url(#clip110)\" style=\"stroke:#000000; stroke-linecap:butt; stroke-linejoin:round; stroke-width:4; stroke-opacity:1; fill:none\" points=\"\n",
       "  196.361,1486.45 196.361,1467.55 \n",
       "  \"/>\n",
       "<polyline clip-path=\"url(#clip110)\" style=\"stroke:#000000; stroke-linecap:butt; stroke-linejoin:round; stroke-width:4; stroke-opacity:1; fill:none\" points=\"\n",
       "  496.604,1486.45 496.604,1467.55 \n",
       "  \"/>\n",
       "<polyline clip-path=\"url(#clip110)\" style=\"stroke:#000000; stroke-linecap:butt; stroke-linejoin:round; stroke-width:4; stroke-opacity:1; fill:none\" points=\"\n",
       "  796.847,1486.45 796.847,1467.55 \n",
       "  \"/>\n",
       "<polyline clip-path=\"url(#clip110)\" style=\"stroke:#000000; stroke-linecap:butt; stroke-linejoin:round; stroke-width:4; stroke-opacity:1; fill:none\" points=\"\n",
       "  1097.09,1486.45 1097.09,1467.55 \n",
       "  \"/>\n",
       "<path clip-path=\"url(#clip110)\" d=\"M171.048 1544.91 L178.687 1544.91 L178.687 1518.55 L170.377 1520.21 L170.377 1515.95 L178.641 1514.29 L183.317 1514.29 L183.317 1544.91 L190.956 1544.91 L190.956 1548.85 L171.048 1548.85 L171.048 1544.91 Z\" fill=\"#000000\" fill-rule=\"evenodd\" fill-opacity=\"1\" /><path clip-path=\"url(#clip110)\" d=\"M210.4 1517.37 Q206.789 1517.37 204.96 1520.93 Q203.155 1524.47 203.155 1531.6 Q203.155 1538.71 204.96 1542.27 Q206.789 1545.82 210.4 1545.82 Q214.034 1545.82 215.84 1542.27 Q217.668 1538.71 217.668 1531.6 Q217.668 1524.47 215.84 1520.93 Q214.034 1517.37 210.4 1517.37 M210.4 1513.66 Q216.21 1513.66 219.266 1518.27 Q222.344 1522.85 222.344 1531.6 Q222.344 1540.33 219.266 1544.94 Q216.21 1549.52 210.4 1549.52 Q204.59 1549.52 201.511 1544.94 Q198.456 1540.33 198.456 1531.6 Q198.456 1522.85 201.511 1518.27 Q204.59 1513.66 210.4 1513.66 Z\" fill=\"#000000\" fill-rule=\"evenodd\" fill-opacity=\"1\" /><path clip-path=\"url(#clip110)\" d=\"M475.377 1544.91 L491.697 1544.91 L491.697 1548.85 L469.752 1548.85 L469.752 1544.91 Q472.414 1542.16 476.998 1537.53 Q481.604 1532.88 482.785 1531.53 Q485.03 1529.01 485.91 1527.27 Q486.812 1525.51 486.812 1523.82 Q486.812 1521.07 484.868 1519.33 Q482.947 1517.6 479.845 1517.6 Q477.646 1517.6 475.192 1518.36 Q472.762 1519.13 469.984 1520.68 L469.984 1515.95 Q472.808 1514.82 475.262 1514.24 Q477.715 1513.66 479.752 1513.66 Q485.123 1513.66 488.317 1516.35 Q491.511 1519.03 491.511 1523.52 Q491.511 1525.65 490.701 1527.57 Q489.914 1529.47 487.808 1532.07 Q487.229 1532.74 484.127 1535.95 Q481.025 1539.15 475.377 1544.91 Z\" fill=\"#000000\" fill-rule=\"evenodd\" fill-opacity=\"1\" /><path clip-path=\"url(#clip110)\" d=\"M511.511 1517.37 Q507.9 1517.37 506.072 1520.93 Q504.266 1524.47 504.266 1531.6 Q504.266 1538.71 506.072 1542.27 Q507.9 1545.82 511.511 1545.82 Q515.146 1545.82 516.951 1542.27 Q518.78 1538.71 518.78 1531.6 Q518.78 1524.47 516.951 1520.93 Q515.146 1517.37 511.511 1517.37 M511.511 1513.66 Q517.322 1513.66 520.377 1518.27 Q523.456 1522.85 523.456 1531.6 Q523.456 1540.33 520.377 1544.94 Q517.322 1549.52 511.511 1549.52 Q505.701 1549.52 502.623 1544.94 Q499.567 1540.33 499.567 1531.6 Q499.567 1522.85 502.623 1518.27 Q505.701 1513.66 511.511 1513.66 Z\" fill=\"#000000\" fill-rule=\"evenodd\" fill-opacity=\"1\" /><path clip-path=\"url(#clip110)\" d=\"M785.69 1530.21 Q789.047 1530.93 790.922 1533.2 Q792.82 1535.47 792.82 1538.8 Q792.82 1543.92 789.301 1546.72 Q785.783 1549.52 779.301 1549.52 Q777.125 1549.52 774.81 1549.08 Q772.519 1548.66 770.065 1547.81 L770.065 1543.29 Q772.01 1544.43 774.324 1545.01 Q776.639 1545.58 779.162 1545.58 Q783.56 1545.58 785.852 1543.85 Q788.167 1542.11 788.167 1538.8 Q788.167 1535.75 786.014 1534.03 Q783.885 1532.3 780.065 1532.3 L776.037 1532.3 L776.037 1528.45 L780.25 1528.45 Q783.699 1528.45 785.528 1527.09 Q787.357 1525.7 787.357 1523.11 Q787.357 1520.45 785.459 1519.03 Q783.584 1517.6 780.065 1517.6 Q778.144 1517.6 775.945 1518.01 Q773.746 1518.43 771.107 1519.31 L771.107 1515.14 Q773.769 1514.4 776.084 1514.03 Q778.422 1513.66 780.482 1513.66 Q785.806 1513.66 788.908 1516.09 Q792.009 1518.5 792.009 1522.62 Q792.009 1525.49 790.366 1527.48 Q788.722 1529.45 785.69 1530.21 Z\" fill=\"#000000\" fill-rule=\"evenodd\" fill-opacity=\"1\" /><path clip-path=\"url(#clip110)\" d=\"M811.685 1517.37 Q808.074 1517.37 806.246 1520.93 Q804.44 1524.47 804.44 1531.6 Q804.44 1538.71 806.246 1542.27 Q808.074 1545.82 811.685 1545.82 Q815.32 1545.82 817.125 1542.27 Q818.954 1538.71 818.954 1531.6 Q818.954 1524.47 817.125 1520.93 Q815.32 1517.37 811.685 1517.37 M811.685 1513.66 Q817.495 1513.66 820.551 1518.27 Q823.63 1522.85 823.63 1531.6 Q823.63 1540.33 820.551 1544.94 Q817.495 1549.52 811.685 1549.52 Q805.875 1549.52 802.796 1544.94 Q799.741 1540.33 799.741 1531.6 Q799.741 1522.85 802.796 1518.27 Q805.875 1513.66 811.685 1513.66 Z\" fill=\"#000000\" fill-rule=\"evenodd\" fill-opacity=\"1\" /><path clip-path=\"url(#clip110)\" d=\"M1085.26 1518.36 L1073.46 1536.81 L1085.26 1536.81 L1085.26 1518.36 M1084.04 1514.29 L1089.91 1514.29 L1089.91 1536.81 L1094.85 1536.81 L1094.85 1540.7 L1089.91 1540.7 L1089.91 1548.85 L1085.26 1548.85 L1085.26 1540.7 L1069.66 1540.7 L1069.66 1536.19 L1084.04 1514.29 Z\" fill=\"#000000\" fill-rule=\"evenodd\" fill-opacity=\"1\" /><path clip-path=\"url(#clip110)\" d=\"M1112.58 1517.37 Q1108.97 1517.37 1107.14 1520.93 Q1105.33 1524.47 1105.33 1531.6 Q1105.33 1538.71 1107.14 1542.27 Q1108.97 1545.82 1112.58 1545.82 Q1116.21 1545.82 1118.02 1542.27 Q1119.85 1538.71 1119.85 1531.6 Q1119.85 1524.47 1118.02 1520.93 Q1116.21 1517.37 1112.58 1517.37 M1112.58 1513.66 Q1118.39 1513.66 1121.44 1518.27 Q1124.52 1522.85 1124.52 1531.6 Q1124.52 1540.33 1121.44 1544.94 Q1118.39 1549.52 1112.58 1549.52 Q1106.77 1549.52 1103.69 1544.94 Q1100.63 1540.33 1100.63 1531.6 Q1100.63 1522.85 1103.69 1518.27 Q1106.77 1513.66 1112.58 1513.66 Z\" fill=\"#000000\" fill-rule=\"evenodd\" fill-opacity=\"1\" /><polyline clip-path=\"url(#clip112)\" style=\"stroke:#000000; stroke-linecap:butt; stroke-linejoin:round; stroke-width:2; stroke-opacity:0.1; fill:none\" points=\"\n",
       "  140.696,1445.72 1152.76,1445.72 \n",
       "  \"/>\n",
       "<polyline clip-path=\"url(#clip112)\" style=\"stroke:#000000; stroke-linecap:butt; stroke-linejoin:round; stroke-width:2; stroke-opacity:0.1; fill:none\" points=\"\n",
       "  140.696,1078.76 1152.76,1078.76 \n",
       "  \"/>\n",
       "<polyline clip-path=\"url(#clip112)\" style=\"stroke:#000000; stroke-linecap:butt; stroke-linejoin:round; stroke-width:2; stroke-opacity:0.1; fill:none\" points=\"\n",
       "  140.696,711.802 1152.76,711.802 \n",
       "  \"/>\n",
       "<polyline clip-path=\"url(#clip112)\" style=\"stroke:#000000; stroke-linecap:butt; stroke-linejoin:round; stroke-width:2; stroke-opacity:0.1; fill:none\" points=\"\n",
       "  140.696,344.846 1152.76,344.846 \n",
       "  \"/>\n",
       "<polyline clip-path=\"url(#clip110)\" style=\"stroke:#000000; stroke-linecap:butt; stroke-linejoin:round; stroke-width:4; stroke-opacity:1; fill:none\" points=\"\n",
       "  140.696,1486.45 140.696,47.2441 \n",
       "  \"/>\n",
       "<polyline clip-path=\"url(#clip110)\" style=\"stroke:#000000; stroke-linecap:butt; stroke-linejoin:round; stroke-width:4; stroke-opacity:1; fill:none\" points=\"\n",
       "  140.696,1445.72 159.593,1445.72 \n",
       "  \"/>\n",
       "<polyline clip-path=\"url(#clip110)\" style=\"stroke:#000000; stroke-linecap:butt; stroke-linejoin:round; stroke-width:4; stroke-opacity:1; fill:none\" points=\"\n",
       "  140.696,1078.76 159.593,1078.76 \n",
       "  \"/>\n",
       "<polyline clip-path=\"url(#clip110)\" style=\"stroke:#000000; stroke-linecap:butt; stroke-linejoin:round; stroke-width:4; stroke-opacity:1; fill:none\" points=\"\n",
       "  140.696,711.802 159.593,711.802 \n",
       "  \"/>\n",
       "<polyline clip-path=\"url(#clip110)\" style=\"stroke:#000000; stroke-linecap:butt; stroke-linejoin:round; stroke-width:4; stroke-opacity:1; fill:none\" points=\"\n",
       "  140.696,344.846 159.593,344.846 \n",
       "  \"/>\n",
       "<path clip-path=\"url(#clip110)\" d=\"M92.7512 1431.51 Q89.1401 1431.51 87.3114 1435.08 Q85.5058 1438.62 85.5058 1445.75 Q85.5058 1452.86 87.3114 1456.42 Q89.1401 1459.96 92.7512 1459.96 Q96.3854 1459.96 98.1909 1456.42 Q100.02 1452.86 100.02 1445.75 Q100.02 1438.62 98.1909 1435.08 Q96.3854 1431.51 92.7512 1431.51 M92.7512 1427.81 Q98.5613 1427.81 101.617 1432.42 Q104.696 1437 104.696 1445.75 Q104.696 1454.48 101.617 1459.08 Q98.5613 1463.67 92.7512 1463.67 Q86.941 1463.67 83.8623 1459.08 Q80.8068 1454.48 80.8068 1445.75 Q80.8068 1437 83.8623 1432.42 Q86.941 1427.81 92.7512 1427.81 Z\" fill=\"#000000\" fill-rule=\"evenodd\" fill-opacity=\"1\" /><path clip-path=\"url(#clip110)\" d=\"M53.3995 1092.1 L61.0384 1092.1 L61.0384 1065.74 L52.7282 1067.4 L52.7282 1063.15 L60.9921 1061.48 L65.668 1061.48 L65.668 1092.1 L73.3068 1092.1 L73.3068 1096.04 L53.3995 1096.04 L53.3995 1092.1 Z\" fill=\"#000000\" fill-rule=\"evenodd\" fill-opacity=\"1\" /><path clip-path=\"url(#clip110)\" d=\"M92.7512 1064.56 Q89.1401 1064.56 87.3114 1068.12 Q85.5058 1071.66 85.5058 1078.79 Q85.5058 1085.9 87.3114 1089.47 Q89.1401 1093.01 92.7512 1093.01 Q96.3854 1093.01 98.1909 1089.47 Q100.02 1085.9 100.02 1078.79 Q100.02 1071.66 98.1909 1068.12 Q96.3854 1064.56 92.7512 1064.56 M92.7512 1060.85 Q98.5613 1060.85 101.617 1065.46 Q104.696 1070.04 104.696 1078.79 Q104.696 1087.52 101.617 1092.13 Q98.5613 1096.71 92.7512 1096.71 Q86.941 1096.71 83.8623 1092.13 Q80.8068 1087.52 80.8068 1078.79 Q80.8068 1070.04 83.8623 1065.46 Q86.941 1060.85 92.7512 1060.85 Z\" fill=\"#000000\" fill-rule=\"evenodd\" fill-opacity=\"1\" /><path clip-path=\"url(#clip110)\" d=\"M56.6171 725.147 L72.9365 725.147 L72.9365 729.082 L50.9921 729.082 L50.9921 725.147 Q53.6541 722.393 58.2375 717.763 Q62.8439 713.11 64.0245 711.768 Q66.2698 709.245 67.1494 707.509 Q68.0522 705.749 68.0522 704.059 Q68.0522 701.305 66.1078 699.569 Q64.1865 697.833 61.0847 697.833 Q58.8856 697.833 56.4319 698.597 Q54.0014 699.36 51.2236 700.911 L51.2236 696.189 Q54.0477 695.055 56.5014 694.476 Q58.955 693.897 60.9921 693.897 Q66.3624 693.897 69.5568 696.583 Q72.7513 699.268 72.7513 703.759 Q72.7513 705.888 71.9411 707.809 Q71.1541 709.708 69.0476 712.3 Q68.4689 712.971 65.367 716.189 Q62.2652 719.383 56.6171 725.147 Z\" fill=\"#000000\" fill-rule=\"evenodd\" fill-opacity=\"1\" /><path clip-path=\"url(#clip110)\" d=\"M92.7512 697.601 Q89.1401 697.601 87.3114 701.166 Q85.5058 704.708 85.5058 711.837 Q85.5058 718.944 87.3114 722.508 Q89.1401 726.05 92.7512 726.05 Q96.3854 726.05 98.1909 722.508 Q100.02 718.944 100.02 711.837 Q100.02 704.708 98.1909 701.166 Q96.3854 697.601 92.7512 697.601 M92.7512 693.897 Q98.5613 693.897 101.617 698.504 Q104.696 703.087 104.696 711.837 Q104.696 720.564 101.617 725.17 Q98.5613 729.754 92.7512 729.754 Q86.941 729.754 83.8623 725.17 Q80.8068 720.564 80.8068 711.837 Q80.8068 703.087 83.8623 698.504 Q86.941 693.897 92.7512 693.897 Z\" fill=\"#000000\" fill-rule=\"evenodd\" fill-opacity=\"1\" /><path clip-path=\"url(#clip110)\" d=\"M66.7559 343.492 Q70.1124 344.209 71.9874 346.478 Q73.8855 348.746 73.8855 352.08 Q73.8855 357.195 70.367 359.996 Q66.8485 362.797 60.3671 362.797 Q58.1912 362.797 55.8764 362.357 Q53.5847 361.941 51.131 361.084 L51.131 356.57 Q53.0754 357.705 55.3903 358.283 Q57.7051 358.862 60.2282 358.862 Q64.6263 358.862 66.918 357.126 Q69.2328 355.39 69.2328 352.08 Q69.2328 349.024 67.08 347.311 Q64.9504 345.575 61.131 345.575 L57.1032 345.575 L57.1032 341.732 L61.3161 341.732 Q64.7652 341.732 66.5939 340.367 Q68.4226 338.978 68.4226 336.385 Q68.4226 333.723 66.5245 332.311 Q64.6495 330.876 61.131 330.876 Q59.2097 330.876 57.0106 331.293 Q54.8115 331.709 52.1727 332.589 L52.1727 328.422 Q54.8347 327.682 57.1495 327.311 Q59.4875 326.941 61.5476 326.941 Q66.8717 326.941 69.9735 329.371 Q73.0753 331.779 73.0753 335.899 Q73.0753 338.77 71.4318 340.76 Q69.7883 342.728 66.7559 343.492 Z\" fill=\"#000000\" fill-rule=\"evenodd\" fill-opacity=\"1\" /><path clip-path=\"url(#clip110)\" d=\"M92.7512 330.645 Q89.1401 330.645 87.3114 334.209 Q85.5058 337.751 85.5058 344.881 Q85.5058 351.987 87.3114 355.552 Q89.1401 359.094 92.7512 359.094 Q96.3854 359.094 98.1909 355.552 Q100.02 351.987 100.02 344.881 Q100.02 337.751 98.1909 334.209 Q96.3854 330.645 92.7512 330.645 M92.7512 326.941 Q98.5613 326.941 101.617 331.547 Q104.696 336.131 104.696 344.881 Q104.696 353.607 101.617 358.214 Q98.5613 362.797 92.7512 362.797 Q86.941 362.797 83.8623 358.214 Q80.8068 353.607 80.8068 344.881 Q80.8068 336.131 83.8623 331.547 Q86.941 326.941 92.7512 326.941 Z\" fill=\"#000000\" fill-rule=\"evenodd\" fill-opacity=\"1\" /><path clip-path=\"url(#clip112)\" d=\"\n",
       "M196.361 1042.06 L196.361 1445.72 L346.482 1445.72 L346.482 1042.06 L196.361 1042.06 L196.361 1042.06  Z\n",
       "  \" fill=\"#009af9\" fill-rule=\"evenodd\" fill-opacity=\"1\"/>\n",
       "<polyline clip-path=\"url(#clip112)\" style=\"stroke:#000000; stroke-linecap:butt; stroke-linejoin:round; stroke-width:4; stroke-opacity:1; fill:none\" points=\"\n",
       "  196.361,1042.06 196.361,1445.72 346.482,1445.72 346.482,1042.06 196.361,1042.06 \n",
       "  \"/>\n",
       "<path clip-path=\"url(#clip112)\" d=\"\n",
       "M346.482 87.9763 L346.482 1445.72 L496.604 1445.72 L496.604 87.9763 L346.482 87.9763 L346.482 87.9763  Z\n",
       "  \" fill=\"#009af9\" fill-rule=\"evenodd\" fill-opacity=\"1\"/>\n",
       "<polyline clip-path=\"url(#clip112)\" style=\"stroke:#000000; stroke-linecap:butt; stroke-linejoin:round; stroke-width:4; stroke-opacity:1; fill:none\" points=\"\n",
       "  346.482,87.9763 346.482,1445.72 496.604,1445.72 496.604,87.9763 346.482,87.9763 \n",
       "  \"/>\n",
       "<path clip-path=\"url(#clip112)\" d=\"\n",
       "M496.604 271.455 L496.604 1445.72 L646.726 1445.72 L646.726 271.455 L496.604 271.455 L496.604 271.455  Z\n",
       "  \" fill=\"#009af9\" fill-rule=\"evenodd\" fill-opacity=\"1\"/>\n",
       "<polyline clip-path=\"url(#clip112)\" style=\"stroke:#000000; stroke-linecap:butt; stroke-linejoin:round; stroke-width:4; stroke-opacity:1; fill:none\" points=\"\n",
       "  496.604,271.455 496.604,1445.72 646.726,1445.72 646.726,271.455 496.604,271.455 \n",
       "  \"/>\n",
       "<path clip-path=\"url(#clip112)\" d=\"\n",
       "M646.726 968.672 L646.726 1445.72 L796.847 1445.72 L796.847 968.672 L646.726 968.672 L646.726 968.672  Z\n",
       "  \" fill=\"#009af9\" fill-rule=\"evenodd\" fill-opacity=\"1\"/>\n",
       "<polyline clip-path=\"url(#clip112)\" style=\"stroke:#000000; stroke-linecap:butt; stroke-linejoin:round; stroke-width:4; stroke-opacity:1; fill:none\" points=\"\n",
       "  646.726,968.672 646.726,1445.72 796.847,1445.72 796.847,968.672 646.726,968.672 \n",
       "  \"/>\n",
       "<path clip-path=\"url(#clip112)\" d=\"\n",
       "M796.847 1298.93 L796.847 1445.72 L946.969 1445.72 L946.969 1298.93 L796.847 1298.93 L796.847 1298.93  Z\n",
       "  \" fill=\"#009af9\" fill-rule=\"evenodd\" fill-opacity=\"1\"/>\n",
       "<polyline clip-path=\"url(#clip112)\" style=\"stroke:#000000; stroke-linecap:butt; stroke-linejoin:round; stroke-width:4; stroke-opacity:1; fill:none\" points=\"\n",
       "  796.847,1298.93 796.847,1445.72 946.969,1445.72 946.969,1298.93 796.847,1298.93 \n",
       "  \"/>\n",
       "<path clip-path=\"url(#clip112)\" d=\"\n",
       "M946.969 1335.63 L946.969 1445.72 L1097.09 1445.72 L1097.09 1335.63 L946.969 1335.63 L946.969 1335.63  Z\n",
       "  \" fill=\"#009af9\" fill-rule=\"evenodd\" fill-opacity=\"1\"/>\n",
       "<polyline clip-path=\"url(#clip112)\" style=\"stroke:#000000; stroke-linecap:butt; stroke-linejoin:round; stroke-width:4; stroke-opacity:1; fill:none\" points=\"\n",
       "  946.969,1335.63 946.969,1445.72 1097.09,1445.72 1097.09,1335.63 946.969,1335.63 \n",
       "  \"/>\n",
       "<circle clip-path=\"url(#clip112)\" style=\"fill:#009af9; stroke:none; fill-opacity:0\" cx=\"271.422\" cy=\"1042.06\" r=\"2\"/>\n",
       "<circle clip-path=\"url(#clip112)\" style=\"fill:#009af9; stroke:none; fill-opacity:0\" cx=\"421.543\" cy=\"87.9763\" r=\"2\"/>\n",
       "<circle clip-path=\"url(#clip112)\" style=\"fill:#009af9; stroke:none; fill-opacity:0\" cx=\"571.665\" cy=\"271.455\" r=\"2\"/>\n",
       "<circle clip-path=\"url(#clip112)\" style=\"fill:#009af9; stroke:none; fill-opacity:0\" cx=\"721.787\" cy=\"968.672\" r=\"2\"/>\n",
       "<circle clip-path=\"url(#clip112)\" style=\"fill:#009af9; stroke:none; fill-opacity:0\" cx=\"871.908\" cy=\"1298.93\" r=\"2\"/>\n",
       "<circle clip-path=\"url(#clip112)\" style=\"fill:#009af9; stroke:none; fill-opacity:0\" cx=\"1022.03\" cy=\"1335.63\" r=\"2\"/>\n",
       "<path clip-path=\"url(#clip110)\" d=\"\n",
       "M569.326 198.898 L1119.02 198.898 L1119.02 95.2176 L569.326 95.2176  Z\n",
       "  \" fill=\"#ffffff\" fill-rule=\"evenodd\" fill-opacity=\"1\"/>\n",
       "<polyline clip-path=\"url(#clip110)\" style=\"stroke:#000000; stroke-linecap:butt; stroke-linejoin:round; stroke-width:4; stroke-opacity:1; fill:none\" points=\"\n",
       "  569.326,198.898 1119.02,198.898 1119.02,95.2176 569.326,95.2176 569.326,198.898 \n",
       "  \"/>\n",
       "<path clip-path=\"url(#clip110)\" d=\"\n",
       "M580.571 167.794 L648.042 167.794 L648.042 126.322 L580.571 126.322 L580.571 167.794  Z\n",
       "  \" fill=\"#009af9\" fill-rule=\"evenodd\" fill-opacity=\"1\"/>\n",
       "<polyline clip-path=\"url(#clip110)\" style=\"stroke:#000000; stroke-linecap:butt; stroke-linejoin:round; stroke-width:4; stroke-opacity:1; fill:none\" points=\"\n",
       "  580.571,167.794 648.042,167.794 648.042,126.322 580.571,126.322 580.571,167.794 \n",
       "  \"/>\n",
       "<path clip-path=\"url(#clip110)\" d=\"M659.287 129.778 L664.009 129.778 L671.278 158.99 L678.523 129.778 L683.778 129.778 L691.046 158.99 L698.292 129.778 L703.037 129.778 L694.357 164.338 L688.477 164.338 L681.185 134.338 L673.824 164.338 L667.945 164.338 L659.287 129.778 Z\" fill=\"#000000\" fill-rule=\"evenodd\" fill-opacity=\"1\" /><path clip-path=\"url(#clip110)\" d=\"M717.806 151.305 Q712.643 151.305 710.653 152.486 Q708.662 153.666 708.662 156.514 Q708.662 158.782 710.144 160.125 Q711.648 161.444 714.218 161.444 Q717.759 161.444 719.889 158.944 Q722.042 156.421 722.042 152.254 L722.042 151.305 L717.806 151.305 M726.301 149.546 L726.301 164.338 L722.042 164.338 L722.042 160.402 Q720.583 162.763 718.407 163.898 Q716.231 165.009 713.083 165.009 Q709.102 165.009 706.741 162.787 Q704.403 160.541 704.403 156.791 Q704.403 152.416 707.319 150.194 Q710.259 147.972 716.069 147.972 L722.042 147.972 L722.042 147.555 Q722.042 144.615 720.097 143.018 Q718.176 141.398 714.681 141.398 Q712.458 141.398 710.352 141.93 Q708.245 142.463 706.301 143.527 L706.301 139.592 Q708.639 138.69 710.838 138.25 Q713.037 137.787 715.12 137.787 Q720.745 137.787 723.523 140.703 Q726.301 143.62 726.301 149.546 Z\" fill=\"#000000\" fill-rule=\"evenodd\" fill-opacity=\"1\" /><path clip-path=\"url(#clip110)\" d=\"M752.134 151.074 Q752.134 146.444 750.213 143.898 Q748.315 141.352 744.866 141.352 Q741.44 141.352 739.518 143.898 Q737.62 146.444 737.62 151.074 Q737.62 155.68 739.518 158.226 Q741.44 160.773 744.866 160.773 Q748.315 160.773 750.213 158.226 Q752.134 155.68 752.134 151.074 M756.393 161.12 Q756.393 167.74 753.453 170.958 Q750.514 174.199 744.449 174.199 Q742.204 174.199 740.213 173.851 Q738.222 173.527 736.347 172.833 L736.347 168.689 Q738.222 169.708 740.051 170.194 Q741.879 170.68 743.778 170.68 Q747.967 170.68 750.051 168.481 Q752.134 166.305 752.134 161.884 L752.134 159.777 Q750.815 162.069 748.754 163.203 Q746.694 164.338 743.824 164.338 Q739.055 164.338 736.139 160.703 Q733.222 157.069 733.222 151.074 Q733.222 145.055 736.139 141.421 Q739.055 137.787 743.824 137.787 Q746.694 137.787 748.754 138.921 Q750.815 140.055 752.134 142.347 L752.134 138.412 L756.393 138.412 L756.393 161.12 Z\" fill=\"#000000\" fill-rule=\"evenodd\" fill-opacity=\"1\" /><path clip-path=\"url(#clip110)\" d=\"M787.342 150.31 L787.342 152.393 L767.759 152.393 Q768.037 156.791 770.398 159.106 Q772.782 161.398 777.018 161.398 Q779.472 161.398 781.763 160.796 Q784.078 160.194 786.347 158.99 L786.347 163.018 Q784.055 163.99 781.648 164.5 Q779.24 165.009 776.764 165.009 Q770.56 165.009 766.926 161.398 Q763.315 157.787 763.315 151.629 Q763.315 145.264 766.74 141.537 Q770.189 137.787 776.023 137.787 Q781.254 137.787 784.287 141.166 Q787.342 144.523 787.342 150.31 M783.083 149.06 Q783.037 145.565 781.115 143.481 Q779.217 141.398 776.069 141.398 Q772.504 141.398 770.352 143.412 Q768.222 145.426 767.898 149.083 L783.083 149.06 Z\" fill=\"#000000\" fill-rule=\"evenodd\" fill-opacity=\"1\" /><path clip-path=\"url(#clip110)\" d=\"M824.425 142.393 Q823.708 141.977 822.851 141.791 Q822.018 141.583 820.999 141.583 Q817.388 141.583 815.444 143.944 Q813.523 146.282 813.523 150.68 L813.523 164.338 L809.24 164.338 L809.24 138.412 L813.523 138.412 L813.523 142.44 Q814.865 140.078 817.018 138.944 Q819.171 137.787 822.249 137.787 Q822.689 137.787 823.222 137.856 Q823.754 137.903 824.402 138.018 L824.425 142.393 Z\" fill=\"#000000\" fill-rule=\"evenodd\" fill-opacity=\"1\" /><path clip-path=\"url(#clip110)\" d=\"M840.675 151.305 Q835.513 151.305 833.522 152.486 Q831.532 153.666 831.532 156.514 Q831.532 158.782 833.013 160.125 Q834.518 161.444 837.087 161.444 Q840.629 161.444 842.759 158.944 Q844.911 156.421 844.911 152.254 L844.911 151.305 L840.675 151.305 M849.171 149.546 L849.171 164.338 L844.911 164.338 L844.911 160.402 Q843.453 162.763 841.277 163.898 Q839.101 165.009 835.953 165.009 Q831.972 165.009 829.61 162.787 Q827.273 160.541 827.273 156.791 Q827.273 152.416 830.189 150.194 Q833.129 147.972 838.939 147.972 L844.911 147.972 L844.911 147.555 Q844.911 144.615 842.967 143.018 Q841.046 141.398 837.55 141.398 Q835.328 141.398 833.222 141.93 Q831.115 142.463 829.171 143.527 L829.171 139.592 Q831.509 138.69 833.708 138.25 Q835.907 137.787 837.99 137.787 Q843.615 137.787 846.393 140.703 Q849.171 143.62 849.171 149.546 Z\" fill=\"#000000\" fill-rule=\"evenodd\" fill-opacity=\"1\" /><path clip-path=\"url(#clip110)\" d=\"M862.157 131.051 L862.157 138.412 L870.93 138.412 L870.93 141.722 L862.157 141.722 L862.157 155.796 Q862.157 158.967 863.013 159.87 Q863.893 160.773 866.555 160.773 L870.93 160.773 L870.93 164.338 L866.555 164.338 Q861.624 164.338 859.749 162.509 Q857.874 160.657 857.874 155.796 L857.874 141.722 L854.749 141.722 L854.749 138.412 L857.874 138.412 L857.874 131.051 L862.157 131.051 Z\" fill=\"#000000\" fill-rule=\"evenodd\" fill-opacity=\"1\" /><path clip-path=\"url(#clip110)\" d=\"M898.707 150.31 L898.707 152.393 L879.124 152.393 Q879.402 156.791 881.763 159.106 Q884.147 161.398 888.383 161.398 Q890.837 161.398 893.129 160.796 Q895.443 160.194 897.712 158.99 L897.712 163.018 Q895.42 163.99 893.013 164.5 Q890.606 165.009 888.129 165.009 Q881.925 165.009 878.291 161.398 Q874.68 157.787 874.68 151.629 Q874.68 145.264 878.106 141.537 Q881.555 137.787 887.388 137.787 Q892.619 137.787 895.652 141.166 Q898.707 144.523 898.707 150.31 M894.448 149.06 Q894.402 145.565 892.48 143.481 Q890.582 141.398 887.434 141.398 Q883.869 141.398 881.717 143.412 Q879.587 145.426 879.263 149.083 L894.448 149.06 Z\" fill=\"#000000\" fill-rule=\"evenodd\" fill-opacity=\"1\" /><path clip-path=\"url(#clip110)\" d=\"M930.999 128.366 Q927.897 133.69 926.392 138.898 Q924.888 144.106 924.888 149.453 Q924.888 154.801 926.392 160.055 Q927.92 165.287 930.999 170.588 L927.295 170.588 Q923.823 165.148 922.087 159.893 Q920.374 154.639 920.374 149.453 Q920.374 144.291 922.087 139.06 Q923.8 133.828 927.295 128.366 L930.999 128.366 Z\" fill=\"#000000\" fill-rule=\"evenodd\" fill-opacity=\"1\" /><path clip-path=\"url(#clip110)\" d=\"M938.915 129.778 L943.614 129.778 L943.614 150.773 Q943.614 156.328 945.628 158.782 Q947.642 161.213 952.156 161.213 Q956.647 161.213 958.661 158.782 Q960.675 156.328 960.675 150.773 L960.675 129.778 L965.374 129.778 L965.374 151.352 Q965.374 158.111 962.017 161.56 Q958.684 165.009 952.156 165.009 Q945.605 165.009 942.249 161.56 Q938.915 158.111 938.915 151.352 L938.915 129.778 Z\" fill=\"#000000\" fill-rule=\"evenodd\" fill-opacity=\"1\" /><path clip-path=\"url(#clip110)\" d=\"M994.864 130.912 L994.864 135.472 Q992.202 134.199 989.841 133.574 Q987.48 132.949 985.281 132.949 Q981.462 132.949 979.378 134.43 Q977.318 135.912 977.318 138.643 Q977.318 140.935 978.684 142.115 Q980.073 143.273 983.915 143.99 L986.739 144.569 Q991.971 145.565 994.448 148.088 Q996.948 150.588 996.948 154.801 Q996.948 159.824 993.568 162.416 Q990.211 165.009 983.707 165.009 Q981.253 165.009 978.475 164.453 Q975.721 163.898 972.758 162.81 L972.758 157.995 Q975.605 159.592 978.337 160.402 Q981.068 161.213 983.707 161.213 Q987.711 161.213 989.887 159.639 Q992.063 158.064 992.063 155.148 Q992.063 152.602 990.489 151.166 Q988.938 149.731 985.374 149.014 L982.526 148.458 Q977.295 147.416 974.957 145.194 Q972.619 142.972 972.619 139.014 Q972.619 134.43 975.837 131.791 Q979.077 129.153 984.749 129.153 Q987.179 129.153 989.702 129.592 Q992.225 130.032 994.864 130.912 Z\" fill=\"#000000\" fill-rule=\"evenodd\" fill-opacity=\"1\" /><path clip-path=\"url(#clip110)\" d=\"M1008.92 133.62 L1008.92 160.495 L1014.56 160.495 Q1021.72 160.495 1025.03 157.254 Q1028.36 154.014 1028.36 147.023 Q1028.36 140.078 1025.03 136.861 Q1021.72 133.62 1014.56 133.62 L1008.92 133.62 M1004.24 129.778 L1013.85 129.778 Q1023.89 129.778 1028.59 133.967 Q1033.29 138.134 1033.29 147.023 Q1033.29 155.958 1028.57 160.148 Q1023.85 164.338 1013.85 164.338 L1004.24 164.338 L1004.24 129.778 Z\" fill=\"#000000\" fill-rule=\"evenodd\" fill-opacity=\"1\" /><path clip-path=\"url(#clip110)\" d=\"M1048.13 129.778 L1052.06 129.778 L1040.03 168.736 L1036.09 168.736 L1048.13 129.778 Z\" fill=\"#000000\" fill-rule=\"evenodd\" fill-opacity=\"1\" /><path clip-path=\"url(#clip110)\" d=\"M1078.08 148.689 L1078.08 164.338 L1073.82 164.338 L1073.82 148.828 Q1073.82 145.148 1072.39 143.319 Q1070.95 141.49 1068.08 141.49 Q1064.63 141.49 1062.64 143.69 Q1060.65 145.889 1060.65 149.685 L1060.65 164.338 L1056.37 164.338 L1056.37 128.319 L1060.65 128.319 L1060.65 142.44 Q1062.18 140.102 1064.24 138.944 Q1066.32 137.787 1069.03 137.787 Q1073.5 137.787 1075.79 140.565 Q1078.08 143.319 1078.08 148.689 Z\" fill=\"#000000\" fill-rule=\"evenodd\" fill-opacity=\"1\" /><path clip-path=\"url(#clip110)\" d=\"M1085.91 128.366 L1089.61 128.366 Q1093.08 133.828 1094.79 139.06 Q1096.53 144.291 1096.53 149.453 Q1096.53 154.639 1094.79 159.893 Q1093.08 165.148 1089.61 170.588 L1085.91 170.588 Q1088.98 165.287 1090.49 160.055 Q1092.02 154.801 1092.02 149.453 Q1092.02 144.106 1090.49 138.898 Q1088.98 133.69 1085.91 128.366 Z\" fill=\"#000000\" fill-rule=\"evenodd\" fill-opacity=\"1\" /><path clip-path=\"url(#clip110)\" d=\"\n",
       "M1340.7 1486.45 L2352.76 1486.45 L2352.76 47.2441 L1340.7 47.2441  Z\n",
       "  \" fill=\"#ffffff\" fill-rule=\"evenodd\" fill-opacity=\"1\"/>\n",
       "<defs>\n",
       "  <clipPath id=\"clip113\">\n",
       "    <rect x=\"1340\" y=\"47\" width=\"1013\" height=\"1440\"/>\n",
       "  </clipPath>\n",
       "</defs>\n",
       "<polyline clip-path=\"url(#clip113)\" style=\"stroke:#000000; stroke-linecap:butt; stroke-linejoin:round; stroke-width:2; stroke-opacity:0.1; fill:none\" points=\"\n",
       "  1486.43,1486.45 1486.43,47.2441 \n",
       "  \"/>\n",
       "<polyline clip-path=\"url(#clip113)\" style=\"stroke:#000000; stroke-linecap:butt; stroke-linejoin:round; stroke-width:2; stroke-opacity:0.1; fill:none\" points=\"\n",
       "  1711.62,1486.45 1711.62,47.2441 \n",
       "  \"/>\n",
       "<polyline clip-path=\"url(#clip113)\" style=\"stroke:#000000; stroke-linecap:butt; stroke-linejoin:round; stroke-width:2; stroke-opacity:0.1; fill:none\" points=\"\n",
       "  1936.8,1486.45 1936.8,47.2441 \n",
       "  \"/>\n",
       "<polyline clip-path=\"url(#clip113)\" style=\"stroke:#000000; stroke-linecap:butt; stroke-linejoin:round; stroke-width:2; stroke-opacity:0.1; fill:none\" points=\"\n",
       "  2161.98,1486.45 2161.98,47.2441 \n",
       "  \"/>\n",
       "<polyline clip-path=\"url(#clip110)\" style=\"stroke:#000000; stroke-linecap:butt; stroke-linejoin:round; stroke-width:4; stroke-opacity:1; fill:none\" points=\"\n",
       "  1340.7,1486.45 2352.76,1486.45 \n",
       "  \"/>\n",
       "<polyline clip-path=\"url(#clip110)\" style=\"stroke:#000000; stroke-linecap:butt; stroke-linejoin:round; stroke-width:4; stroke-opacity:1; fill:none\" points=\"\n",
       "  1486.43,1486.45 1486.43,1467.55 \n",
       "  \"/>\n",
       "<polyline clip-path=\"url(#clip110)\" style=\"stroke:#000000; stroke-linecap:butt; stroke-linejoin:round; stroke-width:4; stroke-opacity:1; fill:none\" points=\"\n",
       "  1711.62,1486.45 1711.62,1467.55 \n",
       "  \"/>\n",
       "<polyline clip-path=\"url(#clip110)\" style=\"stroke:#000000; stroke-linecap:butt; stroke-linejoin:round; stroke-width:4; stroke-opacity:1; fill:none\" points=\"\n",
       "  1936.8,1486.45 1936.8,1467.55 \n",
       "  \"/>\n",
       "<polyline clip-path=\"url(#clip110)\" style=\"stroke:#000000; stroke-linecap:butt; stroke-linejoin:round; stroke-width:4; stroke-opacity:1; fill:none\" points=\"\n",
       "  2161.98,1486.45 2161.98,1467.55 \n",
       "  \"/>\n",
       "<path clip-path=\"url(#clip110)\" d=\"M1461.13 1514.29 L1479.49 1514.29 L1479.49 1518.22 L1465.42 1518.22 L1465.42 1526.7 Q1466.43 1526.35 1467.45 1526.19 Q1468.47 1526 1469.49 1526 Q1475.28 1526 1478.66 1529.17 Q1482.04 1532.34 1482.04 1537.76 Q1482.04 1543.34 1478.56 1546.44 Q1475.09 1549.52 1468.77 1549.52 Q1466.6 1549.52 1464.33 1549.15 Q1462.08 1548.78 1459.67 1548.04 L1459.67 1543.34 Q1461.76 1544.47 1463.98 1545.03 Q1466.2 1545.58 1468.68 1545.58 Q1472.68 1545.58 1475.02 1543.48 Q1477.36 1541.37 1477.36 1537.76 Q1477.36 1534.15 1475.02 1532.04 Q1472.68 1529.94 1468.68 1529.94 Q1466.8 1529.94 1464.93 1530.35 Q1463.08 1530.77 1461.13 1531.65 L1461.13 1514.29 Z\" fill=\"#000000\" fill-rule=\"evenodd\" fill-opacity=\"1\" /><path clip-path=\"url(#clip110)\" d=\"M1501.25 1517.37 Q1497.64 1517.37 1495.81 1520.93 Q1494 1524.47 1494 1531.6 Q1494 1538.71 1495.81 1542.27 Q1497.64 1545.82 1501.25 1545.82 Q1504.88 1545.82 1506.69 1542.27 Q1508.52 1538.71 1508.52 1531.6 Q1508.52 1524.47 1506.69 1520.93 Q1504.88 1517.37 1501.25 1517.37 M1501.25 1513.66 Q1507.06 1513.66 1510.11 1518.27 Q1513.19 1522.85 1513.19 1531.6 Q1513.19 1540.33 1510.11 1544.94 Q1507.06 1549.52 1501.25 1549.52 Q1495.44 1549.52 1492.36 1544.94 Q1489.3 1540.33 1489.3 1531.6 Q1489.3 1522.85 1492.36 1518.27 Q1495.44 1513.66 1501.25 1513.66 Z\" fill=\"#000000\" fill-rule=\"evenodd\" fill-opacity=\"1\" /><path clip-path=\"url(#clip110)\" d=\"M1685.47 1514.29 L1707.69 1514.29 L1707.69 1516.28 L1695.15 1548.85 L1690.26 1548.85 L1702.07 1518.22 L1685.47 1518.22 L1685.47 1514.29 Z\" fill=\"#000000\" fill-rule=\"evenodd\" fill-opacity=\"1\" /><path clip-path=\"url(#clip110)\" d=\"M1716.86 1514.29 L1735.22 1514.29 L1735.22 1518.22 L1721.14 1518.22 L1721.14 1526.7 Q1722.16 1526.35 1723.18 1526.19 Q1724.2 1526 1725.22 1526 Q1731 1526 1734.38 1529.17 Q1737.76 1532.34 1737.76 1537.76 Q1737.76 1543.34 1734.29 1546.44 Q1730.82 1549.52 1724.5 1549.52 Q1722.32 1549.52 1720.05 1549.15 Q1717.81 1548.78 1715.4 1548.04 L1715.4 1543.34 Q1717.48 1544.47 1719.71 1545.03 Q1721.93 1545.58 1724.41 1545.58 Q1728.41 1545.58 1730.75 1543.48 Q1733.09 1541.37 1733.09 1537.76 Q1733.09 1534.15 1730.75 1532.04 Q1728.41 1529.94 1724.41 1529.94 Q1722.53 1529.94 1720.66 1530.35 Q1718.8 1530.77 1716.86 1531.65 L1716.86 1514.29 Z\" fill=\"#000000\" fill-rule=\"evenodd\" fill-opacity=\"1\" /><path clip-path=\"url(#clip110)\" d=\"M1896.41 1544.91 L1904.04 1544.91 L1904.04 1518.55 L1895.73 1520.21 L1895.73 1515.95 L1904 1514.29 L1908.67 1514.29 L1908.67 1544.91 L1916.31 1544.91 L1916.31 1548.85 L1896.41 1548.85 L1896.41 1544.91 Z\" fill=\"#000000\" fill-rule=\"evenodd\" fill-opacity=\"1\" /><path clip-path=\"url(#clip110)\" d=\"M1935.76 1517.37 Q1932.15 1517.37 1930.32 1520.93 Q1928.51 1524.47 1928.51 1531.6 Q1928.51 1538.71 1930.32 1542.27 Q1932.15 1545.82 1935.76 1545.82 Q1939.39 1545.82 1941.2 1542.27 Q1943.03 1538.71 1943.03 1531.6 Q1943.03 1524.47 1941.2 1520.93 Q1939.39 1517.37 1935.76 1517.37 M1935.76 1513.66 Q1941.57 1513.66 1944.62 1518.27 Q1947.7 1522.85 1947.7 1531.6 Q1947.7 1540.33 1944.62 1544.94 Q1941.57 1549.52 1935.76 1549.52 Q1929.95 1549.52 1926.87 1544.94 Q1923.81 1540.33 1923.81 1531.6 Q1923.81 1522.85 1926.87 1518.27 Q1929.95 1513.66 1935.76 1513.66 Z\" fill=\"#000000\" fill-rule=\"evenodd\" fill-opacity=\"1\" /><path clip-path=\"url(#clip110)\" d=\"M1965.92 1517.37 Q1962.31 1517.37 1960.48 1520.93 Q1958.67 1524.47 1958.67 1531.6 Q1958.67 1538.71 1960.48 1542.27 Q1962.31 1545.82 1965.92 1545.82 Q1969.55 1545.82 1971.36 1542.27 Q1973.19 1538.71 1973.19 1531.6 Q1973.19 1524.47 1971.36 1520.93 Q1969.55 1517.37 1965.92 1517.37 M1965.92 1513.66 Q1971.73 1513.66 1974.78 1518.27 Q1977.86 1522.85 1977.86 1531.6 Q1977.86 1540.33 1974.78 1544.94 Q1971.73 1549.52 1965.92 1549.52 Q1960.11 1549.52 1957.03 1544.94 Q1953.97 1540.33 1953.97 1531.6 Q1953.97 1522.85 1957.03 1518.27 Q1960.11 1513.66 1965.92 1513.66 Z\" fill=\"#000000\" fill-rule=\"evenodd\" fill-opacity=\"1\" /><path clip-path=\"url(#clip110)\" d=\"M2122.09 1544.91 L2129.72 1544.91 L2129.72 1518.55 L2121.41 1520.21 L2121.41 1515.95 L2129.68 1514.29 L2134.35 1514.29 L2134.35 1544.91 L2141.99 1544.91 L2141.99 1548.85 L2122.09 1548.85 L2122.09 1544.91 Z\" fill=\"#000000\" fill-rule=\"evenodd\" fill-opacity=\"1\" /><path clip-path=\"url(#clip110)\" d=\"M2155.47 1544.91 L2171.78 1544.91 L2171.78 1548.85 L2149.84 1548.85 L2149.84 1544.91 Q2152.5 1542.16 2157.09 1537.53 Q2161.69 1532.88 2162.87 1531.53 Q2165.12 1529.01 2166 1527.27 Q2166.9 1525.51 2166.9 1523.82 Q2166.9 1521.07 2164.96 1519.33 Q2163.03 1517.6 2159.93 1517.6 Q2157.73 1517.6 2155.28 1518.36 Q2152.85 1519.13 2150.07 1520.68 L2150.07 1515.95 Q2152.9 1514.82 2155.35 1514.24 Q2157.8 1513.66 2159.84 1513.66 Q2165.21 1513.66 2168.4 1516.35 Q2171.6 1519.03 2171.6 1523.52 Q2171.6 1525.65 2170.79 1527.57 Q2170 1529.47 2167.9 1532.07 Q2167.32 1532.74 2164.22 1535.95 Q2161.11 1539.15 2155.47 1544.91 Z\" fill=\"#000000\" fill-rule=\"evenodd\" fill-opacity=\"1\" /><path clip-path=\"url(#clip110)\" d=\"M2181.65 1514.29 L2200 1514.29 L2200 1518.22 L2185.93 1518.22 L2185.93 1526.7 Q2186.95 1526.35 2187.96 1526.19 Q2188.98 1526 2190 1526 Q2195.79 1526 2199.17 1529.17 Q2202.55 1532.34 2202.55 1537.76 Q2202.55 1543.34 2199.08 1546.44 Q2195.6 1549.52 2189.28 1549.52 Q2187.11 1549.52 2184.84 1549.15 Q2182.59 1548.78 2180.19 1548.04 L2180.19 1543.34 Q2182.27 1544.47 2184.49 1545.03 Q2186.71 1545.58 2189.19 1545.58 Q2193.2 1545.58 2195.53 1543.48 Q2197.87 1541.37 2197.87 1537.76 Q2197.87 1534.15 2195.53 1532.04 Q2193.2 1529.94 2189.19 1529.94 Q2187.32 1529.94 2185.44 1530.35 Q2183.59 1530.77 2181.65 1531.65 L2181.65 1514.29 Z\" fill=\"#000000\" fill-rule=\"evenodd\" fill-opacity=\"1\" /><polyline clip-path=\"url(#clip113)\" style=\"stroke:#000000; stroke-linecap:butt; stroke-linejoin:round; stroke-width:2; stroke-opacity:0.1; fill:none\" points=\"\n",
       "  1340.7,1445.72 2352.76,1445.72 \n",
       "  \"/>\n",
       "<polyline clip-path=\"url(#clip113)\" style=\"stroke:#000000; stroke-linecap:butt; stroke-linejoin:round; stroke-width:2; stroke-opacity:0.1; fill:none\" points=\"\n",
       "  1340.7,1174.17 2352.76,1174.17 \n",
       "  \"/>\n",
       "<polyline clip-path=\"url(#clip113)\" style=\"stroke:#000000; stroke-linecap:butt; stroke-linejoin:round; stroke-width:2; stroke-opacity:0.1; fill:none\" points=\"\n",
       "  1340.7,902.62 2352.76,902.62 \n",
       "  \"/>\n",
       "<polyline clip-path=\"url(#clip113)\" style=\"stroke:#000000; stroke-linecap:butt; stroke-linejoin:round; stroke-width:2; stroke-opacity:0.1; fill:none\" points=\"\n",
       "  1340.7,631.072 2352.76,631.072 \n",
       "  \"/>\n",
       "<polyline clip-path=\"url(#clip113)\" style=\"stroke:#000000; stroke-linecap:butt; stroke-linejoin:round; stroke-width:2; stroke-opacity:0.1; fill:none\" points=\"\n",
       "  1340.7,359.524 2352.76,359.524 \n",
       "  \"/>\n",
       "<polyline clip-path=\"url(#clip113)\" style=\"stroke:#000000; stroke-linecap:butt; stroke-linejoin:round; stroke-width:2; stroke-opacity:0.1; fill:none\" points=\"\n",
       "  1340.7,87.9763 2352.76,87.9763 \n",
       "  \"/>\n",
       "<polyline clip-path=\"url(#clip110)\" style=\"stroke:#000000; stroke-linecap:butt; stroke-linejoin:round; stroke-width:4; stroke-opacity:1; fill:none\" points=\"\n",
       "  1340.7,1486.45 1340.7,47.2441 \n",
       "  \"/>\n",
       "<polyline clip-path=\"url(#clip110)\" style=\"stroke:#000000; stroke-linecap:butt; stroke-linejoin:round; stroke-width:4; stroke-opacity:1; fill:none\" points=\"\n",
       "  1340.7,1445.72 1359.59,1445.72 \n",
       "  \"/>\n",
       "<polyline clip-path=\"url(#clip110)\" style=\"stroke:#000000; stroke-linecap:butt; stroke-linejoin:round; stroke-width:4; stroke-opacity:1; fill:none\" points=\"\n",
       "  1340.7,1174.17 1359.59,1174.17 \n",
       "  \"/>\n",
       "<polyline clip-path=\"url(#clip110)\" style=\"stroke:#000000; stroke-linecap:butt; stroke-linejoin:round; stroke-width:4; stroke-opacity:1; fill:none\" points=\"\n",
       "  1340.7,902.62 1359.59,902.62 \n",
       "  \"/>\n",
       "<polyline clip-path=\"url(#clip110)\" style=\"stroke:#000000; stroke-linecap:butt; stroke-linejoin:round; stroke-width:4; stroke-opacity:1; fill:none\" points=\"\n",
       "  1340.7,631.072 1359.59,631.072 \n",
       "  \"/>\n",
       "<polyline clip-path=\"url(#clip110)\" style=\"stroke:#000000; stroke-linecap:butt; stroke-linejoin:round; stroke-width:4; stroke-opacity:1; fill:none\" points=\"\n",
       "  1340.7,359.524 1359.59,359.524 \n",
       "  \"/>\n",
       "<polyline clip-path=\"url(#clip110)\" style=\"stroke:#000000; stroke-linecap:butt; stroke-linejoin:round; stroke-width:4; stroke-opacity:1; fill:none\" points=\"\n",
       "  1340.7,87.9763 1359.59,87.9763 \n",
       "  \"/>\n",
       "<path clip-path=\"url(#clip110)\" d=\"M1292.75 1431.51 Q1289.14 1431.51 1287.31 1435.08 Q1285.51 1438.62 1285.51 1445.75 Q1285.51 1452.86 1287.31 1456.42 Q1289.14 1459.96 1292.75 1459.96 Q1296.39 1459.96 1298.19 1456.42 Q1300.02 1452.86 1300.02 1445.75 Q1300.02 1438.62 1298.19 1435.08 Q1296.39 1431.51 1292.75 1431.51 M1292.75 1427.81 Q1298.56 1427.81 1301.62 1432.42 Q1304.7 1437 1304.7 1445.75 Q1304.7 1454.48 1301.62 1459.08 Q1298.56 1463.67 1292.75 1463.67 Q1286.94 1463.67 1283.86 1459.08 Q1280.81 1454.48 1280.81 1445.75 Q1280.81 1437 1283.86 1432.42 Q1286.94 1427.81 1292.75 1427.81 Z\" fill=\"#000000\" fill-rule=\"evenodd\" fill-opacity=\"1\" /><path clip-path=\"url(#clip110)\" d=\"M1283.79 1156.89 L1302.15 1156.89 L1302.15 1160.82 L1288.08 1160.82 L1288.08 1169.3 Q1289.09 1168.95 1290.11 1168.79 Q1291.13 1168.6 1292.15 1168.6 Q1297.94 1168.6 1301.32 1171.77 Q1304.7 1174.94 1304.7 1180.36 Q1304.7 1185.94 1301.22 1189.04 Q1297.75 1192.12 1291.43 1192.12 Q1289.26 1192.12 1286.99 1191.75 Q1284.74 1191.38 1282.33 1190.64 L1282.33 1185.94 Q1284.42 1187.07 1286.64 1187.63 Q1288.86 1188.18 1291.34 1188.18 Q1295.34 1188.18 1297.68 1186.08 Q1300.02 1183.97 1300.02 1180.36 Q1300.02 1176.75 1297.68 1174.64 Q1295.34 1172.54 1291.34 1172.54 Q1289.46 1172.54 1287.59 1172.95 Q1285.74 1173.37 1283.79 1174.25 L1283.79 1156.89 Z\" fill=\"#000000\" fill-rule=\"evenodd\" fill-opacity=\"1\" /><path clip-path=\"url(#clip110)\" d=\"M1253.4 915.965 L1261.04 915.965 L1261.04 889.599 L1252.73 891.266 L1252.73 887.007 L1260.99 885.34 L1265.67 885.34 L1265.67 915.965 L1273.31 915.965 L1273.31 919.9 L1253.4 919.9 L1253.4 915.965 Z\" fill=\"#000000\" fill-rule=\"evenodd\" fill-opacity=\"1\" /><path clip-path=\"url(#clip110)\" d=\"M1292.75 888.419 Q1289.14 888.419 1287.31 891.983 Q1285.51 895.525 1285.51 902.655 Q1285.51 909.761 1287.31 913.326 Q1289.14 916.868 1292.75 916.868 Q1296.39 916.868 1298.19 913.326 Q1300.02 909.761 1300.02 902.655 Q1300.02 895.525 1298.19 891.983 Q1296.39 888.419 1292.75 888.419 M1292.75 884.715 Q1298.56 884.715 1301.62 889.321 Q1304.7 893.905 1304.7 902.655 Q1304.7 911.381 1301.62 915.988 Q1298.56 920.571 1292.75 920.571 Q1286.94 920.571 1283.86 915.988 Q1280.81 911.381 1280.81 902.655 Q1280.81 893.905 1283.86 889.321 Q1286.94 884.715 1292.75 884.715 Z\" fill=\"#000000\" fill-rule=\"evenodd\" fill-opacity=\"1\" /><path clip-path=\"url(#clip110)\" d=\"M1254.39 644.417 L1262.03 644.417 L1262.03 618.051 L1253.72 619.718 L1253.72 615.459 L1261.99 613.792 L1266.66 613.792 L1266.66 644.417 L1274.3 644.417 L1274.3 648.352 L1254.39 648.352 L1254.39 644.417 Z\" fill=\"#000000\" fill-rule=\"evenodd\" fill-opacity=\"1\" /><path clip-path=\"url(#clip110)\" d=\"M1283.79 613.792 L1302.15 613.792 L1302.15 617.727 L1288.08 617.727 L1288.08 626.199 Q1289.09 625.852 1290.11 625.69 Q1291.13 625.505 1292.15 625.505 Q1297.94 625.505 1301.32 628.676 Q1304.7 631.848 1304.7 637.264 Q1304.7 642.843 1301.22 645.945 Q1297.75 649.023 1291.43 649.023 Q1289.26 649.023 1286.99 648.653 Q1284.74 648.283 1282.33 647.542 L1282.33 642.843 Q1284.42 643.977 1286.64 644.533 Q1288.86 645.088 1291.34 645.088 Q1295.34 645.088 1297.68 642.982 Q1300.02 640.875 1300.02 637.264 Q1300.02 633.653 1297.68 631.547 Q1295.34 629.44 1291.34 629.44 Q1289.46 629.44 1287.59 629.857 Q1285.74 630.273 1283.79 631.153 L1283.79 613.792 Z\" fill=\"#000000\" fill-rule=\"evenodd\" fill-opacity=\"1\" /><path clip-path=\"url(#clip110)\" d=\"M1256.62 372.869 L1272.94 372.869 L1272.94 376.804 L1250.99 376.804 L1250.99 372.869 Q1253.65 370.114 1258.24 365.485 Q1262.84 360.832 1264.02 359.489 Q1266.27 356.966 1267.15 355.23 Q1268.05 353.471 1268.05 351.781 Q1268.05 349.027 1266.11 347.29 Q1264.19 345.554 1261.08 345.554 Q1258.89 345.554 1256.43 346.318 Q1254 347.082 1251.22 348.633 L1251.22 343.911 Q1254.05 342.777 1256.5 342.198 Q1258.96 341.619 1260.99 341.619 Q1266.36 341.619 1269.56 344.304 Q1272.75 346.99 1272.75 351.48 Q1272.75 353.61 1271.94 355.531 Q1271.15 357.429 1269.05 360.022 Q1268.47 360.693 1265.37 363.911 Q1262.27 367.105 1256.62 372.869 Z\" fill=\"#000000\" fill-rule=\"evenodd\" fill-opacity=\"1\" /><path clip-path=\"url(#clip110)\" d=\"M1292.75 345.323 Q1289.14 345.323 1287.31 348.888 Q1285.51 352.429 1285.51 359.559 Q1285.51 366.665 1287.31 370.23 Q1289.14 373.772 1292.75 373.772 Q1296.39 373.772 1298.19 370.23 Q1300.02 366.665 1300.02 359.559 Q1300.02 352.429 1298.19 348.888 Q1296.39 345.323 1292.75 345.323 M1292.75 341.619 Q1298.56 341.619 1301.62 346.226 Q1304.7 350.809 1304.7 359.559 Q1304.7 368.286 1301.62 372.892 Q1298.56 377.475 1292.75 377.475 Q1286.94 377.475 1283.86 372.892 Q1280.81 368.286 1280.81 359.559 Q1280.81 350.809 1283.86 346.226 Q1286.94 341.619 1292.75 341.619 Z\" fill=\"#000000\" fill-rule=\"evenodd\" fill-opacity=\"1\" /><path clip-path=\"url(#clip110)\" d=\"M1257.61 101.321 L1273.93 101.321 L1273.93 105.256 L1251.99 105.256 L1251.99 101.321 Q1254.65 98.5665 1259.23 93.9369 Q1263.84 89.2841 1265.02 87.9416 Q1267.27 85.4184 1268.14 83.6823 Q1269.05 81.9231 1269.05 80.2333 Q1269.05 77.4786 1267.1 75.7425 Q1265.18 74.0064 1262.08 74.0064 Q1259.88 74.0064 1257.43 74.7703 Q1255 75.5342 1252.22 77.0851 L1252.22 72.3629 Q1255.04 71.2287 1257.5 70.65 Q1259.95 70.0713 1261.99 70.0713 Q1267.36 70.0713 1270.55 72.7565 Q1273.75 75.4416 1273.75 79.9323 Q1273.75 82.062 1272.94 83.9832 Q1272.15 85.8814 1270.04 88.474 Q1269.46 89.1453 1266.36 92.3628 Q1263.26 95.5573 1257.61 101.321 Z\" fill=\"#000000\" fill-rule=\"evenodd\" fill-opacity=\"1\" /><path clip-path=\"url(#clip110)\" d=\"M1283.79 70.6963 L1302.15 70.6963 L1302.15 74.6314 L1288.08 74.6314 L1288.08 83.1036 Q1289.09 82.7564 1290.11 82.5944 Q1291.13 82.4092 1292.15 82.4092 Q1297.94 82.4092 1301.32 85.5805 Q1304.7 88.7517 1304.7 94.1684 Q1304.7 99.747 1301.22 102.849 Q1297.75 105.928 1291.43 105.928 Q1289.26 105.928 1286.99 105.557 Q1284.74 105.187 1282.33 104.446 L1282.33 99.747 Q1284.42 100.881 1286.64 101.437 Q1288.86 101.992 1291.34 101.992 Q1295.34 101.992 1297.68 99.8859 Q1300.02 97.7795 1300.02 94.1684 Q1300.02 90.5573 1297.68 88.4508 Q1295.34 86.3443 1291.34 86.3443 Q1289.46 86.3443 1287.59 86.761 Q1285.74 87.1777 1283.79 88.0573 L1283.79 70.6963 Z\" fill=\"#000000\" fill-rule=\"evenodd\" fill-opacity=\"1\" /><path clip-path=\"url(#clip113)\" d=\"\n",
       "M1396.36 1282.79 L1396.36 1445.72 L1486.43 1445.72 L1486.43 1282.79 L1396.36 1282.79 L1396.36 1282.79  Z\n",
       "  \" fill=\"#009af9\" fill-rule=\"evenodd\" fill-opacity=\"1\"/>\n",
       "<polyline clip-path=\"url(#clip113)\" style=\"stroke:#000000; stroke-linecap:butt; stroke-linejoin:round; stroke-width:4; stroke-opacity:1; fill:none\" points=\"\n",
       "  1396.36,1282.79 1396.36,1445.72 1486.43,1445.72 1486.43,1282.79 1396.36,1282.79 \n",
       "  \"/>\n",
       "<path clip-path=\"url(#clip113)\" d=\"\n",
       "M1486.43 468.143 L1486.43 1445.72 L1576.51 1445.72 L1576.51 468.143 L1486.43 468.143 L1486.43 468.143  Z\n",
       "  \" fill=\"#009af9\" fill-rule=\"evenodd\" fill-opacity=\"1\"/>\n",
       "<polyline clip-path=\"url(#clip113)\" style=\"stroke:#000000; stroke-linecap:butt; stroke-linejoin:round; stroke-width:4; stroke-opacity:1; fill:none\" points=\"\n",
       "  1486.43,468.143 1486.43,1445.72 1576.51,1445.72 1576.51,468.143 1486.43,468.143 \n",
       "  \"/>\n",
       "<path clip-path=\"url(#clip113)\" d=\"\n",
       "M1576.51 87.9763 L1576.51 1445.72 L1666.58 1445.72 L1666.58 87.9763 L1576.51 87.9763 L1576.51 87.9763  Z\n",
       "  \" fill=\"#009af9\" fill-rule=\"evenodd\" fill-opacity=\"1\"/>\n",
       "<polyline clip-path=\"url(#clip113)\" style=\"stroke:#000000; stroke-linecap:butt; stroke-linejoin:round; stroke-width:4; stroke-opacity:1; fill:none\" points=\"\n",
       "  1576.51,87.9763 1576.51,1445.72 1666.58,1445.72 1666.58,87.9763 1576.51,87.9763 \n",
       "  \"/>\n",
       "<path clip-path=\"url(#clip113)\" d=\"\n",
       "M1666.58 468.143 L1666.58 1445.72 L1756.65 1445.72 L1756.65 468.143 L1666.58 468.143 L1666.58 468.143  Z\n",
       "  \" fill=\"#009af9\" fill-rule=\"evenodd\" fill-opacity=\"1\"/>\n",
       "<polyline clip-path=\"url(#clip113)\" style=\"stroke:#000000; stroke-linecap:butt; stroke-linejoin:round; stroke-width:4; stroke-opacity:1; fill:none\" points=\"\n",
       "  1666.58,468.143 1666.58,1445.72 1756.65,1445.72 1756.65,468.143 1666.58,468.143 \n",
       "  \"/>\n",
       "<path clip-path=\"url(#clip113)\" d=\"\n",
       "M1756.65 576.762 L1756.65 1445.72 L1846.73 1445.72 L1846.73 576.762 L1756.65 576.762 L1756.65 576.762  Z\n",
       "  \" fill=\"#009af9\" fill-rule=\"evenodd\" fill-opacity=\"1\"/>\n",
       "<polyline clip-path=\"url(#clip113)\" style=\"stroke:#000000; stroke-linecap:butt; stroke-linejoin:round; stroke-width:4; stroke-opacity:1; fill:none\" points=\"\n",
       "  1756.65,576.762 1756.65,1445.72 1846.73,1445.72 1846.73,576.762 1756.65,576.762 \n",
       "  \"/>\n",
       "<path clip-path=\"url(#clip113)\" d=\"\n",
       "M1846.73 1119.86 L1846.73 1445.72 L1936.8 1445.72 L1936.8 1119.86 L1846.73 1119.86 L1846.73 1119.86  Z\n",
       "  \" fill=\"#009af9\" fill-rule=\"evenodd\" fill-opacity=\"1\"/>\n",
       "<polyline clip-path=\"url(#clip113)\" style=\"stroke:#000000; stroke-linecap:butt; stroke-linejoin:round; stroke-width:4; stroke-opacity:1; fill:none\" points=\"\n",
       "  1846.73,1119.86 1846.73,1445.72 1936.8,1445.72 1936.8,1119.86 1846.73,1119.86 \n",
       "  \"/>\n",
       "<path clip-path=\"url(#clip113)\" d=\"\n",
       "M1936.8 1065.55 L1936.8 1445.72 L2026.87 1445.72 L2026.87 1065.55 L1936.8 1065.55 L1936.8 1065.55  Z\n",
       "  \" fill=\"#009af9\" fill-rule=\"evenodd\" fill-opacity=\"1\"/>\n",
       "<polyline clip-path=\"url(#clip113)\" style=\"stroke:#000000; stroke-linecap:butt; stroke-linejoin:round; stroke-width:4; stroke-opacity:1; fill:none\" points=\"\n",
       "  1936.8,1065.55 1936.8,1445.72 2026.87,1445.72 2026.87,1065.55 1936.8,1065.55 \n",
       "  \"/>\n",
       "<path clip-path=\"url(#clip113)\" d=\"\n",
       "M2026.87 1228.48 L2026.87 1445.72 L2116.94 1445.72 L2116.94 1228.48 L2026.87 1228.48 L2026.87 1228.48  Z\n",
       "  \" fill=\"#009af9\" fill-rule=\"evenodd\" fill-opacity=\"1\"/>\n",
       "<polyline clip-path=\"url(#clip113)\" style=\"stroke:#000000; stroke-linecap:butt; stroke-linejoin:round; stroke-width:4; stroke-opacity:1; fill:none\" points=\"\n",
       "  2026.87,1228.48 2026.87,1445.72 2116.94,1445.72 2116.94,1228.48 2026.87,1228.48 \n",
       "  \"/>\n",
       "<path clip-path=\"url(#clip113)\" d=\"\n",
       "M2116.94 1337.1 L2116.94 1445.72 L2207.02 1445.72 L2207.02 1337.1 L2116.94 1337.1 L2116.94 1337.1  Z\n",
       "  \" fill=\"#009af9\" fill-rule=\"evenodd\" fill-opacity=\"1\"/>\n",
       "<polyline clip-path=\"url(#clip113)\" style=\"stroke:#000000; stroke-linecap:butt; stroke-linejoin:round; stroke-width:4; stroke-opacity:1; fill:none\" points=\"\n",
       "  2116.94,1337.1 2116.94,1445.72 2207.02,1445.72 2207.02,1337.1 2116.94,1337.1 \n",
       "  \"/>\n",
       "<path clip-path=\"url(#clip113)\" d=\"\n",
       "M2207.02 1391.41 L2207.02 1445.72 L2297.09 1445.72 L2297.09 1391.41 L2207.02 1391.41 L2207.02 1391.41  Z\n",
       "  \" fill=\"#009af9\" fill-rule=\"evenodd\" fill-opacity=\"1\"/>\n",
       "<polyline clip-path=\"url(#clip113)\" style=\"stroke:#000000; stroke-linecap:butt; stroke-linejoin:round; stroke-width:4; stroke-opacity:1; fill:none\" points=\"\n",
       "  2207.02,1391.41 2207.02,1445.72 2297.09,1445.72 2297.09,1391.41 2207.02,1391.41 \n",
       "  \"/>\n",
       "<circle clip-path=\"url(#clip113)\" style=\"fill:#009af9; stroke:none; fill-opacity:0\" cx=\"1441.4\" cy=\"1282.79\" r=\"2\"/>\n",
       "<circle clip-path=\"url(#clip113)\" style=\"fill:#009af9; stroke:none; fill-opacity:0\" cx=\"1531.47\" cy=\"468.143\" r=\"2\"/>\n",
       "<circle clip-path=\"url(#clip113)\" style=\"fill:#009af9; stroke:none; fill-opacity:0\" cx=\"1621.54\" cy=\"87.9763\" r=\"2\"/>\n",
       "<circle clip-path=\"url(#clip113)\" style=\"fill:#009af9; stroke:none; fill-opacity:0\" cx=\"1711.62\" cy=\"468.143\" r=\"2\"/>\n",
       "<circle clip-path=\"url(#clip113)\" style=\"fill:#009af9; stroke:none; fill-opacity:0\" cx=\"1801.69\" cy=\"576.762\" r=\"2\"/>\n",
       "<circle clip-path=\"url(#clip113)\" style=\"fill:#009af9; stroke:none; fill-opacity:0\" cx=\"1891.76\" cy=\"1119.86\" r=\"2\"/>\n",
       "<circle clip-path=\"url(#clip113)\" style=\"fill:#009af9; stroke:none; fill-opacity:0\" cx=\"1981.84\" cy=\"1065.55\" r=\"2\"/>\n",
       "<circle clip-path=\"url(#clip113)\" style=\"fill:#009af9; stroke:none; fill-opacity:0\" cx=\"2071.91\" cy=\"1228.48\" r=\"2\"/>\n",
       "<circle clip-path=\"url(#clip113)\" style=\"fill:#009af9; stroke:none; fill-opacity:0\" cx=\"2161.98\" cy=\"1337.1\" r=\"2\"/>\n",
       "<circle clip-path=\"url(#clip113)\" style=\"fill:#009af9; stroke:none; fill-opacity:0\" cx=\"2252.05\" cy=\"1391.41\" r=\"2\"/>\n",
       "<path clip-path=\"url(#clip110)\" d=\"\n",
       "M2171.78 198.898 L2319.02 198.898 L2319.02 95.2176 L2171.78 95.2176  Z\n",
       "  \" fill=\"#ffffff\" fill-rule=\"evenodd\" fill-opacity=\"1\"/>\n",
       "<polyline clip-path=\"url(#clip110)\" style=\"stroke:#000000; stroke-linecap:butt; stroke-linejoin:round; stroke-width:4; stroke-opacity:1; fill:none\" points=\"\n",
       "  2171.78,198.898 2319.02,198.898 2319.02,95.2176 2171.78,95.2176 2171.78,198.898 \n",
       "  \"/>\n",
       "<path clip-path=\"url(#clip110)\" d=\"\n",
       "M2183.02 167.794 L2250.49 167.794 L2250.49 126.322 L2183.02 126.322 L2183.02 167.794  Z\n",
       "  \" fill=\"#009af9\" fill-rule=\"evenodd\" fill-opacity=\"1\"/>\n",
       "<polyline clip-path=\"url(#clip110)\" style=\"stroke:#000000; stroke-linecap:butt; stroke-linejoin:round; stroke-width:4; stroke-opacity:1; fill:none\" points=\"\n",
       "  2183.02,167.794 2250.49,167.794 2250.49,126.322 2183.02,126.322 2183.02,167.794 \n",
       "  \"/>\n",
       "<path clip-path=\"url(#clip110)\" d=\"M2261.74 138.412 L2266 138.412 L2271.32 158.643 L2276.62 138.412 L2281.65 138.412 L2286.97 158.643 L2292.27 138.412 L2296.53 138.412 L2289.75 164.338 L2284.72 164.338 L2279.15 143.088 L2273.54 164.338 L2268.52 164.338 L2261.74 138.412 Z\" fill=\"#000000\" fill-rule=\"evenodd\" fill-opacity=\"1\" /></svg>\n"
      ]
     },
     "execution_count": 10,
     "metadata": {},
     "output_type": "execute_result"
    }
   ],
   "source": [
    "df.w = df.wage_rate .* 3.6\n",
    "plot(histogram(df.wage_rate, label=\"Wage rate (USD/h)\"),  histogram(df.w, label=\"w\"))"
   ]
  },
  {
   "cell_type": "markdown",
   "id": "f23eee19-8d9f-4755-ac2c-c6f61c2712ad",
   "metadata": {
    "slideshow": {
     "slide_type": "slide"
    },
    "tags": []
   },
   "source": [
    "## Data\n",
    "\n",
    "Finally, we divide total consumption in dollars by 1,000, so we keep units consistent"
   ]
  },
  {
   "cell_type": "code",
   "execution_count": 11,
   "id": "17074e40-3645-42f8-889e-a463322b38c9",
   "metadata": {},
   "outputs": [
    {
     "data": {
      "image/svg+xml": [
       "<?xml version=\"1.0\" encoding=\"utf-8\"?>\n",
       "<svg xmlns=\"http://www.w3.org/2000/svg\" xmlns:xlink=\"http://www.w3.org/1999/xlink\" width=\"600\" height=\"400\" viewBox=\"0 0 2400 1600\">\n",
       "<defs>\n",
       "  <clipPath id=\"clip150\">\n",
       "    <rect x=\"0\" y=\"0\" width=\"2400\" height=\"1600\"/>\n",
       "  </clipPath>\n",
       "</defs>\n",
       "<path clip-path=\"url(#clip150)\" d=\"\n",
       "M0 1600 L2400 1600 L2400 0 L0 0  Z\n",
       "  \" fill=\"#ffffff\" fill-rule=\"evenodd\" fill-opacity=\"1\"/>\n",
       "<defs>\n",
       "  <clipPath id=\"clip151\">\n",
       "    <rect x=\"480\" y=\"0\" width=\"1681\" height=\"1600\"/>\n",
       "  </clipPath>\n",
       "</defs>\n",
       "<path clip-path=\"url(#clip150)\" d=\"\n",
       "M140.696 1486.45 L2352.76 1486.45 L2352.76 47.2441 L140.696 47.2441  Z\n",
       "  \" fill=\"#ffffff\" fill-rule=\"evenodd\" fill-opacity=\"1\"/>\n",
       "<defs>\n",
       "  <clipPath id=\"clip152\">\n",
       "    <rect x=\"140\" y=\"47\" width=\"2213\" height=\"1440\"/>\n",
       "  </clipPath>\n",
       "</defs>\n",
       "<polyline clip-path=\"url(#clip152)\" style=\"stroke:#000000; stroke-linecap:butt; stroke-linejoin:round; stroke-width:2; stroke-opacity:0.1; fill:none\" points=\"\n",
       "  459.235,1486.45 459.235,47.2441 \n",
       "  \"/>\n",
       "<polyline clip-path=\"url(#clip152)\" style=\"stroke:#000000; stroke-linecap:butt; stroke-linejoin:round; stroke-width:2; stroke-opacity:0.1; fill:none\" points=\"\n",
       "  852.981,1486.45 852.981,47.2441 \n",
       "  \"/>\n",
       "<polyline clip-path=\"url(#clip152)\" style=\"stroke:#000000; stroke-linecap:butt; stroke-linejoin:round; stroke-width:2; stroke-opacity:0.1; fill:none\" points=\"\n",
       "  1246.73,1486.45 1246.73,47.2441 \n",
       "  \"/>\n",
       "<polyline clip-path=\"url(#clip152)\" style=\"stroke:#000000; stroke-linecap:butt; stroke-linejoin:round; stroke-width:2; stroke-opacity:0.1; fill:none\" points=\"\n",
       "  1640.47,1486.45 1640.47,47.2441 \n",
       "  \"/>\n",
       "<polyline clip-path=\"url(#clip152)\" style=\"stroke:#000000; stroke-linecap:butt; stroke-linejoin:round; stroke-width:2; stroke-opacity:0.1; fill:none\" points=\"\n",
       "  2034.22,1486.45 2034.22,47.2441 \n",
       "  \"/>\n",
       "<polyline clip-path=\"url(#clip150)\" style=\"stroke:#000000; stroke-linecap:butt; stroke-linejoin:round; stroke-width:4; stroke-opacity:1; fill:none\" points=\"\n",
       "  140.696,1486.45 2352.76,1486.45 \n",
       "  \"/>\n",
       "<polyline clip-path=\"url(#clip150)\" style=\"stroke:#000000; stroke-linecap:butt; stroke-linejoin:round; stroke-width:4; stroke-opacity:1; fill:none\" points=\"\n",
       "  459.235,1486.45 459.235,1467.55 \n",
       "  \"/>\n",
       "<polyline clip-path=\"url(#clip150)\" style=\"stroke:#000000; stroke-linecap:butt; stroke-linejoin:round; stroke-width:4; stroke-opacity:1; fill:none\" points=\"\n",
       "  852.981,1486.45 852.981,1467.55 \n",
       "  \"/>\n",
       "<polyline clip-path=\"url(#clip150)\" style=\"stroke:#000000; stroke-linecap:butt; stroke-linejoin:round; stroke-width:4; stroke-opacity:1; fill:none\" points=\"\n",
       "  1246.73,1486.45 1246.73,1467.55 \n",
       "  \"/>\n",
       "<polyline clip-path=\"url(#clip150)\" style=\"stroke:#000000; stroke-linecap:butt; stroke-linejoin:round; stroke-width:4; stroke-opacity:1; fill:none\" points=\"\n",
       "  1640.47,1486.45 1640.47,1467.55 \n",
       "  \"/>\n",
       "<polyline clip-path=\"url(#clip150)\" style=\"stroke:#000000; stroke-linecap:butt; stroke-linejoin:round; stroke-width:4; stroke-opacity:1; fill:none\" points=\"\n",
       "  2034.22,1486.45 2034.22,1467.55 \n",
       "  \"/>\n",
       "<path clip-path=\"url(#clip150)\" d=\"M438.009 1544.91 L454.328 1544.91 L454.328 1548.85 L432.384 1548.85 L432.384 1544.91 Q435.046 1542.16 439.629 1537.53 Q444.235 1532.88 445.416 1531.53 Q447.661 1529.01 448.541 1527.27 Q449.444 1525.51 449.444 1523.82 Q449.444 1521.07 447.499 1519.33 Q445.578 1517.6 442.476 1517.6 Q440.277 1517.6 437.823 1518.36 Q435.393 1519.13 432.615 1520.68 L432.615 1515.95 Q435.439 1514.82 437.893 1514.24 Q440.347 1513.66 442.384 1513.66 Q447.754 1513.66 450.948 1516.35 Q454.143 1519.03 454.143 1523.52 Q454.143 1525.65 453.333 1527.57 Q452.546 1529.47 450.439 1532.07 Q449.86 1532.74 446.759 1535.95 Q443.657 1539.15 438.009 1544.91 Z\" fill=\"#000000\" fill-rule=\"evenodd\" fill-opacity=\"1\" /><path clip-path=\"url(#clip150)\" d=\"M474.143 1517.37 Q470.532 1517.37 468.703 1520.93 Q466.897 1524.47 466.897 1531.6 Q466.897 1538.71 468.703 1542.27 Q470.532 1545.82 474.143 1545.82 Q477.777 1545.82 479.582 1542.27 Q481.411 1538.71 481.411 1531.6 Q481.411 1524.47 479.582 1520.93 Q477.777 1517.37 474.143 1517.37 M474.143 1513.66 Q479.953 1513.66 483.008 1518.27 Q486.087 1522.85 486.087 1531.6 Q486.087 1540.33 483.008 1544.94 Q479.953 1549.52 474.143 1549.52 Q468.333 1549.52 465.254 1544.94 Q462.198 1540.33 462.198 1531.6 Q462.198 1522.85 465.254 1518.27 Q468.333 1513.66 474.143 1513.66 Z\" fill=\"#000000\" fill-rule=\"evenodd\" fill-opacity=\"1\" /><path clip-path=\"url(#clip150)\" d=\"M841.823 1530.21 Q845.18 1530.93 847.055 1533.2 Q848.953 1535.47 848.953 1538.8 Q848.953 1543.92 845.434 1546.72 Q841.916 1549.52 835.434 1549.52 Q833.258 1549.52 830.944 1549.08 Q828.652 1548.66 826.198 1547.81 L826.198 1543.29 Q828.143 1544.43 830.458 1545.01 Q832.772 1545.58 835.295 1545.58 Q839.694 1545.58 841.985 1543.85 Q844.3 1542.11 844.3 1538.8 Q844.3 1535.75 842.147 1534.03 Q840.018 1532.3 836.198 1532.3 L832.17 1532.3 L832.17 1528.45 L836.383 1528.45 Q839.832 1528.45 841.661 1527.09 Q843.49 1525.7 843.49 1523.11 Q843.49 1520.45 841.592 1519.03 Q839.717 1517.6 836.198 1517.6 Q834.277 1517.6 832.078 1518.01 Q829.879 1518.43 827.24 1519.31 L827.24 1515.14 Q829.902 1514.4 832.217 1514.03 Q834.555 1513.66 836.615 1513.66 Q841.939 1513.66 845.041 1516.09 Q848.143 1518.5 848.143 1522.62 Q848.143 1525.49 846.499 1527.48 Q844.856 1529.45 841.823 1530.21 Z\" fill=\"#000000\" fill-rule=\"evenodd\" fill-opacity=\"1\" /><path clip-path=\"url(#clip150)\" d=\"M867.818 1517.37 Q864.207 1517.37 862.379 1520.93 Q860.573 1524.47 860.573 1531.6 Q860.573 1538.71 862.379 1542.27 Q864.207 1545.82 867.818 1545.82 Q871.453 1545.82 873.258 1542.27 Q875.087 1538.71 875.087 1531.6 Q875.087 1524.47 873.258 1520.93 Q871.453 1517.37 867.818 1517.37 M867.818 1513.66 Q873.629 1513.66 876.684 1518.27 Q879.763 1522.85 879.763 1531.6 Q879.763 1540.33 876.684 1544.94 Q873.629 1549.52 867.818 1549.52 Q862.008 1549.52 858.93 1544.94 Q855.874 1540.33 855.874 1531.6 Q855.874 1522.85 858.93 1518.27 Q862.008 1513.66 867.818 1513.66 Z\" fill=\"#000000\" fill-rule=\"evenodd\" fill-opacity=\"1\" /><path clip-path=\"url(#clip150)\" d=\"M1234.9 1518.36 L1223.09 1536.81 L1234.9 1536.81 L1234.9 1518.36 M1233.67 1514.29 L1239.55 1514.29 L1239.55 1536.81 L1244.48 1536.81 L1244.48 1540.7 L1239.55 1540.7 L1239.55 1548.85 L1234.9 1548.85 L1234.9 1540.7 L1219.3 1540.7 L1219.3 1536.19 L1233.67 1514.29 Z\" fill=\"#000000\" fill-rule=\"evenodd\" fill-opacity=\"1\" /><path clip-path=\"url(#clip150)\" d=\"M1262.21 1517.37 Q1258.6 1517.37 1256.77 1520.93 Q1254.97 1524.47 1254.97 1531.6 Q1254.97 1538.71 1256.77 1542.27 Q1258.6 1545.82 1262.21 1545.82 Q1265.85 1545.82 1267.65 1542.27 Q1269.48 1538.71 1269.48 1531.6 Q1269.48 1524.47 1267.65 1520.93 Q1265.85 1517.37 1262.21 1517.37 M1262.21 1513.66 Q1268.02 1513.66 1271.08 1518.27 Q1274.16 1522.85 1274.16 1531.6 Q1274.16 1540.33 1271.08 1544.94 Q1268.02 1549.52 1262.21 1549.52 Q1256.4 1549.52 1253.32 1544.94 Q1250.27 1540.33 1250.27 1531.6 Q1250.27 1522.85 1253.32 1518.27 Q1256.4 1513.66 1262.21 1513.66 Z\" fill=\"#000000\" fill-rule=\"evenodd\" fill-opacity=\"1\" /><path clip-path=\"url(#clip150)\" d=\"M1615.17 1514.29 L1633.53 1514.29 L1633.53 1518.22 L1619.45 1518.22 L1619.45 1526.7 Q1620.47 1526.35 1621.49 1526.19 Q1622.51 1526 1623.53 1526 Q1629.31 1526 1632.69 1529.17 Q1636.07 1532.34 1636.07 1537.76 Q1636.07 1543.34 1632.6 1546.44 Q1629.13 1549.52 1622.81 1549.52 Q1620.63 1549.52 1618.36 1549.15 Q1616.12 1548.78 1613.71 1548.04 L1613.71 1543.34 Q1615.8 1544.47 1618.02 1545.03 Q1620.24 1545.58 1622.72 1545.58 Q1626.72 1545.58 1629.06 1543.48 Q1631.4 1541.37 1631.4 1537.76 Q1631.4 1534.15 1629.06 1532.04 Q1626.72 1529.94 1622.72 1529.94 Q1620.84 1529.94 1618.97 1530.35 Q1617.11 1530.77 1615.17 1531.65 L1615.17 1514.29 Z\" fill=\"#000000\" fill-rule=\"evenodd\" fill-opacity=\"1\" /><path clip-path=\"url(#clip150)\" d=\"M1655.29 1517.37 Q1651.67 1517.37 1649.85 1520.93 Q1648.04 1524.47 1648.04 1531.6 Q1648.04 1538.71 1649.85 1542.27 Q1651.67 1545.82 1655.29 1545.82 Q1658.92 1545.82 1660.73 1542.27 Q1662.55 1538.71 1662.55 1531.6 Q1662.55 1524.47 1660.73 1520.93 Q1658.92 1517.37 1655.29 1517.37 M1655.29 1513.66 Q1661.1 1513.66 1664.15 1518.27 Q1667.23 1522.85 1667.23 1531.6 Q1667.23 1540.33 1664.15 1544.94 Q1661.1 1549.52 1655.29 1549.52 Q1649.48 1549.52 1646.4 1544.94 Q1643.34 1540.33 1643.34 1531.6 Q1643.34 1522.85 1646.4 1518.27 Q1649.48 1513.66 1655.29 1513.66 Z\" fill=\"#000000\" fill-rule=\"evenodd\" fill-opacity=\"1\" /><path clip-path=\"url(#clip150)\" d=\"M2019.62 1529.7 Q2016.47 1529.7 2014.62 1531.86 Q2012.79 1534.01 2012.79 1537.76 Q2012.79 1541.49 2014.62 1543.66 Q2016.47 1545.82 2019.62 1545.82 Q2022.77 1545.82 2024.6 1543.66 Q2026.45 1541.49 2026.45 1537.76 Q2026.45 1534.01 2024.6 1531.86 Q2022.77 1529.7 2019.62 1529.7 M2028.9 1515.05 L2028.9 1519.31 Q2027.14 1518.48 2025.34 1518.04 Q2023.56 1517.6 2021.8 1517.6 Q2017.17 1517.6 2014.71 1520.72 Q2012.28 1523.85 2011.94 1530.17 Q2013.3 1528.15 2015.36 1527.09 Q2017.42 1526 2019.9 1526 Q2025.11 1526 2028.12 1529.17 Q2031.15 1532.32 2031.15 1537.76 Q2031.15 1543.08 2028 1546.3 Q2024.85 1549.52 2019.62 1549.52 Q2013.63 1549.52 2010.45 1544.94 Q2007.28 1540.33 2007.28 1531.6 Q2007.28 1523.41 2011.17 1518.55 Q2015.06 1513.66 2021.61 1513.66 Q2023.37 1513.66 2025.15 1514.01 Q2026.96 1514.36 2028.9 1515.05 Z\" fill=\"#000000\" fill-rule=\"evenodd\" fill-opacity=\"1\" /><path clip-path=\"url(#clip150)\" d=\"M2049.2 1517.37 Q2045.59 1517.37 2043.76 1520.93 Q2041.96 1524.47 2041.96 1531.6 Q2041.96 1538.71 2043.76 1542.27 Q2045.59 1545.82 2049.2 1545.82 Q2052.84 1545.82 2054.64 1542.27 Q2056.47 1538.71 2056.47 1531.6 Q2056.47 1524.47 2054.64 1520.93 Q2052.84 1517.37 2049.2 1517.37 M2049.2 1513.66 Q2055.01 1513.66 2058.07 1518.27 Q2061.15 1522.85 2061.15 1531.6 Q2061.15 1540.33 2058.07 1544.94 Q2055.01 1549.52 2049.2 1549.52 Q2043.39 1549.52 2040.32 1544.94 Q2037.26 1540.33 2037.26 1531.6 Q2037.26 1522.85 2040.32 1518.27 Q2043.39 1513.66 2049.2 1513.66 Z\" fill=\"#000000\" fill-rule=\"evenodd\" fill-opacity=\"1\" /><polyline clip-path=\"url(#clip152)\" style=\"stroke:#000000; stroke-linecap:butt; stroke-linejoin:round; stroke-width:2; stroke-opacity:0.1; fill:none\" points=\"\n",
       "  140.696,1445.72 2352.76,1445.72 \n",
       "  \"/>\n",
       "<polyline clip-path=\"url(#clip152)\" style=\"stroke:#000000; stroke-linecap:butt; stroke-linejoin:round; stroke-width:2; stroke-opacity:0.1; fill:none\" points=\"\n",
       "  140.696,1194.28 2352.76,1194.28 \n",
       "  \"/>\n",
       "<polyline clip-path=\"url(#clip152)\" style=\"stroke:#000000; stroke-linecap:butt; stroke-linejoin:round; stroke-width:2; stroke-opacity:0.1; fill:none\" points=\"\n",
       "  140.696,942.849 2352.76,942.849 \n",
       "  \"/>\n",
       "<polyline clip-path=\"url(#clip152)\" style=\"stroke:#000000; stroke-linecap:butt; stroke-linejoin:round; stroke-width:2; stroke-opacity:0.1; fill:none\" points=\"\n",
       "  140.696,691.416 2352.76,691.416 \n",
       "  \"/>\n",
       "<polyline clip-path=\"url(#clip152)\" style=\"stroke:#000000; stroke-linecap:butt; stroke-linejoin:round; stroke-width:2; stroke-opacity:0.1; fill:none\" points=\"\n",
       "  140.696,439.983 2352.76,439.983 \n",
       "  \"/>\n",
       "<polyline clip-path=\"url(#clip152)\" style=\"stroke:#000000; stroke-linecap:butt; stroke-linejoin:round; stroke-width:2; stroke-opacity:0.1; fill:none\" points=\"\n",
       "  140.696,188.55 2352.76,188.55 \n",
       "  \"/>\n",
       "<polyline clip-path=\"url(#clip150)\" style=\"stroke:#000000; stroke-linecap:butt; stroke-linejoin:round; stroke-width:4; stroke-opacity:1; fill:none\" points=\"\n",
       "  140.696,1486.45 140.696,47.2441 \n",
       "  \"/>\n",
       "<polyline clip-path=\"url(#clip150)\" style=\"stroke:#000000; stroke-linecap:butt; stroke-linejoin:round; stroke-width:4; stroke-opacity:1; fill:none\" points=\"\n",
       "  140.696,1445.72 159.593,1445.72 \n",
       "  \"/>\n",
       "<polyline clip-path=\"url(#clip150)\" style=\"stroke:#000000; stroke-linecap:butt; stroke-linejoin:round; stroke-width:4; stroke-opacity:1; fill:none\" points=\"\n",
       "  140.696,1194.28 159.593,1194.28 \n",
       "  \"/>\n",
       "<polyline clip-path=\"url(#clip150)\" style=\"stroke:#000000; stroke-linecap:butt; stroke-linejoin:round; stroke-width:4; stroke-opacity:1; fill:none\" points=\"\n",
       "  140.696,942.849 159.593,942.849 \n",
       "  \"/>\n",
       "<polyline clip-path=\"url(#clip150)\" style=\"stroke:#000000; stroke-linecap:butt; stroke-linejoin:round; stroke-width:4; stroke-opacity:1; fill:none\" points=\"\n",
       "  140.696,691.416 159.593,691.416 \n",
       "  \"/>\n",
       "<polyline clip-path=\"url(#clip150)\" style=\"stroke:#000000; stroke-linecap:butt; stroke-linejoin:round; stroke-width:4; stroke-opacity:1; fill:none\" points=\"\n",
       "  140.696,439.983 159.593,439.983 \n",
       "  \"/>\n",
       "<polyline clip-path=\"url(#clip150)\" style=\"stroke:#000000; stroke-linecap:butt; stroke-linejoin:round; stroke-width:4; stroke-opacity:1; fill:none\" points=\"\n",
       "  140.696,188.55 159.593,188.55 \n",
       "  \"/>\n",
       "<path clip-path=\"url(#clip150)\" d=\"M92.7512 1431.51 Q89.1401 1431.51 87.3114 1435.08 Q85.5058 1438.62 85.5058 1445.75 Q85.5058 1452.86 87.3114 1456.42 Q89.1401 1459.96 92.7512 1459.96 Q96.3854 1459.96 98.1909 1456.42 Q100.02 1452.86 100.02 1445.75 Q100.02 1438.62 98.1909 1435.08 Q96.3854 1431.51 92.7512 1431.51 M92.7512 1427.81 Q98.5613 1427.81 101.617 1432.42 Q104.696 1437 104.696 1445.75 Q104.696 1454.48 101.617 1459.08 Q98.5613 1463.67 92.7512 1463.67 Q86.941 1463.67 83.8623 1459.08 Q80.8068 1454.48 80.8068 1445.75 Q80.8068 1437 83.8623 1432.42 Q86.941 1427.81 92.7512 1427.81 Z\" fill=\"#000000\" fill-rule=\"evenodd\" fill-opacity=\"1\" /><path clip-path=\"url(#clip150)\" d=\"M83.7929 1177 L102.149 1177 L102.149 1180.94 L88.0753 1180.94 L88.0753 1189.41 Q89.0938 1189.06 90.1123 1188.9 Q91.1308 1188.72 92.1493 1188.72 Q97.9363 1188.72 101.316 1191.89 Q104.696 1195.06 104.696 1200.47 Q104.696 1206.05 101.223 1209.16 Q97.7511 1212.23 91.4317 1212.23 Q89.2558 1212.23 86.9873 1211.86 Q84.7419 1211.49 82.3346 1210.75 L82.3346 1206.05 Q84.4179 1207.19 86.6401 1207.74 Q88.8623 1208.3 91.3391 1208.3 Q95.3437 1208.3 97.6817 1206.19 Q100.02 1204.09 100.02 1200.47 Q100.02 1196.86 97.6817 1194.76 Q95.3437 1192.65 91.3391 1192.65 Q89.4641 1192.65 87.5892 1193.07 Q85.7373 1193.48 83.7929 1194.36 L83.7929 1177 Z\" fill=\"#000000\" fill-rule=\"evenodd\" fill-opacity=\"1\" /><path clip-path=\"url(#clip150)\" d=\"M53.3995 956.194 L61.0384 956.194 L61.0384 929.828 L52.7282 931.495 L52.7282 927.236 L60.9921 925.569 L65.668 925.569 L65.668 956.194 L73.3068 956.194 L73.3068 960.129 L53.3995 960.129 L53.3995 956.194 Z\" fill=\"#000000\" fill-rule=\"evenodd\" fill-opacity=\"1\" /><path clip-path=\"url(#clip150)\" d=\"M92.7512 928.648 Q89.1401 928.648 87.3114 932.213 Q85.5058 935.754 85.5058 942.884 Q85.5058 949.99 87.3114 953.555 Q89.1401 957.097 92.7512 957.097 Q96.3854 957.097 98.1909 953.555 Q100.02 949.99 100.02 942.884 Q100.02 935.754 98.1909 932.213 Q96.3854 928.648 92.7512 928.648 M92.7512 924.944 Q98.5613 924.944 101.617 929.551 Q104.696 934.134 104.696 942.884 Q104.696 951.611 101.617 956.217 Q98.5613 960.801 92.7512 960.801 Q86.941 960.801 83.8623 956.217 Q80.8068 951.611 80.8068 942.884 Q80.8068 934.134 83.8623 929.551 Q86.941 924.944 92.7512 924.944 Z\" fill=\"#000000\" fill-rule=\"evenodd\" fill-opacity=\"1\" /><path clip-path=\"url(#clip150)\" d=\"M54.3949 704.761 L62.0337 704.761 L62.0337 678.395 L53.7236 680.062 L53.7236 675.803 L61.9874 674.136 L66.6633 674.136 L66.6633 704.761 L74.3022 704.761 L74.3022 708.696 L54.3949 708.696 L54.3949 704.761 Z\" fill=\"#000000\" fill-rule=\"evenodd\" fill-opacity=\"1\" /><path clip-path=\"url(#clip150)\" d=\"M83.7929 674.136 L102.149 674.136 L102.149 678.071 L88.0753 678.071 L88.0753 686.543 Q89.0938 686.196 90.1123 686.034 Q91.1308 685.849 92.1493 685.849 Q97.9363 685.849 101.316 689.02 Q104.696 692.191 104.696 697.608 Q104.696 703.187 101.223 706.289 Q97.7511 709.367 91.4317 709.367 Q89.2558 709.367 86.9873 708.997 Q84.7419 708.627 82.3346 707.886 L82.3346 703.187 Q84.4179 704.321 86.6401 704.877 Q88.8623 705.432 91.3391 705.432 Q95.3437 705.432 97.6817 703.326 Q100.02 701.219 100.02 697.608 Q100.02 693.997 97.6817 691.891 Q95.3437 689.784 91.3391 689.784 Q89.4641 689.784 87.5892 690.201 Q85.7373 690.617 83.7929 691.497 L83.7929 674.136 Z\" fill=\"#000000\" fill-rule=\"evenodd\" fill-opacity=\"1\" /><path clip-path=\"url(#clip150)\" d=\"M56.6171 453.328 L72.9365 453.328 L72.9365 457.263 L50.9921 457.263 L50.9921 453.328 Q53.6541 450.573 58.2375 445.943 Q62.8439 441.291 64.0245 439.948 Q66.2698 437.425 67.1494 435.689 Q68.0522 433.93 68.0522 432.24 Q68.0522 429.485 66.1078 427.749 Q64.1865 426.013 61.0847 426.013 Q58.8856 426.013 56.4319 426.777 Q54.0014 427.541 51.2236 429.092 L51.2236 424.369 Q54.0477 423.235 56.5014 422.656 Q58.955 422.078 60.9921 422.078 Q66.3624 422.078 69.5568 424.763 Q72.7513 427.448 72.7513 431.939 Q72.7513 434.068 71.9411 435.99 Q71.1541 437.888 69.0476 440.48 Q68.4689 441.152 65.367 444.369 Q62.2652 447.564 56.6171 453.328 Z\" fill=\"#000000\" fill-rule=\"evenodd\" fill-opacity=\"1\" /><path clip-path=\"url(#clip150)\" d=\"M92.7512 425.781 Q89.1401 425.781 87.3114 429.346 Q85.5058 432.888 85.5058 440.018 Q85.5058 447.124 87.3114 450.689 Q89.1401 454.23 92.7512 454.23 Q96.3854 454.23 98.1909 450.689 Q100.02 447.124 100.02 440.018 Q100.02 432.888 98.1909 429.346 Q96.3854 425.781 92.7512 425.781 M92.7512 422.078 Q98.5613 422.078 101.617 426.684 Q104.696 431.268 104.696 440.018 Q104.696 448.744 101.617 453.351 Q98.5613 457.934 92.7512 457.934 Q86.941 457.934 83.8623 453.351 Q80.8068 448.744 80.8068 440.018 Q80.8068 431.268 83.8623 426.684 Q86.941 422.078 92.7512 422.078 Z\" fill=\"#000000\" fill-rule=\"evenodd\" fill-opacity=\"1\" /><path clip-path=\"url(#clip150)\" d=\"M57.6125 201.894 L73.9318 201.894 L73.9318 205.83 L51.9875 205.83 L51.9875 201.894 Q54.6495 199.14 59.2328 194.51 Q63.8393 189.857 65.0198 188.515 Q67.2652 185.992 68.1448 184.256 Q69.0476 182.496 69.0476 180.807 Q69.0476 178.052 67.1032 176.316 Q65.1819 174.58 62.08 174.58 Q59.881 174.58 57.4273 175.344 Q54.9967 176.108 52.219 177.658 L52.219 172.936 Q55.043 171.802 57.4967 171.223 Q59.9504 170.645 61.9874 170.645 Q67.3578 170.645 70.5522 173.33 Q73.7466 176.015 73.7466 180.506 Q73.7466 182.635 72.9365 184.557 Q72.1494 186.455 70.0429 189.047 Q69.4642 189.719 66.3624 192.936 Q63.2606 196.131 57.6125 201.894 Z\" fill=\"#000000\" fill-rule=\"evenodd\" fill-opacity=\"1\" /><path clip-path=\"url(#clip150)\" d=\"M83.7929 171.27 L102.149 171.27 L102.149 175.205 L88.0753 175.205 L88.0753 183.677 Q89.0938 183.33 90.1123 183.168 Q91.1308 182.982 92.1493 182.982 Q97.9363 182.982 101.316 186.154 Q104.696 189.325 104.696 194.742 Q104.696 200.32 101.223 203.422 Q97.7511 206.501 91.4317 206.501 Q89.2558 206.501 86.9873 206.13 Q84.7419 205.76 82.3346 205.019 L82.3346 200.32 Q84.4179 201.455 86.6401 202.01 Q88.8623 202.566 91.3391 202.566 Q95.3437 202.566 97.6817 200.459 Q100.02 198.353 100.02 194.742 Q100.02 191.131 97.6817 189.024 Q95.3437 186.918 91.3391 186.918 Q89.4641 186.918 87.5892 187.334 Q85.7373 187.751 83.7929 188.631 L83.7929 171.27 Z\" fill=\"#000000\" fill-rule=\"evenodd\" fill-opacity=\"1\" /><path clip-path=\"url(#clip152)\" d=\"\n",
       "M262.363 1395.43 L262.363 1445.72 L459.235 1445.72 L459.235 1395.43 L262.363 1395.43 L262.363 1395.43  Z\n",
       "  \" fill=\"#009af9\" fill-rule=\"evenodd\" fill-opacity=\"1\"/>\n",
       "<polyline clip-path=\"url(#clip152)\" style=\"stroke:#000000; stroke-linecap:butt; stroke-linejoin:round; stroke-width:4; stroke-opacity:1; fill:none\" points=\"\n",
       "  262.363,1395.43 262.363,1445.72 459.235,1445.72 459.235,1395.43 262.363,1395.43 \n",
       "  \"/>\n",
       "<path clip-path=\"url(#clip152)\" d=\"\n",
       "M459.235 691.416 L459.235 1445.72 L656.108 1445.72 L656.108 691.416 L459.235 691.416 L459.235 691.416  Z\n",
       "  \" fill=\"#009af9\" fill-rule=\"evenodd\" fill-opacity=\"1\"/>\n",
       "<polyline clip-path=\"url(#clip152)\" style=\"stroke:#000000; stroke-linecap:butt; stroke-linejoin:round; stroke-width:4; stroke-opacity:1; fill:none\" points=\"\n",
       "  459.235,691.416 459.235,1445.72 656.108,1445.72 656.108,691.416 459.235,691.416 \n",
       "  \"/>\n",
       "<path clip-path=\"url(#clip152)\" d=\"\n",
       "M656.108 87.9763 L656.108 1445.72 L852.981 1445.72 L852.981 87.9763 L656.108 87.9763 L656.108 87.9763  Z\n",
       "  \" fill=\"#009af9\" fill-rule=\"evenodd\" fill-opacity=\"1\"/>\n",
       "<polyline clip-path=\"url(#clip152)\" style=\"stroke:#000000; stroke-linecap:butt; stroke-linejoin:round; stroke-width:4; stroke-opacity:1; fill:none\" points=\"\n",
       "  656.108,87.9763 656.108,1445.72 852.981,1445.72 852.981,87.9763 656.108,87.9763 \n",
       "  \"/>\n",
       "<path clip-path=\"url(#clip152)\" d=\"\n",
       "M852.981 490.269 L852.981 1445.72 L1049.85 1445.72 L1049.85 490.269 L852.981 490.269 L852.981 490.269  Z\n",
       "  \" fill=\"#009af9\" fill-rule=\"evenodd\" fill-opacity=\"1\"/>\n",
       "<polyline clip-path=\"url(#clip152)\" style=\"stroke:#000000; stroke-linecap:butt; stroke-linejoin:round; stroke-width:4; stroke-opacity:1; fill:none\" points=\"\n",
       "  852.981,490.269 852.981,1445.72 1049.85,1445.72 1049.85,490.269 852.981,490.269 \n",
       "  \"/>\n",
       "<path clip-path=\"url(#clip152)\" d=\"\n",
       "M1049.85 490.269 L1049.85 1445.72 L1246.73 1445.72 L1246.73 490.269 L1049.85 490.269 L1049.85 490.269  Z\n",
       "  \" fill=\"#009af9\" fill-rule=\"evenodd\" fill-opacity=\"1\"/>\n",
       "<polyline clip-path=\"url(#clip152)\" style=\"stroke:#000000; stroke-linecap:butt; stroke-linejoin:round; stroke-width:4; stroke-opacity:1; fill:none\" points=\"\n",
       "  1049.85,490.269 1049.85,1445.72 1246.73,1445.72 1246.73,490.269 1049.85,490.269 \n",
       "  \"/>\n",
       "<path clip-path=\"url(#clip152)\" d=\"\n",
       "M1246.73 1043.42 L1246.73 1445.72 L1443.6 1445.72 L1443.6 1043.42 L1246.73 1043.42 L1246.73 1043.42  Z\n",
       "  \" fill=\"#009af9\" fill-rule=\"evenodd\" fill-opacity=\"1\"/>\n",
       "<polyline clip-path=\"url(#clip152)\" style=\"stroke:#000000; stroke-linecap:butt; stroke-linejoin:round; stroke-width:4; stroke-opacity:1; fill:none\" points=\"\n",
       "  1246.73,1043.42 1246.73,1445.72 1443.6,1445.72 1443.6,1043.42 1246.73,1043.42 \n",
       "  \"/>\n",
       "<path clip-path=\"url(#clip152)\" d=\"\n",
       "M1443.6 1144 L1443.6 1445.72 L1640.47 1445.72 L1640.47 1144 L1443.6 1144 L1443.6 1144  Z\n",
       "  \" fill=\"#009af9\" fill-rule=\"evenodd\" fill-opacity=\"1\"/>\n",
       "<polyline clip-path=\"url(#clip152)\" style=\"stroke:#000000; stroke-linecap:butt; stroke-linejoin:round; stroke-width:4; stroke-opacity:1; fill:none\" points=\"\n",
       "  1443.6,1144 1443.6,1445.72 1640.47,1445.72 1640.47,1144 1443.6,1144 \n",
       "  \"/>\n",
       "<path clip-path=\"url(#clip152)\" d=\"\n",
       "M1640.47 1345.14 L1640.47 1445.72 L1837.34 1445.72 L1837.34 1345.14 L1640.47 1345.14 L1640.47 1345.14  Z\n",
       "  \" fill=\"#009af9\" fill-rule=\"evenodd\" fill-opacity=\"1\"/>\n",
       "<polyline clip-path=\"url(#clip152)\" style=\"stroke:#000000; stroke-linecap:butt; stroke-linejoin:round; stroke-width:4; stroke-opacity:1; fill:none\" points=\"\n",
       "  1640.47,1345.14 1640.47,1445.72 1837.34,1445.72 1837.34,1345.14 1640.47,1345.14 \n",
       "  \"/>\n",
       "<path clip-path=\"url(#clip152)\" d=\"\n",
       "M1837.34 1345.14 L1837.34 1445.72 L2034.22 1445.72 L2034.22 1345.14 L1837.34 1345.14 L1837.34 1345.14  Z\n",
       "  \" fill=\"#009af9\" fill-rule=\"evenodd\" fill-opacity=\"1\"/>\n",
       "<polyline clip-path=\"url(#clip152)\" style=\"stroke:#000000; stroke-linecap:butt; stroke-linejoin:round; stroke-width:4; stroke-opacity:1; fill:none\" points=\"\n",
       "  1837.34,1345.14 1837.34,1445.72 2034.22,1445.72 2034.22,1345.14 1837.34,1345.14 \n",
       "  \"/>\n",
       "<path clip-path=\"url(#clip152)\" d=\"\n",
       "M2034.22 1395.43 L2034.22 1445.72 L2231.09 1445.72 L2231.09 1395.43 L2034.22 1395.43 L2034.22 1395.43  Z\n",
       "  \" fill=\"#009af9\" fill-rule=\"evenodd\" fill-opacity=\"1\"/>\n",
       "<polyline clip-path=\"url(#clip152)\" style=\"stroke:#000000; stroke-linecap:butt; stroke-linejoin:round; stroke-width:4; stroke-opacity:1; fill:none\" points=\"\n",
       "  2034.22,1395.43 2034.22,1445.72 2231.09,1445.72 2231.09,1395.43 2034.22,1395.43 \n",
       "  \"/>\n",
       "<circle clip-path=\"url(#clip152)\" style=\"fill:#009af9; stroke:none; fill-opacity:0\" cx=\"360.799\" cy=\"1395.43\" r=\"2\"/>\n",
       "<circle clip-path=\"url(#clip152)\" style=\"fill:#009af9; stroke:none; fill-opacity:0\" cx=\"557.672\" cy=\"691.416\" r=\"2\"/>\n",
       "<circle clip-path=\"url(#clip152)\" style=\"fill:#009af9; stroke:none; fill-opacity:0\" cx=\"754.544\" cy=\"87.9763\" r=\"2\"/>\n",
       "<circle clip-path=\"url(#clip152)\" style=\"fill:#009af9; stroke:none; fill-opacity:0\" cx=\"951.417\" cy=\"490.269\" r=\"2\"/>\n",
       "<circle clip-path=\"url(#clip152)\" style=\"fill:#009af9; stroke:none; fill-opacity:0\" cx=\"1148.29\" cy=\"490.269\" r=\"2\"/>\n",
       "<circle clip-path=\"url(#clip152)\" style=\"fill:#009af9; stroke:none; fill-opacity:0\" cx=\"1345.16\" cy=\"1043.42\" r=\"2\"/>\n",
       "<circle clip-path=\"url(#clip152)\" style=\"fill:#009af9; stroke:none; fill-opacity:0\" cx=\"1542.03\" cy=\"1144\" r=\"2\"/>\n",
       "<circle clip-path=\"url(#clip152)\" style=\"fill:#009af9; stroke:none; fill-opacity:0\" cx=\"1738.91\" cy=\"1345.14\" r=\"2\"/>\n",
       "<circle clip-path=\"url(#clip152)\" style=\"fill:#009af9; stroke:none; fill-opacity:0\" cx=\"1935.78\" cy=\"1345.14\" r=\"2\"/>\n",
       "<circle clip-path=\"url(#clip152)\" style=\"fill:#009af9; stroke:none; fill-opacity:0\" cx=\"2132.65\" cy=\"1395.43\" r=\"2\"/>\n",
       "<path clip-path=\"url(#clip150)\" d=\"\n",
       "M2012.73 198.898 L2279.02 198.898 L2279.02 95.2176 L2012.73 95.2176  Z\n",
       "  \" fill=\"#ffffff\" fill-rule=\"evenodd\" fill-opacity=\"1\"/>\n",
       "<polyline clip-path=\"url(#clip150)\" style=\"stroke:#000000; stroke-linecap:butt; stroke-linejoin:round; stroke-width:4; stroke-opacity:1; fill:none\" points=\"\n",
       "  2012.73,198.898 2279.02,198.898 2279.02,95.2176 2012.73,95.2176 2012.73,198.898 \n",
       "  \"/>\n",
       "<path clip-path=\"url(#clip150)\" d=\"\n",
       "M2037.31 167.794 L2184.78 167.794 L2184.78 126.322 L2037.31 126.322 L2037.31 167.794  Z\n",
       "  \" fill=\"#009af9\" fill-rule=\"evenodd\" fill-opacity=\"1\"/>\n",
       "<polyline clip-path=\"url(#clip150)\" style=\"stroke:#000000; stroke-linecap:butt; stroke-linejoin:round; stroke-width:4; stroke-opacity:1; fill:none\" points=\"\n",
       "  2037.31,167.794 2184.78,167.794 2184.78,126.322 2037.31,126.322 2037.31,167.794 \n",
       "  \"/>\n",
       "<path clip-path=\"url(#clip150)\" d=\"M2229.86 139.407 L2229.86 143.389 Q2228.06 142.393 2226.23 141.907 Q2224.42 141.398 2222.57 141.398 Q2218.43 141.398 2216.14 144.037 Q2213.85 146.652 2213.85 151.398 Q2213.85 156.143 2216.14 158.782 Q2218.43 161.398 2222.57 161.398 Q2224.42 161.398 2226.23 160.912 Q2228.06 160.402 2229.86 159.407 L2229.86 163.342 Q2228.08 164.176 2226.16 164.592 Q2224.26 165.009 2222.11 165.009 Q2216.25 165.009 2212.8 161.328 Q2209.35 157.648 2209.35 151.398 Q2209.35 145.055 2212.83 141.421 Q2216.32 137.787 2222.39 137.787 Q2224.35 137.787 2226.23 138.203 Q2228.1 138.597 2229.86 139.407 Z\" fill=\"#000000\" fill-rule=\"evenodd\" fill-opacity=\"1\" /></svg>\n"
      ]
     },
     "execution_count": 11,
     "metadata": {},
     "output_type": "execute_result"
    }
   ],
   "source": [
    "df.c = df.consump ./ 1000\n",
    "histogram(df.c, label=\"c\")"
   ]
  },
  {
   "cell_type": "markdown",
   "id": "fd5f28d8-12b8-4930-9fa6-c4abeeadb487",
   "metadata": {
    "slideshow": {
     "slide_type": "slide"
    },
    "tags": []
   },
   "source": [
    "## Estimation: preliminaries\n",
    "\n",
    "Since we will need to compute simulated moments, it is a good idea to start with a function that calculates $E[\\hat{C}(w_i, e_i, \\gamma, \\tau)]$ and $E[\\hat{L}(w_i, e_i, \\gamma, \\tau)]$ for all observations\n",
    "\n",
    "**Your turn, part 3**: \n",
    "Program function `solve_all_Ec_El(gamma, tau)`, which loops over all observations in the data set, applies `solve_Ec_El(w, gamma, tau, R)` for each and stores it in a vector. Then, it returns the vectors of `cs` and `ls`\n",
    "- Use `R = 20` for this example. This is much smaller than you'd use for an actual problem, but we want to have a solution before the end of the semester!"
   ]
  },
  {
   "cell_type": "code",
   "execution_count": 12,
   "id": "54e0baeb-925d-4c4d-8318-5aa569ebcac0",
   "metadata": {
    "slideshow": {
     "slide_type": "slide"
    },
    "tags": []
   },
   "outputs": [
    {
     "data": {
      "text/plain": [
       "solve_all_Ec_El (generic function with 1 method)"
      ]
     },
     "execution_count": 12,
     "metadata": {},
     "output_type": "execute_result"
    }
   ],
   "source": [
    "N = nrow(df)\n",
    "function solve_all_Ec_El(gamma, tau)\n",
    "    # Vectors to store simulated moments    \n",
    "    cs = zeros(N)\n",
    "    ls = zeros(N)\n",
    "    # Number of MC draws\n",
    "    R = 20 # Should be more, but we need to solve it before 10 AM!\n",
    "    # Loop over individuals\n",
    "    for i in 1:N\n",
    "        cs[i], ls[i] = solve_Ec_El(df.w[i], gamma, tau, R)\n",
    "    end\n",
    "    return (cs, ls)\n",
    "end"
   ]
  },
  {
   "cell_type": "code",
   "execution_count": 13,
   "id": "e96c56d5-08c4-4347-b720-06107a41f8aa",
   "metadata": {
    "slideshow": {
     "slide_type": "slide"
    },
    "tags": []
   },
   "outputs": [
    {
     "name": "stdout",
     "output_type": "stream",
     "text": [
      "  9.560192 seconds (1.27 M allocations: 69.567 MiB, 0.10% compilation time)\n"
     ]
    },
    {
     "data": {
      "text/plain": [
       "([22.809678213973324, 22.762862225235374, 19.905273142892163, 30.35602105838056, 28.410749491106838, 31.86417433665908, 23.282850522845216, 27.38589177579676, 32.495404469665566, 21.32178022875484  …  26.91488104479212, 25.1481469680677, 19.33562088528444, 28.665133017067312, 42.36990440524024, 37.418504465619364, 36.32833781207471, 23.917278814836244, 23.48053818558538, 30.673884119218418], [0.6013688027170419, 0.5974128178664453, 0.5976267315993915, 0.599305476000657, 0.595703112569758, 0.6008933817185136, 0.5978423421876962, 0.6043209514501098, 0.6000865055230123, 0.6004376227063115  …  0.5950617496999568, 0.6001371441749659, 0.6015911494953401, 0.5999500395972288, 0.6020778524841972, 0.5996324558965271, 0.6004525122290275, 0.5995026654487431, 0.5982729496716688, 0.6007137155796765])"
      ]
     },
     "execution_count": 13,
     "metadata": {},
     "output_type": "execute_result"
    }
   ],
   "source": [
    "@time solve_all_Ec_El(0.4, 0.1)"
   ]
  },
  {
   "cell_type": "markdown",
   "id": "e455b627-b727-4164-b121-780443cc3c2e",
   "metadata": {
    "slideshow": {
     "slide_type": "slide"
    },
    "tags": []
   },
   "source": [
    "## Extra: parallel processing\n",
    "\n",
    "Optimization problems are independent across observations, so we can solve then separately. This is a great case for parallel processing. \n",
    "\n",
    "We won't have time to cover the details, which you can read here https://docs.julialang.org/en/v1/manual/multi-threading/\n",
    "\n",
    "But just for the sake of demonstration, I will define a version of the previous function that runs on multiple cores\n",
    "- You need to set your Julia environment to run with multiple threads. On my laptop, I set it to use all 8 cores"
   ]
  },
  {
   "cell_type": "code",
   "execution_count": 14,
   "id": "78790d01-2057-4518-9a49-d41ee694db6a",
   "metadata": {},
   "outputs": [
    {
     "data": {
      "text/plain": [
       "8"
      ]
     },
     "execution_count": 14,
     "metadata": {},
     "output_type": "execute_result"
    }
   ],
   "source": [
    "Threads.nthreads()"
   ]
  },
  {
   "cell_type": "code",
   "execution_count": 15,
   "id": "0f169455-5c4b-4fc8-84d5-5add93bb4005",
   "metadata": {
    "slideshow": {
     "slide_type": "slide"
    },
    "tags": []
   },
   "outputs": [
    {
     "data": {
      "text/plain": [
       "parallel_solve_all_Ec_El (generic function with 1 method)"
      ]
     },
     "execution_count": 15,
     "metadata": {},
     "output_type": "execute_result"
    }
   ],
   "source": [
    "function parallel_solve_all_Ec_El(gamma, tau)\n",
    "    # Vectors to store simulated moments    \n",
    "    cs = zeros(N)\n",
    "    ls = zeros(N)\n",
    "    # Number of MC draws\n",
    "    R = 20 # Should be more, but we need to solve it before 10 AM!\n",
    "    # Loop over individuals\n",
    "    Threads.@threads for i in 1:N\n",
    "        cs[i], ls[i] = solve_Ec_El(df.w[i], gamma, tau, R)\n",
    "    end\n",
    "    return (cs, ls)\n",
    "end\n"
   ]
  },
  {
   "cell_type": "code",
   "execution_count": 16,
   "id": "df1e1b13-61ec-4d13-8ca4-cee06c910edb",
   "metadata": {
    "slideshow": {
     "slide_type": "slide"
    },
    "tags": []
   },
   "outputs": [
    {
     "name": "stdout",
     "output_type": "stream",
     "text": [
      "  9.767933 seconds (1.27 M allocations: 69.565 MiB)\n"
     ]
    },
    {
     "data": {
      "text/plain": [
       "([22.718516598121262, 22.822309013851935, 19.881254444613898, 30.46618456431987, 28.677815082086926, 31.73090389576683, 23.507365619792875, 27.36953954425486, 32.486401424002906, 21.349624675785982  …  26.949147671056636, 25.017497897199924, 19.309625469549943, 28.65869616996299, 42.33382417014266, 37.5281435964148, 36.46328940500977, 23.96431427015203, 23.679617480401475, 30.604798712837635], [0.598965360146115, 0.5989730027435511, 0.5969056052919612, 0.601480385290594, 0.6013028171268467, 0.5983801728442221, 0.6036072991450322, 0.6039601088680188, 0.5999202479766642, 0.6012217436076641  …  0.595819351358907, 0.5970193255842321, 0.600782351469801, 0.5998153189012231, 0.6015651510580424, 0.6013894256639845, 0.6026830580701248, 0.6006816407384472, 0.6033453954473358, 0.5993607551625177])"
      ]
     },
     "execution_count": 16,
     "metadata": {},
     "output_type": "execute_result"
    }
   ],
   "source": [
    "@time solve_all_Ec_El(0.4, 0.1)"
   ]
  },
  {
   "cell_type": "code",
   "execution_count": 18,
   "id": "71a9135d-7539-4843-b947-77a1addc5781",
   "metadata": {},
   "outputs": [
    {
     "name": "stdout",
     "output_type": "stream",
     "text": [
      "  8.003947 seconds (1.27 M allocations: 69.561 MiB)\n"
     ]
    },
    {
     "data": {
      "text/plain": [
       "([22.723700135225094, 22.924491601492512, 19.895004687867672, 30.443473937871715, 28.724454017266602, 31.826657487902516, 23.406278865930165, 27.126506874485194, 32.60351778190734, 21.379692263104978  …  27.04805252114709, 25.123248739193162, 19.245664427285543, 28.58219581419305, 42.22210438363324, 37.3803346291616, 36.22711140723336, 23.77875602005989, 23.5229229736665, 30.57028925878268], [0.5991020222008422, 0.6016547914781003, 0.5973184362450488, 0.6010320194543523, 0.6022807201835569, 0.6001858904197479, 0.6010116572812045, 0.5985971381990087, 0.6020830136641215, 0.6020684698377708  …  0.5980060410611875, 0.5995429710899368, 0.5987923250302102, 0.5982141963345875, 0.5999776089111569, 0.5990207833282605, 0.5987793927688854, 0.5960304985205465, 0.5993528939170844, 0.5986849261007199])"
      ]
     },
     "execution_count": 18,
     "metadata": {},
     "output_type": "execute_result"
    }
   ],
   "source": [
    "@time parallel_solve_all_Ec_El(0.4, 0.1)"
   ]
  },
  {
   "cell_type": "markdown",
   "id": "a68cc22f-aef4-496e-a361-42600d7a2524",
   "metadata": {
    "slideshow": {
     "slide_type": "slide"
    },
    "tags": []
   },
   "source": [
    "## Estimation: computing simulated moments\n",
    "\n",
    "We can now write a function to calculate moments for us. Since we have the same number of moment conditions and parameters to be estimated, we can safely ignore the weighting matrix and minimize the sum of squared moments\n",
    "- Alternatively, we could estimate parameters by solving the nonlinear system with the simulated moments"
   ]
  },
  {
   "cell_type": "markdown",
   "id": "4011fbb7-4f10-4b86-abb6-06bdd598efe8",
   "metadata": {
    "slideshow": {
     "slide_type": "fragment"
    },
    "tags": []
   },
   "source": [
    "To prevent the solver from trying invalid parameter values, we will once again use a trick to map parameter values. But, instead of just using the log/exp transformation, we will use $\\frac{\\exp(\\theta)}{1 + \\exp(\\theta)}$, which maps any real value into the $(0,1)$ interval"
   ]
  },
  {
   "cell_type": "code",
   "execution_count": 19,
   "id": "dc17eea8-ab6c-4d1e-8768-00f9e3ab8d38",
   "metadata": {
    "slideshow": {
     "slide_type": "slide"
    },
    "tags": []
   },
   "outputs": [
    {
     "data": {
      "text/plain": [
       "Q (generic function with 1 method)"
      ]
     },
     "execution_count": 19,
     "metadata": {},
     "output_type": "execute_result"
    }
   ],
   "source": [
    "function Q(theta)\n",
    "    # Transform theta to ensure (0,1) interval\n",
    "    theta = exp.(theta) ./ (1.0 .+ exp.(theta))\n",
    "    gamma = theta[1]\n",
    "    tau = theta[2]\n",
    "    \n",
    "    # Calculate predicted cs and ls\n",
    "    cs, ls = parallel_solve_all_Ec_El(gamma, tau)\n",
    "    \n",
    "    # First moment condition: E[c_hat - c]\n",
    "    M1 = mean(cs - df.c)\n",
    "    \n",
    "    # Second moment condition: E[l_hat - l]\n",
    "    M2 = mean(ls - df.l)\n",
    "    \n",
    "    # Calculate Q\n",
    "    M1^2 + M2^2\n",
    "end"
   ]
  },
  {
   "cell_type": "markdown",
   "id": "de5b426c-fdef-4d41-a41f-18a4330df379",
   "metadata": {
    "slideshow": {
     "slide_type": "slide"
    },
    "tags": []
   },
   "source": [
    "## Estimation: moment calculation"
   ]
  },
  {
   "cell_type": "markdown",
   "id": "c673b4d9-bf2b-427f-b506-5a546179e5fd",
   "metadata": {},
   "source": [
    "Set initial guess (close to the true values $\\gamma = 0.5$ and $\\tau = 0.12$ to speed up)"
   ]
  },
  {
   "cell_type": "code",
   "execution_count": 20,
   "id": "25da6bbf-8b69-456e-bf08-f13bdee96bec",
   "metadata": {
    "tags": []
   },
   "outputs": [
    {
     "data": {
      "text/plain": [
       "2-element Vector{Float64}:\n",
       " 0.5\n",
       " 0.12280701754385964"
      ]
     },
     "execution_count": 20,
     "metadata": {},
     "output_type": "execute_result"
    }
   ],
   "source": [
    "theta_0 = [0.0, log(0.14)];\n",
    "exp.(theta_0) ./ (1.0 .+ exp.(theta_0))"
   ]
  },
  {
   "cell_type": "markdown",
   "id": "8215824f-92a5-4e9e-b816-89636e556ad5",
   "metadata": {
    "slideshow": {
     "slide_type": "fragment"
    },
    "tags": []
   },
   "source": [
    "Solve the estimation problem\n",
    "- I had to solve it separately on a shell because it was too slow on Jupyter\n",
    "- Convergence becomes problematic when you have too few MC draws because the gradients are random"
   ]
  },
  {
   "cell_type": "code",
   "execution_count": 21,
   "id": "b70f6623-0dca-4715-b8bc-7873d97269d6",
   "metadata": {},
   "outputs": [
    {
     "data": {
      "text/plain": [
       "0.12323005934863802"
      ]
     },
     "execution_count": 21,
     "metadata": {},
     "output_type": "execute_result"
    }
   ],
   "source": [
    "using Optim\n",
    "# res = Optim.optimize(Q, theta_0, Newton(), Optim.Options(x_tol = 1e-2, f_tol = 1e-2))\n",
    "gamma_hat = 0.4989901857042725\n",
    "tau_hat = 0.12323005934863802"
   ]
  },
  {
   "cell_type": "markdown",
   "id": "efde1075-5783-4262-8f83-ba7cd041da0d",
   "metadata": {
    "slideshow": {
     "slide_type": "slide"
    },
    "tags": []
   },
   "source": [
    "## Estimation: $E[\\frac{\\partial c}{\\partial \\tau}]$\n",
    "\n",
    "With $\\gamma$ and $\\tau$, we can estimate our parameter of interest:\n",
    "$$\\hat{\\bar{\\psi}} = \\frac{1}{N} \\sum_{i=1}^{N} \\frac{\\partial \\hat{C}_i}{\\partial \\tau}$$\n",
    "\n",
    "How can we calculate that?"
   ]
  },
  {
   "cell_type": "markdown",
   "id": "e1f8141d-e72c-49c6-9b34-e6fee4b0f9fa",
   "metadata": {
    "slideshow": {
     "slide_type": "fragment"
    },
    "tags": []
   },
   "source": [
    "A: Finite differencing: $\\frac{df(x)}{dx} \\approx \\frac{f(x + h) - f(x - h)}{2h}$\n",
    "- Autodifferentiation is also an option, but it might be painful to make it work (we'd have to clearly specify generic types for `ForwardDiff`)"
   ]
  },
  {
   "cell_type": "code",
   "execution_count": 23,
   "id": "ebac44bf-e728-4228-9a8e-bb2d65961d10",
   "metadata": {
    "slideshow": {
     "slide_type": "slide"
    },
    "tags": []
   },
   "outputs": [
    {
     "data": {
      "text/plain": [
       "dc_dtau (generic function with 1 method)"
      ]
     },
     "execution_count": 23,
     "metadata": {},
     "output_type": "execute_result"
    }
   ],
   "source": [
    "function dc_dtau(gamma,tau,h)\n",
    "    # Calculate c with tau + h\n",
    "    cs_p, ls_p = parallel_solve_all_Ec_El(gamma, tau + h)\n",
    "    # Calculate c with tau - h\n",
    "    cs_m, ls_m = parallel_solve_all_Ec_El(gamma, tau - h)\n",
    "    # Take differences and average out\n",
    "    (mean(cs_p - cs_m)) ./ (2*h)\n",
    "end"
   ]
  },
  {
   "cell_type": "markdown",
   "id": "9b0e67d5-8665-40bf-8967-24f7702f4bef",
   "metadata": {
    "slideshow": {
     "slide_type": "slide"
    },
    "tags": []
   },
   "source": [
    "## Estimation: $E[\\frac{\\partial c}{\\partial \\tau}]$"
   ]
  },
  {
   "cell_type": "code",
   "execution_count": 24,
   "id": "76f5594b-1946-4a80-ace7-a7d3bf28dcb1",
   "metadata": {
    "tags": []
   },
   "outputs": [
    {
     "data": {
      "text/plain": [
       "-38.68203957749746"
      ]
     },
     "execution_count": 24,
     "metadata": {},
     "output_type": "execute_result"
    }
   ],
   "source": [
    "dc_dtau(gamma_hat, tau_hat, 0.01)"
   ]
  },
  {
   "cell_type": "markdown",
   "id": "d7271077-0331-4808-a928-72c6bb47f1bf",
   "metadata": {
    "slideshow": {
     "slide_type": "fragment"
    },
    "tags": []
   },
   "source": [
    "This is pretty close to the actual analytical value: $\\bar{\\Psi} = -\\gamma \\bar{w_i}$"
   ]
  },
  {
   "cell_type": "code",
   "execution_count": 26,
   "id": "66f8b323-3dcf-4150-a756-188b813c5214",
   "metadata": {},
   "outputs": [
    {
     "data": {
      "text/plain": [
       "-37.95678"
      ]
     },
     "execution_count": 26,
     "metadata": {},
     "output_type": "execute_result"
    }
   ],
   "source": [
    "-0.5 * mean(df.w)"
   ]
  },
  {
   "cell_type": "markdown",
   "id": "fd23564d-f8fe-4735-86ee-ba8ccad5fc9b",
   "metadata": {
    "slideshow": {
     "slide_type": "slide"
    },
    "tags": []
   },
   "source": [
    "## Final words\n",
    "\n",
    "- We were able to estimate the parameters even without knowing the analytical solution to optimal consumption and labor supply! In fact, we could solve and show that\n",
    "$$\n",
    "C(w_i, \\epsilon_i, \\gamma, \\tau) = \\gamma (1-\\tau)w_i + \\gamma \\epsilon_i\\\\\n",
    "L(w_i, \\epsilon_i, \\gamma, \\tau) = (1-\\gamma) + \\frac{(1-\\gamma)\\epsilon_i}{(1-\\tau)w_i}\n",
    "$$\n",
    "    - But remember not all models yield have closed-form expressions, so this method is quite powerful"
   ]
  },
  {
   "cell_type": "markdown",
   "id": "fa5cbfc8-7435-4826-9d7b-2aff05061249",
   "metadata": {
    "slideshow": {
     "slide_type": "slide"
    },
    "tags": []
   },
   "source": [
    "## Final words\n",
    "\n",
    "- We did not estimate the variance of parameters nor the variance of $\\bar{\\psi}$. But you can already anticipate that it could take a lot of time\n",
    "    - With the Delta method, we would not have closed-form derivatives, so we'd need to do numerical differentiation\n",
    "    - With bootstrapping, it would REALLY, **REALLY** take a lot of time\n",
    "        - About 4 minutes to solve with few MC draws, only 100 observations and huge tolerance. With a large data set, this could easily take an hour to solve\n",
    "        - Multiply that by a 1000 bootstrap draws and you quickly realize you'd need to optimize your code and rent an HPC if you want results before graduation"
   ]
  }
 ],
 "metadata": {
  "kernelspec": {
   "display_name": "Julia 1.7.1",
   "language": "julia",
   "name": "julia-1.7"
  },
  "language_info": {
   "file_extension": ".jl",
   "mimetype": "application/julia",
   "name": "julia",
   "version": "1.7.1"
  }
 },
 "nbformat": 4,
 "nbformat_minor": 5
}
